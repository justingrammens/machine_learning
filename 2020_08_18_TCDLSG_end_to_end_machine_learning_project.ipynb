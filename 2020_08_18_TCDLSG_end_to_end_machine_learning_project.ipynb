{
  "nbformat": 4,
  "nbformat_minor": 0,
  "metadata": {
    "kernelspec": {
      "display_name": "Python 3",
      "language": "python",
      "name": "python3"
    },
    "language_info": {
      "codemirror_mode": {
        "name": "ipython",
        "version": 3
      },
      "file_extension": ".py",
      "mimetype": "text/x-python",
      "name": "python",
      "nbconvert_exporter": "python",
      "pygments_lexer": "ipython3",
      "version": "3.7.6"
    },
    "nav_menu": {
      "height": "279px",
      "width": "309px"
    },
    "toc": {
      "nav_menu": {},
      "number_sections": true,
      "sideBar": true,
      "skip_h1_title": false,
      "toc_cell": false,
      "toc_position": {},
      "toc_section_display": "block",
      "toc_window_display": false
    },
    "colab": {
      "name": "2020-08-18-TCDLSG_end_to_end_machine_learning_project.ipynb",
      "provenance": [],
      "collapsed_sections": [
        "H3HlBeqQEhVo",
        "ZbO4TLHbEhVu",
        "KPwgcq5SEhV6",
        "yZMTGTK0EhV-"
      ],
      "include_colab_link": true
    },
    "accelerator": "GPU"
  },
  "cells": [
    {
      "cell_type": "markdown",
      "metadata": {
        "id": "view-in-github",
        "colab_type": "text"
      },
      "source": [
        "<a href=\"https://colab.research.google.com/github/justingrammens/machine_learning/blob/master/2020_08_18_TCDLSG_end_to_end_machine_learning_project.ipynb\" target=\"_parent\"><img src=\"https://colab.research.google.com/assets/colab-badge.svg\" alt=\"Open In Colab\"/></a>"
      ]
    },
    {
      "cell_type": "markdown",
      "metadata": {
        "id": "EdzrEHphEhSg",
        "colab_type": "text"
      },
      "source": [
        "**Chapter 2 – End-to-end Machine Learning project**\n",
        "\n",
        "*Welcome to Machine Learning Housing Corp.! Your task is to predict median house values in Californian districts, given a number of features from these districts.*\n",
        "\n",
        "*This notebook contains all the sample code and solutions to the exercices in chapter 2.* \n",
        "\n",
        "I added additional materials taken from the book to make things clearer as we go through the chapter."
      ]
    },
    {
      "cell_type": "markdown",
      "metadata": {
        "id": "vDfBaGt5GCJF",
        "colab_type": "text"
      },
      "source": [
        "\n",
        "\n",
        "![Main Steps of a Machine Learning Project](https://drive.google.com/uc?export=view&id=190cNdbpWvlWTGszvlQWeT56dA_x3jvK2)"
      ]
    },
    {
      "cell_type": "markdown",
      "metadata": {
        "id": "6fUFQtZBHVOO",
        "colab_type": "text"
      },
      "source": [
        "# Look at the big picture"
      ]
    },
    {
      "cell_type": "markdown",
      "metadata": {
        "id": "qx0WTppOHdUC",
        "colab_type": "text"
      },
      "source": [
        "The big picture on where this particular part will be in the business pipeline \n",
        "\n",
        "![Busines Objective big picture](https://drive.google.com/uc?export=view&id=1sGlafq96Rz4kGV4hUhE44RsSXBD49xzW)"
      ]
    },
    {
      "cell_type": "markdown",
      "metadata": {
        "id": "wNBh8ukXEhSi",
        "colab_type": "text"
      },
      "source": [
        "# Setup"
      ]
    },
    {
      "cell_type": "markdown",
      "metadata": {
        "id": "0Tr0yI6dEhSi",
        "colab_type": "text"
      },
      "source": [
        "First, let's import a few common modules, ensure MatplotLib plots figures inline and prepare a function to save the figures. We also check that Python 3.5 or later is installed (although Python 2.x may work, it is deprecated so we strongly recommend you use Python 3 instead), as well as Scikit-Learn ≥0.20."
      ]
    },
    {
      "cell_type": "code",
      "metadata": {
        "id": "bNwYwHBiEhSj",
        "colab_type": "code",
        "colab": {}
      },
      "source": [
        "# Python ≥3.5 is required\n",
        "import sys\n",
        "assert sys.version_info >= (3, 5)\n",
        "\n",
        "# Scikit-Learn ≥0.20 is required\n",
        "import sklearn\n",
        "assert sklearn.__version__ >= \"0.20\"\n",
        "\n",
        "# Common imports\n",
        "import numpy as np\n",
        "import os\n",
        "\n",
        "# To plot pretty figures\n",
        "%matplotlib inline\n",
        "import matplotlib as mpl\n",
        "import matplotlib.pyplot as plt\n",
        "mpl.rc('axes', labelsize=14)\n",
        "mpl.rc('xtick', labelsize=12)\n",
        "mpl.rc('ytick', labelsize=12)\n",
        "\n",
        "# Where to save the figures\n",
        "PROJECT_ROOT_DIR = \".\"\n",
        "CHAPTER_ID = \"end_to_end_project\"\n",
        "IMAGES_PATH = os.path.join(PROJECT_ROOT_DIR, \"images\", CHAPTER_ID)\n",
        "os.makedirs(IMAGES_PATH, exist_ok=True)\n",
        "\n",
        "def save_fig(fig_id, tight_layout=True, fig_extension=\"png\", resolution=300):\n",
        "    path = os.path.join(IMAGES_PATH, fig_id + \".\" + fig_extension)\n",
        "    print(\"Saving figure\", fig_id)\n",
        "    if tight_layout:\n",
        "        plt.tight_layout()\n",
        "    plt.savefig(path, format=fig_extension, dpi=resolution)\n",
        "\n",
        "# Ignore useless warnings (see SciPy issue #5998)\n",
        "import warnings\n",
        "warnings.filterwarnings(action=\"ignore\", message=\"^internal gelsd\")"
      ],
      "execution_count": null,
      "outputs": []
    },
    {
      "cell_type": "markdown",
      "metadata": {
        "id": "1z6GuUGaEhSm",
        "colab_type": "text"
      },
      "source": [
        "# Get the data"
      ]
    },
    {
      "cell_type": "markdown",
      "metadata": {
        "id": "Z4Z553qvopnp",
        "colab_type": "text"
      },
      "source": [
        "## Download the data"
      ]
    },
    {
      "cell_type": "code",
      "metadata": {
        "id": "husRgvCBEhSm",
        "colab_type": "code",
        "colab": {}
      },
      "source": [
        "import os\n",
        "import tarfile\n",
        "import urllib\n",
        "import urllib.request\n",
        "\n",
        "DOWNLOAD_ROOT = \"https://raw.githubusercontent.com/ageron/handson-ml2/master/\"\n",
        "HOUSING_PATH = os.path.join(\"datasets\", \"housing\")\n",
        "HOUSING_URL = DOWNLOAD_ROOT + \"datasets/housing/housing.tgz\"\n",
        "\n",
        "def fetch_housing_data(housing_url=HOUSING_URL, housing_path=HOUSING_PATH):\n",
        "    if not os.path.isdir(housing_path):\n",
        "        os.makedirs(housing_path)\n",
        "    tgz_path = os.path.join(housing_path, \"housing.tgz\")\n",
        "    urllib.request.urlretrieve(housing_url, tgz_path)\n",
        "    housing_tgz = tarfile.open(tgz_path)\n",
        "    housing_tgz.extractall(path=housing_path)\n",
        "    housing_tgz.close()"
      ],
      "execution_count": null,
      "outputs": []
    },
    {
      "cell_type": "markdown",
      "metadata": {
        "id": "5D24NHhRo6p6",
        "colab_type": "text"
      },
      "source": [
        "This command created a `datasets/housing` folder:"
      ]
    },
    {
      "cell_type": "code",
      "metadata": {
        "id": "raunLwLsEhSo",
        "colab_type": "code",
        "colab": {}
      },
      "source": [
        "fetch_housing_data()"
      ],
      "execution_count": null,
      "outputs": []
    },
    {
      "cell_type": "markdown",
      "metadata": {
        "id": "RgpQ2QJbpEl4",
        "colab_type": "text"
      },
      "source": [
        "Load the data as `housing` pandas DataFrame variable:"
      ]
    },
    {
      "cell_type": "code",
      "metadata": {
        "id": "otkpBwetEhSq",
        "colab_type": "code",
        "colab": {}
      },
      "source": [
        "import pandas as pd\n",
        "\n",
        "def load_housing_data(housing_path=HOUSING_PATH):\n",
        "    csv_path = os.path.join(housing_path, \"housing.csv\")\n",
        "    return pd.read_csv(csv_path)"
      ],
      "execution_count": null,
      "outputs": []
    },
    {
      "cell_type": "markdown",
      "metadata": {
        "id": "525Lqnzdpa21",
        "colab_type": "text"
      },
      "source": [
        "## Take a Quick Look at the Data Structure"
      ]
    },
    {
      "cell_type": "code",
      "metadata": {
        "id": "3JsaOoxZEhSs",
        "colab_type": "code",
        "colab": {
          "base_uri": "https://localhost:8080/",
          "height": 204
        },
        "outputId": "7c2ea79e-c803-4a10-87db-8803a180ff02"
      },
      "source": [
        "housing = load_housing_data()\n",
        "housing.head()"
      ],
      "execution_count": null,
      "outputs": [
        {
          "output_type": "execute_result",
          "data": {
            "text/html": [
              "<div>\n",
              "<style scoped>\n",
              "    .dataframe tbody tr th:only-of-type {\n",
              "        vertical-align: middle;\n",
              "    }\n",
              "\n",
              "    .dataframe tbody tr th {\n",
              "        vertical-align: top;\n",
              "    }\n",
              "\n",
              "    .dataframe thead th {\n",
              "        text-align: right;\n",
              "    }\n",
              "</style>\n",
              "<table border=\"1\" class=\"dataframe\">\n",
              "  <thead>\n",
              "    <tr style=\"text-align: right;\">\n",
              "      <th></th>\n",
              "      <th>longitude</th>\n",
              "      <th>latitude</th>\n",
              "      <th>housing_median_age</th>\n",
              "      <th>total_rooms</th>\n",
              "      <th>total_bedrooms</th>\n",
              "      <th>population</th>\n",
              "      <th>households</th>\n",
              "      <th>median_income</th>\n",
              "      <th>median_house_value</th>\n",
              "      <th>ocean_proximity</th>\n",
              "    </tr>\n",
              "  </thead>\n",
              "  <tbody>\n",
              "    <tr>\n",
              "      <th>0</th>\n",
              "      <td>-122.23</td>\n",
              "      <td>37.88</td>\n",
              "      <td>41.0</td>\n",
              "      <td>880.0</td>\n",
              "      <td>129.0</td>\n",
              "      <td>322.0</td>\n",
              "      <td>126.0</td>\n",
              "      <td>8.3252</td>\n",
              "      <td>452600.0</td>\n",
              "      <td>NEAR BAY</td>\n",
              "    </tr>\n",
              "    <tr>\n",
              "      <th>1</th>\n",
              "      <td>-122.22</td>\n",
              "      <td>37.86</td>\n",
              "      <td>21.0</td>\n",
              "      <td>7099.0</td>\n",
              "      <td>1106.0</td>\n",
              "      <td>2401.0</td>\n",
              "      <td>1138.0</td>\n",
              "      <td>8.3014</td>\n",
              "      <td>358500.0</td>\n",
              "      <td>NEAR BAY</td>\n",
              "    </tr>\n",
              "    <tr>\n",
              "      <th>2</th>\n",
              "      <td>-122.24</td>\n",
              "      <td>37.85</td>\n",
              "      <td>52.0</td>\n",
              "      <td>1467.0</td>\n",
              "      <td>190.0</td>\n",
              "      <td>496.0</td>\n",
              "      <td>177.0</td>\n",
              "      <td>7.2574</td>\n",
              "      <td>352100.0</td>\n",
              "      <td>NEAR BAY</td>\n",
              "    </tr>\n",
              "    <tr>\n",
              "      <th>3</th>\n",
              "      <td>-122.25</td>\n",
              "      <td>37.85</td>\n",
              "      <td>52.0</td>\n",
              "      <td>1274.0</td>\n",
              "      <td>235.0</td>\n",
              "      <td>558.0</td>\n",
              "      <td>219.0</td>\n",
              "      <td>5.6431</td>\n",
              "      <td>341300.0</td>\n",
              "      <td>NEAR BAY</td>\n",
              "    </tr>\n",
              "    <tr>\n",
              "      <th>4</th>\n",
              "      <td>-122.25</td>\n",
              "      <td>37.85</td>\n",
              "      <td>52.0</td>\n",
              "      <td>1627.0</td>\n",
              "      <td>280.0</td>\n",
              "      <td>565.0</td>\n",
              "      <td>259.0</td>\n",
              "      <td>3.8462</td>\n",
              "      <td>342200.0</td>\n",
              "      <td>NEAR BAY</td>\n",
              "    </tr>\n",
              "  </tbody>\n",
              "</table>\n",
              "</div>"
            ],
            "text/plain": [
              "   longitude  latitude  ...  median_house_value  ocean_proximity\n",
              "0    -122.23     37.88  ...            452600.0         NEAR BAY\n",
              "1    -122.22     37.86  ...            358500.0         NEAR BAY\n",
              "2    -122.24     37.85  ...            352100.0         NEAR BAY\n",
              "3    -122.25     37.85  ...            341300.0         NEAR BAY\n",
              "4    -122.25     37.85  ...            342200.0         NEAR BAY\n",
              "\n",
              "[5 rows x 10 columns]"
            ]
          },
          "metadata": {
            "tags": []
          },
          "execution_count": 5
        }
      ]
    },
    {
      "cell_type": "markdown",
      "metadata": {
        "id": "mAL13zJjeHD7",
        "colab_type": "text"
      },
      "source": [
        "As explained last week, we are going forward with a `StratifiedShuffleSplit` for our `housing` dataset. "
      ]
    },
    {
      "cell_type": "code",
      "metadata": {
        "id": "oZvyfYpteF2L",
        "colab_type": "code",
        "colab": {}
      },
      "source": [
        "housing[\"income_cat\"] = pd.cut(housing[\"median_income\"],\n",
        "                               bins=[0., 1.5, 3.0, 4.5, 6., np.inf],\n",
        "                               labels=[1, 2, 3, 4, 5])\n",
        "\n",
        "from sklearn.model_selection import StratifiedShuffleSplit\n",
        "\n",
        "split = StratifiedShuffleSplit(n_splits=1, test_size=0.2, random_state=42)\n",
        "for train_index, test_index in split.split(housing, housing[\"income_cat\"]):\n",
        "    strat_train_set = housing.loc[train_index]\n",
        "    strat_test_set = housing.loc[test_index]"
      ],
      "execution_count": null,
      "outputs": []
    },
    {
      "cell_type": "markdown",
      "metadata": {
        "id": "OfZ_9_VkmxML",
        "colab_type": "text"
      },
      "source": [
        "Once we are done with the `income_cat` column, we will then remove them from our dataset"
      ]
    },
    {
      "cell_type": "code",
      "metadata": {
        "id": "3yUqKeW3mye0",
        "colab_type": "code",
        "colab": {
          "base_uri": "https://localhost:8080/",
          "height": 324
        },
        "outputId": "d3e44e03-a7a2-4ffb-b063-c2c2aded6a86"
      },
      "source": [
        "for set_ in (strat_train_set, strat_test_set):\n",
        "    set_.drop(\"income_cat\", axis=1, inplace=True)"
      ],
      "execution_count": null,
      "outputs": [
        {
          "output_type": "error",
          "ename": "KeyError",
          "evalue": "ignored",
          "traceback": [
            "\u001b[0;31m---------------------------------------------------------------------------\u001b[0m",
            "\u001b[0;31mKeyError\u001b[0m                                  Traceback (most recent call last)",
            "\u001b[0;32m<ipython-input-13-ba84e3d1e141>\u001b[0m in \u001b[0;36m<module>\u001b[0;34m()\u001b[0m\n\u001b[1;32m      1\u001b[0m \u001b[0;32mfor\u001b[0m \u001b[0mset_\u001b[0m \u001b[0;32min\u001b[0m \u001b[0;34m(\u001b[0m\u001b[0mstrat_train_set\u001b[0m\u001b[0;34m,\u001b[0m \u001b[0mstrat_test_set\u001b[0m\u001b[0;34m)\u001b[0m\u001b[0;34m:\u001b[0m\u001b[0;34m\u001b[0m\u001b[0;34m\u001b[0m\u001b[0m\n\u001b[0;32m----> 2\u001b[0;31m     \u001b[0mset_\u001b[0m\u001b[0;34m.\u001b[0m\u001b[0mdrop\u001b[0m\u001b[0;34m(\u001b[0m\u001b[0;34m\"income_cat\"\u001b[0m\u001b[0;34m,\u001b[0m \u001b[0maxis\u001b[0m\u001b[0;34m=\u001b[0m\u001b[0;36m1\u001b[0m\u001b[0;34m,\u001b[0m \u001b[0minplace\u001b[0m\u001b[0;34m=\u001b[0m\u001b[0;32mTrue\u001b[0m\u001b[0;34m)\u001b[0m\u001b[0;34m\u001b[0m\u001b[0;34m\u001b[0m\u001b[0m\n\u001b[0m",
            "\u001b[0;32m/usr/local/lib/python3.6/dist-packages/pandas/core/frame.py\u001b[0m in \u001b[0;36mdrop\u001b[0;34m(self, labels, axis, index, columns, level, inplace, errors)\u001b[0m\n\u001b[1;32m   3995\u001b[0m             \u001b[0mlevel\u001b[0m\u001b[0;34m=\u001b[0m\u001b[0mlevel\u001b[0m\u001b[0;34m,\u001b[0m\u001b[0;34m\u001b[0m\u001b[0;34m\u001b[0m\u001b[0m\n\u001b[1;32m   3996\u001b[0m             \u001b[0minplace\u001b[0m\u001b[0;34m=\u001b[0m\u001b[0minplace\u001b[0m\u001b[0;34m,\u001b[0m\u001b[0;34m\u001b[0m\u001b[0;34m\u001b[0m\u001b[0m\n\u001b[0;32m-> 3997\u001b[0;31m             \u001b[0merrors\u001b[0m\u001b[0;34m=\u001b[0m\u001b[0merrors\u001b[0m\u001b[0;34m,\u001b[0m\u001b[0;34m\u001b[0m\u001b[0;34m\u001b[0m\u001b[0m\n\u001b[0m\u001b[1;32m   3998\u001b[0m         )\n\u001b[1;32m   3999\u001b[0m \u001b[0;34m\u001b[0m\u001b[0m\n",
            "\u001b[0;32m/usr/local/lib/python3.6/dist-packages/pandas/core/generic.py\u001b[0m in \u001b[0;36mdrop\u001b[0;34m(self, labels, axis, index, columns, level, inplace, errors)\u001b[0m\n\u001b[1;32m   3934\u001b[0m         \u001b[0;32mfor\u001b[0m \u001b[0maxis\u001b[0m\u001b[0;34m,\u001b[0m \u001b[0mlabels\u001b[0m \u001b[0;32min\u001b[0m \u001b[0maxes\u001b[0m\u001b[0;34m.\u001b[0m\u001b[0mitems\u001b[0m\u001b[0;34m(\u001b[0m\u001b[0;34m)\u001b[0m\u001b[0;34m:\u001b[0m\u001b[0;34m\u001b[0m\u001b[0;34m\u001b[0m\u001b[0m\n\u001b[1;32m   3935\u001b[0m             \u001b[0;32mif\u001b[0m \u001b[0mlabels\u001b[0m \u001b[0;32mis\u001b[0m \u001b[0;32mnot\u001b[0m \u001b[0;32mNone\u001b[0m\u001b[0;34m:\u001b[0m\u001b[0;34m\u001b[0m\u001b[0;34m\u001b[0m\u001b[0m\n\u001b[0;32m-> 3936\u001b[0;31m                 \u001b[0mobj\u001b[0m \u001b[0;34m=\u001b[0m \u001b[0mobj\u001b[0m\u001b[0;34m.\u001b[0m\u001b[0m_drop_axis\u001b[0m\u001b[0;34m(\u001b[0m\u001b[0mlabels\u001b[0m\u001b[0;34m,\u001b[0m \u001b[0maxis\u001b[0m\u001b[0;34m,\u001b[0m \u001b[0mlevel\u001b[0m\u001b[0;34m=\u001b[0m\u001b[0mlevel\u001b[0m\u001b[0;34m,\u001b[0m \u001b[0merrors\u001b[0m\u001b[0;34m=\u001b[0m\u001b[0merrors\u001b[0m\u001b[0;34m)\u001b[0m\u001b[0;34m\u001b[0m\u001b[0;34m\u001b[0m\u001b[0m\n\u001b[0m\u001b[1;32m   3937\u001b[0m \u001b[0;34m\u001b[0m\u001b[0m\n\u001b[1;32m   3938\u001b[0m         \u001b[0;32mif\u001b[0m \u001b[0minplace\u001b[0m\u001b[0;34m:\u001b[0m\u001b[0;34m\u001b[0m\u001b[0;34m\u001b[0m\u001b[0m\n",
            "\u001b[0;32m/usr/local/lib/python3.6/dist-packages/pandas/core/generic.py\u001b[0m in \u001b[0;36m_drop_axis\u001b[0;34m(self, labels, axis, level, errors)\u001b[0m\n\u001b[1;32m   3968\u001b[0m                 \u001b[0mnew_axis\u001b[0m \u001b[0;34m=\u001b[0m \u001b[0maxis\u001b[0m\u001b[0;34m.\u001b[0m\u001b[0mdrop\u001b[0m\u001b[0;34m(\u001b[0m\u001b[0mlabels\u001b[0m\u001b[0;34m,\u001b[0m \u001b[0mlevel\u001b[0m\u001b[0;34m=\u001b[0m\u001b[0mlevel\u001b[0m\u001b[0;34m,\u001b[0m \u001b[0merrors\u001b[0m\u001b[0;34m=\u001b[0m\u001b[0merrors\u001b[0m\u001b[0;34m)\u001b[0m\u001b[0;34m\u001b[0m\u001b[0;34m\u001b[0m\u001b[0m\n\u001b[1;32m   3969\u001b[0m             \u001b[0;32melse\u001b[0m\u001b[0;34m:\u001b[0m\u001b[0;34m\u001b[0m\u001b[0;34m\u001b[0m\u001b[0m\n\u001b[0;32m-> 3970\u001b[0;31m                 \u001b[0mnew_axis\u001b[0m \u001b[0;34m=\u001b[0m \u001b[0maxis\u001b[0m\u001b[0;34m.\u001b[0m\u001b[0mdrop\u001b[0m\u001b[0;34m(\u001b[0m\u001b[0mlabels\u001b[0m\u001b[0;34m,\u001b[0m \u001b[0merrors\u001b[0m\u001b[0;34m=\u001b[0m\u001b[0merrors\u001b[0m\u001b[0;34m)\u001b[0m\u001b[0;34m\u001b[0m\u001b[0;34m\u001b[0m\u001b[0m\n\u001b[0m\u001b[1;32m   3971\u001b[0m             \u001b[0mresult\u001b[0m \u001b[0;34m=\u001b[0m \u001b[0mself\u001b[0m\u001b[0;34m.\u001b[0m\u001b[0mreindex\u001b[0m\u001b[0;34m(\u001b[0m\u001b[0;34m**\u001b[0m\u001b[0;34m{\u001b[0m\u001b[0maxis_name\u001b[0m\u001b[0;34m:\u001b[0m \u001b[0mnew_axis\u001b[0m\u001b[0;34m}\u001b[0m\u001b[0;34m)\u001b[0m\u001b[0;34m\u001b[0m\u001b[0;34m\u001b[0m\u001b[0m\n\u001b[1;32m   3972\u001b[0m \u001b[0;34m\u001b[0m\u001b[0m\n",
            "\u001b[0;32m/usr/local/lib/python3.6/dist-packages/pandas/core/indexes/base.py\u001b[0m in \u001b[0;36mdrop\u001b[0;34m(self, labels, errors)\u001b[0m\n\u001b[1;32m   5016\u001b[0m         \u001b[0;32mif\u001b[0m \u001b[0mmask\u001b[0m\u001b[0;34m.\u001b[0m\u001b[0many\u001b[0m\u001b[0;34m(\u001b[0m\u001b[0;34m)\u001b[0m\u001b[0;34m:\u001b[0m\u001b[0;34m\u001b[0m\u001b[0;34m\u001b[0m\u001b[0m\n\u001b[1;32m   5017\u001b[0m             \u001b[0;32mif\u001b[0m \u001b[0merrors\u001b[0m \u001b[0;34m!=\u001b[0m \u001b[0;34m\"ignore\"\u001b[0m\u001b[0;34m:\u001b[0m\u001b[0;34m\u001b[0m\u001b[0;34m\u001b[0m\u001b[0m\n\u001b[0;32m-> 5018\u001b[0;31m                 \u001b[0;32mraise\u001b[0m \u001b[0mKeyError\u001b[0m\u001b[0;34m(\u001b[0m\u001b[0;34mf\"{labels[mask]} not found in axis\"\u001b[0m\u001b[0;34m)\u001b[0m\u001b[0;34m\u001b[0m\u001b[0;34m\u001b[0m\u001b[0m\n\u001b[0m\u001b[1;32m   5019\u001b[0m             \u001b[0mindexer\u001b[0m \u001b[0;34m=\u001b[0m \u001b[0mindexer\u001b[0m\u001b[0;34m[\u001b[0m\u001b[0;34m~\u001b[0m\u001b[0mmask\u001b[0m\u001b[0;34m]\u001b[0m\u001b[0;34m\u001b[0m\u001b[0;34m\u001b[0m\u001b[0m\n\u001b[1;32m   5020\u001b[0m         \u001b[0;32mreturn\u001b[0m \u001b[0mself\u001b[0m\u001b[0;34m.\u001b[0m\u001b[0mdelete\u001b[0m\u001b[0;34m(\u001b[0m\u001b[0mindexer\u001b[0m\u001b[0;34m)\u001b[0m\u001b[0;34m\u001b[0m\u001b[0;34m\u001b[0m\u001b[0m\n",
            "\u001b[0;31mKeyError\u001b[0m: \"['income_cat'] not found in axis\""
          ]
        }
      ]
    },
    {
      "cell_type": "markdown",
      "metadata": {
        "id": "avK683y8EhTi",
        "colab_type": "text"
      },
      "source": [
        "# Discover and visualize the data to gain insights"
      ]
    },
    {
      "cell_type": "markdown",
      "metadata": {
        "id": "gU8jC9s7rLHl",
        "colab_type": "text"
      },
      "source": [
        "## Visualizing Geographical Data"
      ]
    },
    {
      "cell_type": "code",
      "metadata": {
        "id": "dQFaFwhdEhTr",
        "colab_type": "code",
        "colab": {
          "base_uri": "https://localhost:8080/",
          "height": 68
        },
        "outputId": "1a5a8455-80ba-49b6-cc2f-5cd86f60d1d2"
      },
      "source": [
        "# Download the California image\n",
        "images_path = os.path.join(PROJECT_ROOT_DIR, \"images\", \"end_to_end_project\")\n",
        "os.makedirs(images_path, exist_ok=True)\n",
        "DOWNLOAD_ROOT = \"https://raw.githubusercontent.com/ageron/handson-ml2/master/\"\n",
        "filename = \"california.png\"\n",
        "print(\"Downloading\", filename)\n",
        "url = DOWNLOAD_ROOT + \"images/end_to_end_project/\" + filename\n",
        "urllib.request.urlretrieve(url, os.path.join(images_path, filename))"
      ],
      "execution_count": null,
      "outputs": [
        {
          "output_type": "stream",
          "text": [
            "Downloading california.png\n"
          ],
          "name": "stdout"
        },
        {
          "output_type": "execute_result",
          "data": {
            "text/plain": [
              "('./images/end_to_end_project/california.png',\n",
              " <http.client.HTTPMessage at 0x7f17c8df04e0>)"
            ]
          },
          "metadata": {
            "tags": []
          },
          "execution_count": 8
        }
      ]
    },
    {
      "cell_type": "code",
      "metadata": {
        "id": "kejMtiEDEhTt",
        "colab_type": "code",
        "colab": {
          "base_uri": "https://localhost:8080/",
          "height": 530
        },
        "outputId": "01add804-456a-4e48-e9a6-478f886a491f"
      },
      "source": [
        "import matplotlib.image as mpimg\n",
        "california_img=mpimg.imread(os.path.join(images_path, filename))\n",
        "ax = housing.plot(kind=\"scatter\", x=\"longitude\", y=\"latitude\", figsize=(10,7),\n",
        "                       s=housing['population']/100, label=\"Population\",\n",
        "                       c=\"median_house_value\", cmap=plt.get_cmap(\"jet\"),\n",
        "                       colorbar=False, alpha=0.4,\n",
        "                      )\n",
        "plt.imshow(california_img, extent=[-124.55, -113.80, 32.45, 42.05], alpha=0.5,\n",
        "           cmap=plt.get_cmap(\"jet\"))\n",
        "plt.ylabel(\"Latitude\", fontsize=14)\n",
        "plt.xlabel(\"Longitude\", fontsize=14)\n",
        "\n",
        "prices = housing[\"median_house_value\"]\n",
        "tick_values = np.linspace(prices.min(), prices.max(), 11)\n",
        "cbar = plt.colorbar(ticks=tick_values/prices.max())\n",
        "cbar.ax.set_yticklabels([\"$%dk\"%(round(v/1000)) for v in tick_values], fontsize=14)\n",
        "cbar.set_label('Median House Value', fontsize=16)\n",
        "\n",
        "plt.legend(fontsize=16)\n",
        "save_fig(\"california_housing_prices_plot\")\n",
        "plt.show()"
      ],
      "execution_count": null,
      "outputs": [
        {
          "output_type": "stream",
          "text": [
            "Saving figure california_housing_prices_plot\n"
          ],
          "name": "stdout"
        },
        {
          "output_type": "display_data",
          "data": {
            "image/png": "[encoded data removed]",
            "text/plain": [
              "<Figure size 720x504 with 2 Axes>"
            ]
          },
          "metadata": {
            "tags": [],
            "needs_background": "light"
          }
        }
      ]
    },
    {
      "cell_type": "markdown",
      "metadata": {
        "id": "EkpfKRKGmSM2",
        "colab_type": "text"
      },
      "source": [
        "## Looking for Correlations"
      ]
    },
    {
      "cell_type": "code",
      "metadata": {
        "id": "GDzy9aSUmZj-",
        "colab_type": "code",
        "colab": {
          "base_uri": "https://localhost:8080/",
          "height": 187
        },
        "outputId": "1147d1ca-3005-4a5c-b490-d12dda9c573c"
      },
      "source": [
        "corr_matrix = housing.corr()\n",
        "corr_matrix[\"median_house_value\"].sort_values(ascending=False)"
      ],
      "execution_count": null,
      "outputs": [
        {
          "output_type": "execute_result",
          "data": {
            "text/plain": [
              "median_house_value    1.000000\n",
              "median_income         0.688075\n",
              "total_rooms           0.134153\n",
              "housing_median_age    0.105623\n",
              "households            0.065843\n",
              "total_bedrooms        0.049686\n",
              "population           -0.024650\n",
              "longitude            -0.045967\n",
              "latitude             -0.144160\n",
              "Name: median_house_value, dtype: float64"
            ]
          },
          "metadata": {
            "tags": []
          },
          "execution_count": 10
        }
      ]
    },
    {
      "cell_type": "markdown",
      "metadata": {
        "id": "eJhbSFNgEhT_",
        "colab_type": "text"
      },
      "source": [
        "# Prepare the data for Machine Learning algorithms"
      ]
    },
    {
      "cell_type": "code",
      "metadata": {
        "id": "zckgF3dHhAX5",
        "colab_type": "code",
        "colab": {}
      },
      "source": [
        "housing = strat_train_set.drop(\"median_house_value\", axis=1) # drop labels for training set\n",
        "housing_labels = strat_train_set[\"median_house_value\"].copy()"
      ],
      "execution_count": null,
      "outputs": []
    },
    {
      "cell_type": "markdown",
      "metadata": {
        "id": "WNL8V8alxYSN",
        "colab_type": "text"
      },
      "source": [
        "## Custom Transformers"
      ]
    },
    {
      "cell_type": "markdown",
      "metadata": {
        "id": "2DT-h3yOEhUm",
        "colab_type": "text"
      },
      "source": [
        "Let's create a custom transformer to add extra attributes:"
      ]
    },
    {
      "cell_type": "code",
      "metadata": {
        "id": "5-8AH8cyEhUm",
        "colab_type": "code",
        "colab": {}
      },
      "source": [
        "from sklearn.base import BaseEstimator, TransformerMixin\n",
        "\n",
        "# column index\n",
        "rooms_ix, bedrooms_ix, population_ix, households_ix = 3, 4, 5, 6\n",
        "\n",
        "class CombinedAttributesAdder(BaseEstimator, TransformerMixin):\n",
        "    def __init__(self, add_bedrooms_per_room = True): # no *args or **kargs\n",
        "        self.add_bedrooms_per_room = add_bedrooms_per_room\n",
        "    def fit(self, X, y=None):\n",
        "        return self  # nothing else to do\n",
        "    def transform(self, X):\n",
        "        rooms_per_household = X[:, rooms_ix] / X[:, households_ix]\n",
        "        population_per_household = X[:, population_ix] / X[:, households_ix]\n",
        "        if self.add_bedrooms_per_room:\n",
        "            bedrooms_per_room = X[:, bedrooms_ix] / X[:, rooms_ix]\n",
        "            return np.c_[X, rooms_per_household, population_per_household,\n",
        "                         bedrooms_per_room]\n",
        "        else:\n",
        "            return np.c_[X, rooms_per_household, population_per_household]\n",
        "\n",
        "attr_adder = CombinedAttributesAdder(add_bedrooms_per_room=False)\n",
        "housing_extra_attribs = attr_adder.transform(housing.values)"
      ],
      "execution_count": null,
      "outputs": []
    },
    {
      "cell_type": "markdown",
      "metadata": {
        "id": "s81ucfJWx2i0",
        "colab_type": "text"
      },
      "source": [
        "## Feature Scaling and Transformation Pipelines"
      ]
    },
    {
      "cell_type": "markdown",
      "metadata": {
        "id": "nZOzrARkfUpc",
        "colab_type": "text"
      },
      "source": [
        "We are utilizing `ColumnTransformer` to pre-process both the numerical and categorical attributes"
      ]
    },
    {
      "cell_type": "code",
      "metadata": {
        "id": "PaluCBFy_L9O",
        "colab_type": "code",
        "colab": {
          "base_uri": "https://localhost:8080/",
          "height": 419
        },
        "outputId": "2eff8fd8-6a5f-4709-a9c2-8aa40a09bbb3"
      },
      "source": [
        "housing"
      ],
      "execution_count": null,
      "outputs": [
        {
          "output_type": "execute_result",
          "data": {
            "text/html": [
              "<div>\n",
              "<style scoped>\n",
              "    .dataframe tbody tr th:only-of-type {\n",
              "        vertical-align: middle;\n",
              "    }\n",
              "\n",
              "    .dataframe tbody tr th {\n",
              "        vertical-align: top;\n",
              "    }\n",
              "\n",
              "    .dataframe thead th {\n",
              "        text-align: right;\n",
              "    }\n",
              "</style>\n",
              "<table border=\"1\" class=\"dataframe\">\n",
              "  <thead>\n",
              "    <tr style=\"text-align: right;\">\n",
              "      <th></th>\n",
              "      <th>longitude</th>\n",
              "      <th>latitude</th>\n",
              "      <th>housing_median_age</th>\n",
              "      <th>total_rooms</th>\n",
              "      <th>total_bedrooms</th>\n",
              "      <th>population</th>\n",
              "      <th>households</th>\n",
              "      <th>median_income</th>\n",
              "      <th>ocean_proximity</th>\n",
              "    </tr>\n",
              "  </thead>\n",
              "  <tbody>\n",
              "    <tr>\n",
              "      <th>17606</th>\n",
              "      <td>-121.89</td>\n",
              "      <td>37.29</td>\n",
              "      <td>38.0</td>\n",
              "      <td>1568.0</td>\n",
              "      <td>351.0</td>\n",
              "      <td>710.0</td>\n",
              "      <td>339.0</td>\n",
              "      <td>2.7042</td>\n",
              "      <td>&lt;1H OCEAN</td>\n",
              "    </tr>\n",
              "    <tr>\n",
              "      <th>18632</th>\n",
              "      <td>-121.93</td>\n",
              "      <td>37.05</td>\n",
              "      <td>14.0</td>\n",
              "      <td>679.0</td>\n",
              "      <td>108.0</td>\n",
              "      <td>306.0</td>\n",
              "      <td>113.0</td>\n",
              "      <td>6.4214</td>\n",
              "      <td>&lt;1H OCEAN</td>\n",
              "    </tr>\n",
              "    <tr>\n",
              "      <th>14650</th>\n",
              "      <td>-117.20</td>\n",
              "      <td>32.77</td>\n",
              "      <td>31.0</td>\n",
              "      <td>1952.0</td>\n",
              "      <td>471.0</td>\n",
              "      <td>936.0</td>\n",
              "      <td>462.0</td>\n",
              "      <td>2.8621</td>\n",
              "      <td>NEAR OCEAN</td>\n",
              "    </tr>\n",
              "    <tr>\n",
              "      <th>3230</th>\n",
              "      <td>-119.61</td>\n",
              "      <td>36.31</td>\n",
              "      <td>25.0</td>\n",
              "      <td>1847.0</td>\n",
              "      <td>371.0</td>\n",
              "      <td>1460.0</td>\n",
              "      <td>353.0</td>\n",
              "      <td>1.8839</td>\n",
              "      <td>INLAND</td>\n",
              "    </tr>\n",
              "    <tr>\n",
              "      <th>3555</th>\n",
              "      <td>-118.59</td>\n",
              "      <td>34.23</td>\n",
              "      <td>17.0</td>\n",
              "      <td>6592.0</td>\n",
              "      <td>1525.0</td>\n",
              "      <td>4459.0</td>\n",
              "      <td>1463.0</td>\n",
              "      <td>3.0347</td>\n",
              "      <td>&lt;1H OCEAN</td>\n",
              "    </tr>\n",
              "    <tr>\n",
              "      <th>...</th>\n",
              "      <td>...</td>\n",
              "      <td>...</td>\n",
              "      <td>...</td>\n",
              "      <td>...</td>\n",
              "      <td>...</td>\n",
              "      <td>...</td>\n",
              "      <td>...</td>\n",
              "      <td>...</td>\n",
              "      <td>...</td>\n",
              "    </tr>\n",
              "    <tr>\n",
              "      <th>6563</th>\n",
              "      <td>-118.13</td>\n",
              "      <td>34.20</td>\n",
              "      <td>46.0</td>\n",
              "      <td>1271.0</td>\n",
              "      <td>236.0</td>\n",
              "      <td>573.0</td>\n",
              "      <td>210.0</td>\n",
              "      <td>4.9312</td>\n",
              "      <td>INLAND</td>\n",
              "    </tr>\n",
              "    <tr>\n",
              "      <th>12053</th>\n",
              "      <td>-117.56</td>\n",
              "      <td>33.88</td>\n",
              "      <td>40.0</td>\n",
              "      <td>1196.0</td>\n",
              "      <td>294.0</td>\n",
              "      <td>1052.0</td>\n",
              "      <td>258.0</td>\n",
              "      <td>2.0682</td>\n",
              "      <td>INLAND</td>\n",
              "    </tr>\n",
              "    <tr>\n",
              "      <th>13908</th>\n",
              "      <td>-116.40</td>\n",
              "      <td>34.09</td>\n",
              "      <td>9.0</td>\n",
              "      <td>4855.0</td>\n",
              "      <td>872.0</td>\n",
              "      <td>2098.0</td>\n",
              "      <td>765.0</td>\n",
              "      <td>3.2723</td>\n",
              "      <td>INLAND</td>\n",
              "    </tr>\n",
              "    <tr>\n",
              "      <th>11159</th>\n",
              "      <td>-118.01</td>\n",
              "      <td>33.82</td>\n",
              "      <td>31.0</td>\n",
              "      <td>1960.0</td>\n",
              "      <td>380.0</td>\n",
              "      <td>1356.0</td>\n",
              "      <td>356.0</td>\n",
              "      <td>4.0625</td>\n",
              "      <td>&lt;1H OCEAN</td>\n",
              "    </tr>\n",
              "    <tr>\n",
              "      <th>15775</th>\n",
              "      <td>-122.45</td>\n",
              "      <td>37.77</td>\n",
              "      <td>52.0</td>\n",
              "      <td>3095.0</td>\n",
              "      <td>682.0</td>\n",
              "      <td>1269.0</td>\n",
              "      <td>639.0</td>\n",
              "      <td>3.5750</td>\n",
              "      <td>NEAR BAY</td>\n",
              "    </tr>\n",
              "  </tbody>\n",
              "</table>\n",
              "<p>16512 rows × 9 columns</p>\n",
              "</div>"
            ],
            "text/plain": [
              "       longitude  latitude  ...  median_income  ocean_proximity\n",
              "17606    -121.89     37.29  ...         2.7042        <1H OCEAN\n",
              "18632    -121.93     37.05  ...         6.4214        <1H OCEAN\n",
              "14650    -117.20     32.77  ...         2.8621       NEAR OCEAN\n",
              "3230     -119.61     36.31  ...         1.8839           INLAND\n",
              "3555     -118.59     34.23  ...         3.0347        <1H OCEAN\n",
              "...          ...       ...  ...            ...              ...\n",
              "6563     -118.13     34.20  ...         4.9312           INLAND\n",
              "12053    -117.56     33.88  ...         2.0682           INLAND\n",
              "13908    -116.40     34.09  ...         3.2723           INLAND\n",
              "11159    -118.01     33.82  ...         4.0625        <1H OCEAN\n",
              "15775    -122.45     37.77  ...         3.5750         NEAR BAY\n",
              "\n",
              "[16512 rows x 9 columns]"
            ]
          },
          "metadata": {
            "tags": []
          },
          "execution_count": 15
        }
      ]
    },
    {
      "cell_type": "code",
      "metadata": {
        "id": "6Kjo9jz_DeMl",
        "colab_type": "code",
        "colab": {
          "base_uri": "https://localhost:8080/",
          "height": 297
        },
        "outputId": "c0057246-ffd9-4af1-d689-44a43c86a774"
      },
      "source": [
        "housing.describe()"
      ],
      "execution_count": null,
      "outputs": [
        {
          "output_type": "execute_result",
          "data": {
            "text/html": [
              "<div>\n",
              "<style scoped>\n",
              "    .dataframe tbody tr th:only-of-type {\n",
              "        vertical-align: middle;\n",
              "    }\n",
              "\n",
              "    .dataframe tbody tr th {\n",
              "        vertical-align: top;\n",
              "    }\n",
              "\n",
              "    .dataframe thead th {\n",
              "        text-align: right;\n",
              "    }\n",
              "</style>\n",
              "<table border=\"1\" class=\"dataframe\">\n",
              "  <thead>\n",
              "    <tr style=\"text-align: right;\">\n",
              "      <th></th>\n",
              "      <th>longitude</th>\n",
              "      <th>latitude</th>\n",
              "      <th>housing_median_age</th>\n",
              "      <th>total_rooms</th>\n",
              "      <th>total_bedrooms</th>\n",
              "      <th>population</th>\n",
              "      <th>households</th>\n",
              "      <th>median_income</th>\n",
              "    </tr>\n",
              "  </thead>\n",
              "  <tbody>\n",
              "    <tr>\n",
              "      <th>count</th>\n",
              "      <td>16512.000000</td>\n",
              "      <td>16512.000000</td>\n",
              "      <td>16512.000000</td>\n",
              "      <td>16512.000000</td>\n",
              "      <td>16354.000000</td>\n",
              "      <td>16512.000000</td>\n",
              "      <td>16512.000000</td>\n",
              "      <td>16512.000000</td>\n",
              "    </tr>\n",
              "    <tr>\n",
              "      <th>mean</th>\n",
              "      <td>-119.575834</td>\n",
              "      <td>35.639577</td>\n",
              "      <td>28.653101</td>\n",
              "      <td>2622.728319</td>\n",
              "      <td>534.973890</td>\n",
              "      <td>1419.790819</td>\n",
              "      <td>497.060380</td>\n",
              "      <td>3.875589</td>\n",
              "    </tr>\n",
              "    <tr>\n",
              "      <th>std</th>\n",
              "      <td>2.001860</td>\n",
              "      <td>2.138058</td>\n",
              "      <td>12.574726</td>\n",
              "      <td>2138.458419</td>\n",
              "      <td>412.699041</td>\n",
              "      <td>1115.686241</td>\n",
              "      <td>375.720845</td>\n",
              "      <td>1.904950</td>\n",
              "    </tr>\n",
              "    <tr>\n",
              "      <th>min</th>\n",
              "      <td>-124.350000</td>\n",
              "      <td>32.540000</td>\n",
              "      <td>1.000000</td>\n",
              "      <td>6.000000</td>\n",
              "      <td>2.000000</td>\n",
              "      <td>3.000000</td>\n",
              "      <td>2.000000</td>\n",
              "      <td>0.499900</td>\n",
              "    </tr>\n",
              "    <tr>\n",
              "      <th>25%</th>\n",
              "      <td>-121.800000</td>\n",
              "      <td>33.940000</td>\n",
              "      <td>18.000000</td>\n",
              "      <td>1443.000000</td>\n",
              "      <td>295.000000</td>\n",
              "      <td>784.000000</td>\n",
              "      <td>279.000000</td>\n",
              "      <td>2.566775</td>\n",
              "    </tr>\n",
              "    <tr>\n",
              "      <th>50%</th>\n",
              "      <td>-118.510000</td>\n",
              "      <td>34.260000</td>\n",
              "      <td>29.000000</td>\n",
              "      <td>2119.500000</td>\n",
              "      <td>433.000000</td>\n",
              "      <td>1164.000000</td>\n",
              "      <td>408.000000</td>\n",
              "      <td>3.540900</td>\n",
              "    </tr>\n",
              "    <tr>\n",
              "      <th>75%</th>\n",
              "      <td>-118.010000</td>\n",
              "      <td>37.720000</td>\n",
              "      <td>37.000000</td>\n",
              "      <td>3141.000000</td>\n",
              "      <td>644.000000</td>\n",
              "      <td>1719.250000</td>\n",
              "      <td>602.000000</td>\n",
              "      <td>4.744475</td>\n",
              "    </tr>\n",
              "    <tr>\n",
              "      <th>max</th>\n",
              "      <td>-114.310000</td>\n",
              "      <td>41.950000</td>\n",
              "      <td>52.000000</td>\n",
              "      <td>39320.000000</td>\n",
              "      <td>6210.000000</td>\n",
              "      <td>35682.000000</td>\n",
              "      <td>5358.000000</td>\n",
              "      <td>15.000100</td>\n",
              "    </tr>\n",
              "  </tbody>\n",
              "</table>\n",
              "</div>"
            ],
            "text/plain": [
              "          longitude      latitude  ...    households  median_income\n",
              "count  16512.000000  16512.000000  ...  16512.000000   16512.000000\n",
              "mean    -119.575834     35.639577  ...    497.060380       3.875589\n",
              "std        2.001860      2.138058  ...    375.720845       1.904950\n",
              "min     -124.350000     32.540000  ...      2.000000       0.499900\n",
              "25%     -121.800000     33.940000  ...    279.000000       2.566775\n",
              "50%     -118.510000     34.260000  ...    408.000000       3.540900\n",
              "75%     -118.010000     37.720000  ...    602.000000       4.744475\n",
              "max     -114.310000     41.950000  ...   5358.000000      15.000100\n",
              "\n",
              "[8 rows x 8 columns]"
            ]
          },
          "metadata": {
            "tags": []
          },
          "execution_count": 30
        }
      ]
    },
    {
      "cell_type": "code",
      "metadata": {
        "id": "L-RByly3EhUt",
        "colab_type": "code",
        "colab": {}
      },
      "source": [
        "from sklearn.pipeline import Pipeline\n",
        "from sklearn.impute import SimpleImputer\n",
        "from sklearn.preprocessing import StandardScaler\n",
        "from sklearn.preprocessing import OneHotEncoder\n",
        "from sklearn.compose import ColumnTransformer\n",
        "\n",
        "\n",
        "housing_num = housing.drop(\"ocean_proximity\", axis=1)\n",
        "num_attribs = list(housing_num)\n",
        "cat_attribs = [\"ocean_proximity\"]\n",
        "\n",
        "num_pipeline = Pipeline([\n",
        "        ('imputer', SimpleImputer(strategy=\"median\")),\n",
        "        ('attribs_adder', CombinedAttributesAdder()),\n",
        "        ('std_scaler', StandardScaler()),\n",
        "    ])\n",
        "\n",
        "full_pipeline = ColumnTransformer([\n",
        "        (\"numerical\", num_pipeline, num_attribs),\n",
        "        (\"cat\", OneHotEncoder(), cat_attribs),\n",
        "    ])\n",
        "\n",
        "housing_prepared = full_pipeline.fit_transform(housing)"
      ],
      "execution_count": null,
      "outputs": []
    },
    {
      "cell_type": "code",
      "metadata": {
        "id": "mdzWPECmAb9x",
        "colab_type": "code",
        "colab": {
          "base_uri": "https://localhost:8080/",
          "height": 493
        },
        "outputId": "88cc4593-f508-424f-be49-76175c2e1c0c"
      },
      "source": [
        "full_pipeline"
      ],
      "execution_count": null,
      "outputs": [
        {
          "output_type": "execute_result",
          "data": {
            "text/plain": [
              "ColumnTransformer(n_jobs=None, remainder='drop', sparse_threshold=0.3,\n",
              "                  transformer_weights=None,\n",
              "                  transformers=[('numerical',\n",
              "                                 Pipeline(memory=None,\n",
              "                                          steps=[('imputer',\n",
              "                                                  SimpleImputer(add_indicator=False,\n",
              "                                                                copy=True,\n",
              "                                                                fill_value=None,\n",
              "                                                                missing_values=nan,\n",
              "                                                                strategy='median',\n",
              "                                                                verbose=0)),\n",
              "                                                 ('attribs_adder',\n",
              "                                                  CombinedAttributesAdder(add_bedrooms_per_room=True)),\n",
              "                                                 ('std_scaler',\n",
              "                                                  StandardScaler(copy=True,\n",
              "                                                                 with_mean=True,\n",
              "                                                                 with_std=True))],\n",
              "                                          verbose=False),\n",
              "                                 ['longitude', 'latitude', 'housing_median_age',\n",
              "                                  'total_rooms', 'total_bedrooms', 'population',\n",
              "                                  'households', 'median_income']),\n",
              "                                ('cat',\n",
              "                                 OneHotEncoder(categories='auto', drop=None,\n",
              "                                               dtype=<class 'numpy.float64'>,\n",
              "                                               handle_unknown='error',\n",
              "                                               sparse=True),\n",
              "                                 ['ocean_proximity'])],\n",
              "                  verbose=False)"
            ]
          },
          "metadata": {
            "tags": []
          },
          "execution_count": 19
        }
      ]
    },
    {
      "cell_type": "markdown",
      "metadata": {
        "id": "k2uIjZuKUfRc",
        "colab_type": "text"
      },
      "source": [
        "At the end of the day there are 16 columns in our variables `housing_prepared`:"
      ]
    },
    {
      "cell_type": "code",
      "metadata": {
        "id": "zhc30v_REhUu",
        "colab_type": "code",
        "colab": {
          "base_uri": "https://localhost:8080/",
          "height": 238
        },
        "outputId": "09bf1b78-56dc-4d7c-8096-3d1a222c8e60"
      },
      "source": [
        "housing_prepared"
      ],
      "execution_count": null,
      "outputs": [
        {
          "output_type": "execute_result",
          "data": {
            "text/plain": [
              "array([[-1.15604281,  0.77194962,  0.74333089, ...,  0.        ,\n",
              "         0.        ,  0.        ],\n",
              "       [-1.17602483,  0.6596948 , -1.1653172 , ...,  0.        ,\n",
              "         0.        ,  0.        ],\n",
              "       [ 1.18684903, -1.34218285,  0.18664186, ...,  0.        ,\n",
              "         0.        ,  1.        ],\n",
              "       ...,\n",
              "       [ 1.58648943, -0.72478134, -1.56295222, ...,  0.        ,\n",
              "         0.        ,  0.        ],\n",
              "       [ 0.78221312, -0.85106801,  0.18664186, ...,  0.        ,\n",
              "         0.        ,  0.        ],\n",
              "       [-1.43579109,  0.99645926,  1.85670895, ...,  0.        ,\n",
              "         1.        ,  0.        ]])"
            ]
          },
          "metadata": {
            "tags": []
          },
          "execution_count": 20
        }
      ]
    },
    {
      "cell_type": "code",
      "metadata": {
        "id": "UjYGADYwEhUv",
        "colab_type": "code",
        "colab": {
          "base_uri": "https://localhost:8080/",
          "height": 34
        },
        "outputId": "aeb09e4a-5d2a-46d4-be1b-36997dfcb4f0"
      },
      "source": [
        "housing_prepared.shape"
      ],
      "execution_count": null,
      "outputs": [
        {
          "output_type": "execute_result",
          "data": {
            "text/plain": [
              "(16512, 16)"
            ]
          },
          "metadata": {
            "tags": []
          },
          "execution_count": 21
        }
      ]
    },
    {
      "cell_type": "code",
      "metadata": {
        "id": "z_NlgiBeBdIL",
        "colab_type": "code",
        "colab": {
          "base_uri": "https://localhost:8080/",
          "height": 119
        },
        "outputId": "efc28c06-afb1-4700-b077-743f7b7f87e8"
      },
      "source": [
        "housing['ocean_proximity'].value_counts()"
      ],
      "execution_count": null,
      "outputs": [
        {
          "output_type": "execute_result",
          "data": {
            "text/plain": [
              "<1H OCEAN     7276\n",
              "INLAND        5263\n",
              "NEAR OCEAN    2124\n",
              "NEAR BAY      1847\n",
              "ISLAND           2\n",
              "Name: ocean_proximity, dtype: int64"
            ]
          },
          "metadata": {
            "tags": []
          },
          "execution_count": 22
        }
      ]
    },
    {
      "cell_type": "markdown",
      "metadata": {
        "id": "GZkNODMGUmy0",
        "colab_type": "text"
      },
      "source": [
        "They correspond to: \n",
        "\n",
        "\n",
        "1. Longitude\n",
        "2. Latitude\n",
        "3. Housing median age\n",
        "4. Total rooms\n",
        "5. Total bedrooms\n",
        "6. Population\n",
        "7. Households\n",
        "8. Median Income\n",
        "9. Rooms per household\n",
        "10. Population per household\n",
        "11. Bedrooms per room\n",
        "12. `<1H OCEAN`\n",
        "13. Inland\n",
        "14. Island\n",
        "15. Near bay\n",
        "16. Near Ocean\n",
        "\n"
      ]
    },
    {
      "cell_type": "markdown",
      "metadata": {
        "id": "0jcJ-c3OEhU4",
        "colab_type": "text"
      },
      "source": [
        "# Select and train a model "
      ]
    },
    {
      "cell_type": "markdown",
      "metadata": {
        "id": "7cj5mHoBl2it",
        "colab_type": "text"
      },
      "source": [
        "## Training and Evaluating on the Training Set"
      ]
    },
    {
      "cell_type": "markdown",
      "metadata": {
        "id": "pCMjsdJ9xgMO",
        "colab_type": "text"
      },
      "source": [
        "### Linear Regression"
      ]
    },
    {
      "cell_type": "markdown",
      "metadata": {
        "id": "XU-Z6ghnLXKf",
        "colab_type": "text"
      },
      "source": [
        "![LR_MLR_image.png](data:image/png;base64,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)"
      ]
    },
    {
      "cell_type": "markdown",
      "metadata": {
        "id": "Kk6LMwUYONh5",
        "colab_type": "text"
      },
      "source": [
        "#### Single predictor\n",
        "\n",
        "![linear-regression-in-machine-learning.png](data:image/png;base64,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)"
      ]
    },
    {
      "cell_type": "markdown",
      "metadata": {
        "id": "Dd0ijhpWOSHQ",
        "colab_type": "text"
      },
      "source": [
        "#### Multiple predictors  \n",
        "\n",
        "Let's try to plot `Latitude` and `Longitude` and see what kind of correlation that they might with `median_house_value`. "
      ]
    },
    {
      "cell_type": "code",
      "metadata": {
        "id": "7IvY-eAHOWEI",
        "colab_type": "code",
        "colab": {
          "base_uri": "https://localhost:8080/",
          "height": 542
        },
        "outputId": "ea05da55-3ab2-4899-80ec-27cf8798d1bb"
      },
      "source": [
        "import plotly.express as px\n",
        "df = px.data.iris()\n",
        "fig = px.scatter_3d(x=housing_prepared[:10,0], \n",
        "                    y=housing_prepared[:10,1], \n",
        "                    z=housing_labels[:10],\n",
        "                    labels={\n",
        "                     \"x\": \"longitude\",\n",
        "                     \"y\": \"latitude\",\n",
        "                     \"z\": \"median house value\"\n",
        "                 })\n",
        "fig.show()"
      ],
      "execution_count": null,
      "outputs": [
        {
          "output_type": "display_data",
          "data": {
            "text/html": [
              "<html>\n",
              "<head><meta charset=\"utf-8\" /></head>\n",
              "<body>\n",
              "    <div>\n",
              "            <script src=\"https://cdnjs.cloudflare.com/ajax/libs/mathjax/2.7.5/MathJax.js?config=TeX-AMS-MML_SVG\"></script><script type=\"text/javascript\">if (window.MathJax) {MathJax.Hub.Config({SVG: {font: \"STIX-Web\"}});}</script>\n",
              "                <script type=\"text/javascript\">window.PlotlyConfig = {MathJaxConfig: 'local'};</script>\n",
              "        <script src=\"https://cdn.plot.ly/plotly-latest.min.js\"></script>    \n",
              "            <div id=\"a3c2222a-85cd-4603-af7d-c5cc795634d3\" class=\"plotly-graph-div\" style=\"height:525px; width:100%;\"></div>\n",
              "            <script type=\"text/javascript\">\n",
              "                \n",
              "                    window.PLOTLYENV=window.PLOTLYENV || {};\n",
              "                    \n",
              "                if (document.getElementById(\"a3c2222a-85cd-4603-af7d-c5cc795634d3\")) {\n",
              "                    Plotly.newPlot(\n",
              "                        'a3c2222a-85cd-4603-af7d-c5cc795634d3',\n",
              "                        [{\"hoverlabel\": {\"namelength\": 0}, \"hovertemplate\": \"longitude=%{x}<br>latitude=%{y}<br>median house value=%{z}\", \"legendgroup\": \"\", \"marker\": {\"color\": \"#636efa\", \"symbol\": \"circle\"}, \"mode\": \"markers\", \"name\": \"\", \"scene\": \"scene\", \"showlegend\": false, \"type\": \"scatter3d\", \"x\": [-1.1560428086829155, -1.1760248286103931, 1.186849027813462, -0.017067672816871656, 0.4924738353337247, -0.6964563503510025, 0.5374333801705439, 1.1668670078859915, 0.657325499735388, 0.6473344897716528], \"y\": [0.7719496164846016, 0.6596947951050618, -1.3421828528300457, 0.3135757625181526, -0.6592993561045204, 0.9450091327780562, -0.748167756363321, -0.6967176298976993, -0.7715541774840569, -0.757522324811614], \"z\": [286600.0, 340600.0, 196900.0, 46300.0, 254500.0, 127900.0, 500001.0, 140200.0, 95000.0, 500001.0]}],\n",
              "                        {\"legend\": {\"tracegroupgap\": 0}, \"margin\": {\"t\": 60}, \"scene\": {\"domain\": {\"x\": [0.0, 1.0], \"y\": [0.0, 1.0]}, \"xaxis\": {\"title\": {\"text\": \"longitude\"}}, \"yaxis\": {\"title\": {\"text\": \"latitude\"}}, \"zaxis\": {\"title\": {\"text\": \"median house value\"}}}, \"template\": {\"data\": {\"bar\": [{\"error_x\": {\"color\": \"#2a3f5f\"}, \"error_y\": {\"color\": \"#2a3f5f\"}, \"marker\": {\"line\": {\"color\": \"#E5ECF6\", \"width\": 0.5}}, \"type\": \"bar\"}], \"barpolar\": [{\"marker\": {\"line\": {\"color\": \"#E5ECF6\", \"width\": 0.5}}, \"type\": \"barpolar\"}], \"carpet\": [{\"aaxis\": {\"endlinecolor\": \"#2a3f5f\", \"gridcolor\": \"white\", \"linecolor\": \"white\", \"minorgridcolor\": \"white\", \"startlinecolor\": \"#2a3f5f\"}, \"baxis\": {\"endlinecolor\": \"#2a3f5f\", \"gridcolor\": \"white\", \"linecolor\": \"white\", \"minorgridcolor\": \"white\", \"startlinecolor\": \"#2a3f5f\"}, \"type\": \"carpet\"}], \"choropleth\": [{\"colorbar\": {\"outlinewidth\": 0, \"ticks\": \"\"}, \"type\": \"choropleth\"}], \"contour\": [{\"colorbar\": {\"outlinewidth\": 0, \"ticks\": \"\"}, \"colorscale\": [[0.0, \"#0d0887\"], [0.1111111111111111, \"#46039f\"], [0.2222222222222222, \"#7201a8\"], [0.3333333333333333, \"#9c179e\"], [0.4444444444444444, \"#bd3786\"], [0.5555555555555556, \"#d8576b\"], [0.6666666666666666, \"#ed7953\"], [0.7777777777777778, \"#fb9f3a\"], [0.8888888888888888, \"#fdca26\"], [1.0, \"#f0f921\"]], \"type\": \"contour\"}], \"contourcarpet\": [{\"colorbar\": {\"outlinewidth\": 0, \"ticks\": \"\"}, \"type\": \"contourcarpet\"}], \"heatmap\": [{\"colorbar\": {\"outlinewidth\": 0, \"ticks\": \"\"}, \"colorscale\": [[0.0, \"#0d0887\"], [0.1111111111111111, \"#46039f\"], [0.2222222222222222, \"#7201a8\"], [0.3333333333333333, \"#9c179e\"], [0.4444444444444444, \"#bd3786\"], [0.5555555555555556, \"#d8576b\"], [0.6666666666666666, \"#ed7953\"], [0.7777777777777778, \"#fb9f3a\"], [0.8888888888888888, \"#fdca26\"], [1.0, \"#f0f921\"]], \"type\": \"heatmap\"}], \"heatmapgl\": [{\"colorbar\": {\"outlinewidth\": 0, \"ticks\": \"\"}, \"colorscale\": [[0.0, \"#0d0887\"], [0.1111111111111111, \"#46039f\"], [0.2222222222222222, \"#7201a8\"], [0.3333333333333333, \"#9c179e\"], [0.4444444444444444, \"#bd3786\"], [0.5555555555555556, \"#d8576b\"], [0.6666666666666666, \"#ed7953\"], [0.7777777777777778, \"#fb9f3a\"], [0.8888888888888888, \"#fdca26\"], [1.0, \"#f0f921\"]], \"type\": \"heatmapgl\"}], \"histogram\": [{\"marker\": {\"colorbar\": {\"outlinewidth\": 0, \"ticks\": \"\"}}, \"type\": \"histogram\"}], \"histogram2d\": [{\"colorbar\": {\"outlinewidth\": 0, \"ticks\": \"\"}, \"colorscale\": [[0.0, \"#0d0887\"], [0.1111111111111111, \"#46039f\"], [0.2222222222222222, \"#7201a8\"], [0.3333333333333333, \"#9c179e\"], [0.4444444444444444, \"#bd3786\"], [0.5555555555555556, \"#d8576b\"], [0.6666666666666666, \"#ed7953\"], [0.7777777777777778, \"#fb9f3a\"], [0.8888888888888888, \"#fdca26\"], [1.0, \"#f0f921\"]], \"type\": \"histogram2d\"}], \"histogram2dcontour\": [{\"colorbar\": {\"outlinewidth\": 0, \"ticks\": \"\"}, \"colorscale\": [[0.0, \"#0d0887\"], [0.1111111111111111, \"#46039f\"], [0.2222222222222222, \"#7201a8\"], [0.3333333333333333, \"#9c179e\"], [0.4444444444444444, \"#bd3786\"], [0.5555555555555556, \"#d8576b\"], [0.6666666666666666, \"#ed7953\"], [0.7777777777777778, \"#fb9f3a\"], [0.8888888888888888, \"#fdca26\"], [1.0, \"#f0f921\"]], \"type\": \"histogram2dcontour\"}], \"mesh3d\": [{\"colorbar\": {\"outlinewidth\": 0, \"ticks\": \"\"}, \"type\": \"mesh3d\"}], \"parcoords\": [{\"line\": {\"colorbar\": {\"outlinewidth\": 0, \"ticks\": \"\"}}, \"type\": \"parcoords\"}], \"pie\": [{\"automargin\": true, \"type\": \"pie\"}], \"scatter\": [{\"marker\": {\"colorbar\": {\"outlinewidth\": 0, \"ticks\": \"\"}}, \"type\": \"scatter\"}], \"scatter3d\": [{\"line\": {\"colorbar\": {\"outlinewidth\": 0, \"ticks\": \"\"}}, \"marker\": {\"colorbar\": {\"outlinewidth\": 0, \"ticks\": \"\"}}, \"type\": \"scatter3d\"}], \"scattercarpet\": [{\"marker\": {\"colorbar\": {\"outlinewidth\": 0, \"ticks\": \"\"}}, \"type\": \"scattercarpet\"}], \"scattergeo\": [{\"marker\": {\"colorbar\": {\"outlinewidth\": 0, \"ticks\": \"\"}}, \"type\": \"scattergeo\"}], \"scattergl\": [{\"marker\": {\"colorbar\": {\"outlinewidth\": 0, \"ticks\": \"\"}}, \"type\": \"scattergl\"}], \"scattermapbox\": [{\"marker\": {\"colorbar\": {\"outlinewidth\": 0, \"ticks\": \"\"}}, \"type\": \"scattermapbox\"}], \"scatterpolar\": [{\"marker\": {\"colorbar\": {\"outlinewidth\": 0, \"ticks\": \"\"}}, \"type\": \"scatterpolar\"}], \"scatterpolargl\": [{\"marker\": {\"colorbar\": {\"outlinewidth\": 0, \"ticks\": \"\"}}, \"type\": \"scatterpolargl\"}], \"scatterternary\": [{\"marker\": {\"colorbar\": {\"outlinewidth\": 0, \"ticks\": \"\"}}, \"type\": \"scatterternary\"}], \"surface\": [{\"colorbar\": {\"outlinewidth\": 0, \"ticks\": \"\"}, \"colorscale\": [[0.0, \"#0d0887\"], [0.1111111111111111, \"#46039f\"], [0.2222222222222222, \"#7201a8\"], [0.3333333333333333, \"#9c179e\"], [0.4444444444444444, \"#bd3786\"], [0.5555555555555556, \"#d8576b\"], [0.6666666666666666, \"#ed7953\"], [0.7777777777777778, \"#fb9f3a\"], [0.8888888888888888, \"#fdca26\"], [1.0, \"#f0f921\"]], \"type\": \"surface\"}], \"table\": [{\"cells\": {\"fill\": {\"color\": \"#EBF0F8\"}, \"line\": {\"color\": \"white\"}}, \"header\": {\"fill\": {\"color\": \"#C8D4E3\"}, \"line\": {\"color\": \"white\"}}, \"type\": \"table\"}]}, \"layout\": {\"annotationdefaults\": {\"arrowcolor\": \"#2a3f5f\", \"arrowhead\": 0, \"arrowwidth\": 1}, \"coloraxis\": {\"colorbar\": {\"outlinewidth\": 0, \"ticks\": \"\"}}, \"colorscale\": {\"diverging\": [[0, \"#8e0152\"], [0.1, \"#c51b7d\"], [0.2, \"#de77ae\"], [0.3, \"#f1b6da\"], [0.4, \"#fde0ef\"], [0.5, \"#f7f7f7\"], [0.6, \"#e6f5d0\"], [0.7, \"#b8e186\"], [0.8, \"#7fbc41\"], [0.9, \"#4d9221\"], [1, \"#276419\"]], \"sequential\": [[0.0, \"#0d0887\"], [0.1111111111111111, \"#46039f\"], [0.2222222222222222, \"#7201a8\"], [0.3333333333333333, \"#9c179e\"], [0.4444444444444444, \"#bd3786\"], [0.5555555555555556, \"#d8576b\"], [0.6666666666666666, \"#ed7953\"], [0.7777777777777778, \"#fb9f3a\"], [0.8888888888888888, \"#fdca26\"], [1.0, \"#f0f921\"]], \"sequentialminus\": [[0.0, \"#0d0887\"], [0.1111111111111111, \"#46039f\"], [0.2222222222222222, \"#7201a8\"], [0.3333333333333333, \"#9c179e\"], [0.4444444444444444, \"#bd3786\"], [0.5555555555555556, \"#d8576b\"], [0.6666666666666666, \"#ed7953\"], [0.7777777777777778, \"#fb9f3a\"], [0.8888888888888888, \"#fdca26\"], [1.0, \"#f0f921\"]]}, \"colorway\": [\"#636efa\", \"#EF553B\", \"#00cc96\", \"#ab63fa\", \"#FFA15A\", \"#19d3f3\", \"#FF6692\", \"#B6E880\", \"#FF97FF\", \"#FECB52\"], \"font\": {\"color\": \"#2a3f5f\"}, \"geo\": {\"bgcolor\": \"white\", \"lakecolor\": \"white\", \"landcolor\": \"#E5ECF6\", \"showlakes\": true, \"showland\": true, \"subunitcolor\": \"white\"}, \"hoverlabel\": {\"align\": \"left\"}, \"hovermode\": \"closest\", \"mapbox\": {\"style\": \"light\"}, \"paper_bgcolor\": \"white\", \"plot_bgcolor\": \"#E5ECF6\", \"polar\": {\"angularaxis\": {\"gridcolor\": \"white\", \"linecolor\": \"white\", \"ticks\": \"\"}, \"bgcolor\": \"#E5ECF6\", \"radialaxis\": {\"gridcolor\": \"white\", \"linecolor\": \"white\", \"ticks\": \"\"}}, \"scene\": {\"xaxis\": {\"backgroundcolor\": \"#E5ECF6\", \"gridcolor\": \"white\", \"gridwidth\": 2, \"linecolor\": \"white\", \"showbackground\": true, \"ticks\": \"\", \"zerolinecolor\": \"white\"}, \"yaxis\": {\"backgroundcolor\": \"#E5ECF6\", \"gridcolor\": \"white\", \"gridwidth\": 2, \"linecolor\": \"white\", \"showbackground\": true, \"ticks\": \"\", \"zerolinecolor\": \"white\"}, \"zaxis\": {\"backgroundcolor\": \"#E5ECF6\", \"gridcolor\": \"white\", \"gridwidth\": 2, \"linecolor\": \"white\", \"showbackground\": true, \"ticks\": \"\", \"zerolinecolor\": \"white\"}}, \"shapedefaults\": {\"line\": {\"color\": \"#2a3f5f\"}}, \"ternary\": {\"aaxis\": {\"gridcolor\": \"white\", \"linecolor\": \"white\", \"ticks\": \"\"}, \"baxis\": {\"gridcolor\": \"white\", \"linecolor\": \"white\", \"ticks\": \"\"}, \"bgcolor\": \"#E5ECF6\", \"caxis\": {\"gridcolor\": \"white\", \"linecolor\": \"white\", \"ticks\": \"\"}}, \"title\": {\"x\": 0.05}, \"xaxis\": {\"automargin\": true, \"gridcolor\": \"white\", \"linecolor\": \"white\", \"ticks\": \"\", \"title\": {\"standoff\": 15}, \"zerolinecolor\": \"white\", \"zerolinewidth\": 2}, \"yaxis\": {\"automargin\": true, \"gridcolor\": \"white\", \"linecolor\": \"white\", \"ticks\": \"\", \"title\": {\"standoff\": 15}, \"zerolinecolor\": \"white\", \"zerolinewidth\": 2}}}},\n",
              "                        {\"responsive\": true}\n",
              "                    ).then(function(){\n",
              "                            \n",
              "var gd = document.getElementById('a3c2222a-85cd-4603-af7d-c5cc795634d3');\n",
              "var x = new MutationObserver(function (mutations, observer) {{\n",
              "        var display = window.getComputedStyle(gd).display;\n",
              "        if (!display || display === 'none') {{\n",
              "            console.log([gd, 'removed!']);\n",
              "            Plotly.purge(gd);\n",
              "            observer.disconnect();\n",
              "        }}\n",
              "}});\n",
              "\n",
              "// Listen for the removal of the full notebook cells\n",
              "var notebookContainer = gd.closest('#notebook-container');\n",
              "if (notebookContainer) {{\n",
              "    x.observe(notebookContainer, {childList: true});\n",
              "}}\n",
              "\n",
              "// Listen for the clearing of the current output cell\n",
              "var outputEl = gd.closest('.output');\n",
              "if (outputEl) {{\n",
              "    x.observe(outputEl, {childList: true});\n",
              "}}\n",
              "\n",
              "                        })\n",
              "                };\n",
              "                \n",
              "            </script>\n",
              "        </div>\n",
              "</body>\n",
              "</html>"
            ]
          },
          "metadata": {
            "tags": []
          }
        }
      ]
    },
    {
      "cell_type": "markdown",
      "metadata": {
        "id": "432Hhn4rWKR0",
        "colab_type": "text"
      },
      "source": [
        "Let's try to use the 2 most correlated variables: *Median Income* and *Bedroom per room*:"
      ]
    },
    {
      "cell_type": "code",
      "metadata": {
        "id": "tmwSfuBsUCMI",
        "colab_type": "code",
        "colab": {
          "base_uri": "https://localhost:8080/",
          "height": 542
        },
        "outputId": "3ebbbc13-ce98-4d21-9ff0-88b53b5fb0bc"
      },
      "source": [
        "import plotly.express as px\n",
        "df = px.data.iris()\n",
        "fig = px.scatter_3d(x=housing_prepared[:10,7], \n",
        "                    y=housing_prepared[:10,10], \n",
        "                    z=housing_labels[:10],\n",
        "                    labels={\n",
        "                     \"x\": \"Median Income\",\n",
        "                     \"y\": \"Bedroom per room\",\n",
        "                     \"z\": \"median house value\"\n",
        "                 })\n",
        "fig.show()"
      ],
      "execution_count": null,
      "outputs": [
        {
          "output_type": "display_data",
          "data": {
            "text/html": [
              "<html>\n",
              "<head><meta charset=\"utf-8\" /></head>\n",
              "<body>\n",
              "    <div>\n",
              "            <script src=\"https://cdnjs.cloudflare.com/ajax/libs/mathjax/2.7.5/MathJax.js?config=TeX-AMS-MML_SVG\"></script><script type=\"text/javascript\">if (window.MathJax) {MathJax.Hub.Config({SVG: {font: \"STIX-Web\"}});}</script>\n",
              "                <script type=\"text/javascript\">window.PlotlyConfig = {MathJaxConfig: 'local'};</script>\n",
              "        <script src=\"https://cdn.plot.ly/plotly-latest.min.js\"></script>    \n",
              "            <div id=\"feb01eb7-2d07-4bf7-acb0-18c54a6cbb12\" class=\"plotly-graph-div\" style=\"height:525px; width:100%;\"></div>\n",
              "            <script type=\"text/javascript\">\n",
              "                \n",
              "                    window.PLOTLYENV=window.PLOTLYENV || {};\n",
              "                    \n",
              "                if (document.getElementById(\"feb01eb7-2d07-4bf7-acb0-18c54a6cbb12\")) {\n",
              "                    Plotly.newPlot(\n",
              "                        'feb01eb7-2d07-4bf7-acb0-18c54a6cbb12',\n",
              "                        [{\"hoverlabel\": {\"namelength\": 0}, \"hovertemplate\": \"Median Income=%{x}<br>Bedroom per room=%{y}<br>median house value=%{z}\", \"legendgroup\": \"\", \"marker\": {\"color\": \"#636efa\", \"symbol\": \"circle\"}, \"mode\": \"markers\", \"name\": \"\", \"scene\": \"scene\", \"showlegend\": false, \"type\": \"scatter3d\", \"x\": [-0.6149374443958345, 1.336459363533279, -0.5320456021565129, -1.0455655519887141, -0.4414367866371528, -0.1764348742723039, 2.3667015446268134, 1.1152394628388507, -1.076905912860706, -1.7721159614834663], \"y\": [0.15531753037148296, -0.8362890162005467, 0.42220040219184213, -0.19645314173623826, 0.26992769568468983, -0.19926408718795507, -1.0979227891045813, -1.073504080533854, 0.545224567828979, 3.5345312131332824], \"z\": [286600.0, 340600.0, 196900.0, 46300.0, 254500.0, 127900.0, 500001.0, 140200.0, 95000.0, 500001.0]}],\n",
              "                        {\"legend\": {\"tracegroupgap\": 0}, \"margin\": {\"t\": 60}, \"scene\": {\"domain\": {\"x\": [0.0, 1.0], \"y\": [0.0, 1.0]}, \"xaxis\": {\"title\": {\"text\": \"Median Income\"}}, \"yaxis\": {\"title\": {\"text\": \"Bedroom per room\"}}, \"zaxis\": {\"title\": {\"text\": \"median house value\"}}}, \"template\": {\"data\": {\"bar\": [{\"error_x\": {\"color\": \"#2a3f5f\"}, \"error_y\": {\"color\": \"#2a3f5f\"}, \"marker\": {\"line\": {\"color\": \"#E5ECF6\", \"width\": 0.5}}, \"type\": \"bar\"}], \"barpolar\": [{\"marker\": {\"line\": {\"color\": \"#E5ECF6\", \"width\": 0.5}}, \"type\": \"barpolar\"}], \"carpet\": [{\"aaxis\": {\"endlinecolor\": \"#2a3f5f\", \"gridcolor\": \"white\", \"linecolor\": \"white\", \"minorgridcolor\": \"white\", \"startlinecolor\": \"#2a3f5f\"}, \"baxis\": {\"endlinecolor\": \"#2a3f5f\", \"gridcolor\": \"white\", \"linecolor\": \"white\", \"minorgridcolor\": \"white\", \"startlinecolor\": \"#2a3f5f\"}, \"type\": \"carpet\"}], \"choropleth\": [{\"colorbar\": {\"outlinewidth\": 0, \"ticks\": \"\"}, \"type\": \"choropleth\"}], \"contour\": [{\"colorbar\": {\"outlinewidth\": 0, \"ticks\": \"\"}, \"colorscale\": [[0.0, \"#0d0887\"], [0.1111111111111111, \"#46039f\"], [0.2222222222222222, \"#7201a8\"], [0.3333333333333333, \"#9c179e\"], [0.4444444444444444, \"#bd3786\"], [0.5555555555555556, \"#d8576b\"], [0.6666666666666666, \"#ed7953\"], [0.7777777777777778, \"#fb9f3a\"], [0.8888888888888888, \"#fdca26\"], [1.0, \"#f0f921\"]], \"type\": \"contour\"}], \"contourcarpet\": [{\"colorbar\": {\"outlinewidth\": 0, \"ticks\": \"\"}, \"type\": \"contourcarpet\"}], \"heatmap\": [{\"colorbar\": {\"outlinewidth\": 0, \"ticks\": \"\"}, \"colorscale\": [[0.0, \"#0d0887\"], [0.1111111111111111, \"#46039f\"], [0.2222222222222222, \"#7201a8\"], [0.3333333333333333, \"#9c179e\"], [0.4444444444444444, \"#bd3786\"], [0.5555555555555556, \"#d8576b\"], [0.6666666666666666, \"#ed7953\"], [0.7777777777777778, \"#fb9f3a\"], [0.8888888888888888, \"#fdca26\"], [1.0, \"#f0f921\"]], \"type\": \"heatmap\"}], \"heatmapgl\": [{\"colorbar\": {\"outlinewidth\": 0, \"ticks\": \"\"}, \"colorscale\": [[0.0, \"#0d0887\"], [0.1111111111111111, \"#46039f\"], [0.2222222222222222, \"#7201a8\"], [0.3333333333333333, \"#9c179e\"], [0.4444444444444444, \"#bd3786\"], [0.5555555555555556, \"#d8576b\"], [0.6666666666666666, \"#ed7953\"], [0.7777777777777778, \"#fb9f3a\"], [0.8888888888888888, \"#fdca26\"], [1.0, \"#f0f921\"]], \"type\": \"heatmapgl\"}], \"histogram\": [{\"marker\": {\"colorbar\": {\"outlinewidth\": 0, \"ticks\": \"\"}}, \"type\": \"histogram\"}], \"histogram2d\": [{\"colorbar\": {\"outlinewidth\": 0, \"ticks\": \"\"}, \"colorscale\": [[0.0, \"#0d0887\"], [0.1111111111111111, \"#46039f\"], [0.2222222222222222, \"#7201a8\"], [0.3333333333333333, \"#9c179e\"], [0.4444444444444444, \"#bd3786\"], [0.5555555555555556, \"#d8576b\"], [0.6666666666666666, \"#ed7953\"], [0.7777777777777778, \"#fb9f3a\"], [0.8888888888888888, \"#fdca26\"], [1.0, \"#f0f921\"]], \"type\": \"histogram2d\"}], \"histogram2dcontour\": [{\"colorbar\": {\"outlinewidth\": 0, \"ticks\": \"\"}, \"colorscale\": [[0.0, \"#0d0887\"], [0.1111111111111111, \"#46039f\"], [0.2222222222222222, \"#7201a8\"], [0.3333333333333333, \"#9c179e\"], [0.4444444444444444, \"#bd3786\"], [0.5555555555555556, \"#d8576b\"], [0.6666666666666666, \"#ed7953\"], [0.7777777777777778, \"#fb9f3a\"], [0.8888888888888888, \"#fdca26\"], [1.0, \"#f0f921\"]], \"type\": \"histogram2dcontour\"}], \"mesh3d\": [{\"colorbar\": {\"outlinewidth\": 0, \"ticks\": \"\"}, \"type\": \"mesh3d\"}], \"parcoords\": [{\"line\": {\"colorbar\": {\"outlinewidth\": 0, \"ticks\": \"\"}}, \"type\": \"parcoords\"}], \"pie\": [{\"automargin\": true, \"type\": \"pie\"}], \"scatter\": [{\"marker\": {\"colorbar\": {\"outlinewidth\": 0, \"ticks\": \"\"}}, \"type\": \"scatter\"}], \"scatter3d\": [{\"line\": {\"colorbar\": {\"outlinewidth\": 0, \"ticks\": \"\"}}, \"marker\": {\"colorbar\": {\"outlinewidth\": 0, \"ticks\": \"\"}}, \"type\": \"scatter3d\"}], \"scattercarpet\": [{\"marker\": {\"colorbar\": {\"outlinewidth\": 0, \"ticks\": \"\"}}, \"type\": \"scattercarpet\"}], \"scattergeo\": [{\"marker\": {\"colorbar\": {\"outlinewidth\": 0, \"ticks\": \"\"}}, \"type\": \"scattergeo\"}], \"scattergl\": [{\"marker\": {\"colorbar\": {\"outlinewidth\": 0, \"ticks\": \"\"}}, \"type\": \"scattergl\"}], \"scattermapbox\": [{\"marker\": {\"colorbar\": {\"outlinewidth\": 0, \"ticks\": \"\"}}, \"type\": \"scattermapbox\"}], \"scatterpolar\": [{\"marker\": {\"colorbar\": {\"outlinewidth\": 0, \"ticks\": \"\"}}, \"type\": \"scatterpolar\"}], \"scatterpolargl\": [{\"marker\": {\"colorbar\": {\"outlinewidth\": 0, \"ticks\": \"\"}}, \"type\": \"scatterpolargl\"}], \"scatterternary\": [{\"marker\": {\"colorbar\": {\"outlinewidth\": 0, \"ticks\": \"\"}}, \"type\": \"scatterternary\"}], \"surface\": [{\"colorbar\": {\"outlinewidth\": 0, \"ticks\": \"\"}, \"colorscale\": [[0.0, \"#0d0887\"], [0.1111111111111111, \"#46039f\"], [0.2222222222222222, \"#7201a8\"], [0.3333333333333333, \"#9c179e\"], [0.4444444444444444, \"#bd3786\"], [0.5555555555555556, \"#d8576b\"], [0.6666666666666666, \"#ed7953\"], [0.7777777777777778, \"#fb9f3a\"], [0.8888888888888888, \"#fdca26\"], [1.0, \"#f0f921\"]], \"type\": \"surface\"}], \"table\": [{\"cells\": {\"fill\": {\"color\": \"#EBF0F8\"}, \"line\": {\"color\": \"white\"}}, \"header\": {\"fill\": {\"color\": \"#C8D4E3\"}, \"line\": {\"color\": \"white\"}}, \"type\": \"table\"}]}, \"layout\": {\"annotationdefaults\": {\"arrowcolor\": \"#2a3f5f\", \"arrowhead\": 0, \"arrowwidth\": 1}, \"coloraxis\": {\"colorbar\": {\"outlinewidth\": 0, \"ticks\": \"\"}}, \"colorscale\": {\"diverging\": [[0, \"#8e0152\"], [0.1, \"#c51b7d\"], [0.2, \"#de77ae\"], [0.3, \"#f1b6da\"], [0.4, \"#fde0ef\"], [0.5, \"#f7f7f7\"], [0.6, \"#e6f5d0\"], [0.7, \"#b8e186\"], [0.8, \"#7fbc41\"], [0.9, \"#4d9221\"], [1, \"#276419\"]], \"sequential\": [[0.0, \"#0d0887\"], [0.1111111111111111, \"#46039f\"], [0.2222222222222222, \"#7201a8\"], [0.3333333333333333, \"#9c179e\"], [0.4444444444444444, \"#bd3786\"], [0.5555555555555556, \"#d8576b\"], [0.6666666666666666, \"#ed7953\"], [0.7777777777777778, \"#fb9f3a\"], [0.8888888888888888, \"#fdca26\"], [1.0, \"#f0f921\"]], \"sequentialminus\": [[0.0, \"#0d0887\"], [0.1111111111111111, \"#46039f\"], [0.2222222222222222, \"#7201a8\"], [0.3333333333333333, \"#9c179e\"], [0.4444444444444444, \"#bd3786\"], [0.5555555555555556, \"#d8576b\"], [0.6666666666666666, \"#ed7953\"], [0.7777777777777778, \"#fb9f3a\"], [0.8888888888888888, \"#fdca26\"], [1.0, \"#f0f921\"]]}, \"colorway\": [\"#636efa\", \"#EF553B\", \"#00cc96\", \"#ab63fa\", \"#FFA15A\", \"#19d3f3\", \"#FF6692\", \"#B6E880\", \"#FF97FF\", \"#FECB52\"], \"font\": {\"color\": \"#2a3f5f\"}, \"geo\": {\"bgcolor\": \"white\", \"lakecolor\": \"white\", \"landcolor\": \"#E5ECF6\", \"showlakes\": true, \"showland\": true, \"subunitcolor\": \"white\"}, \"hoverlabel\": {\"align\": \"left\"}, \"hovermode\": \"closest\", \"mapbox\": {\"style\": \"light\"}, \"paper_bgcolor\": \"white\", \"plot_bgcolor\": \"#E5ECF6\", \"polar\": {\"angularaxis\": {\"gridcolor\": \"white\", \"linecolor\": \"white\", \"ticks\": \"\"}, \"bgcolor\": \"#E5ECF6\", \"radialaxis\": {\"gridcolor\": \"white\", \"linecolor\": \"white\", \"ticks\": \"\"}}, \"scene\": {\"xaxis\": {\"backgroundcolor\": \"#E5ECF6\", \"gridcolor\": \"white\", \"gridwidth\": 2, \"linecolor\": \"white\", \"showbackground\": true, \"ticks\": \"\", \"zerolinecolor\": \"white\"}, \"yaxis\": {\"backgroundcolor\": \"#E5ECF6\", \"gridcolor\": \"white\", \"gridwidth\": 2, \"linecolor\": \"white\", \"showbackground\": true, \"ticks\": \"\", \"zerolinecolor\": \"white\"}, \"zaxis\": {\"backgroundcolor\": \"#E5ECF6\", \"gridcolor\": \"white\", \"gridwidth\": 2, \"linecolor\": \"white\", \"showbackground\": true, \"ticks\": \"\", \"zerolinecolor\": \"white\"}}, \"shapedefaults\": {\"line\": {\"color\": \"#2a3f5f\"}}, \"ternary\": {\"aaxis\": {\"gridcolor\": \"white\", \"linecolor\": \"white\", \"ticks\": \"\"}, \"baxis\": {\"gridcolor\": \"white\", \"linecolor\": \"white\", \"ticks\": \"\"}, \"bgcolor\": \"#E5ECF6\", \"caxis\": {\"gridcolor\": \"white\", \"linecolor\": \"white\", \"ticks\": \"\"}}, \"title\": {\"x\": 0.05}, \"xaxis\": {\"automargin\": true, \"gridcolor\": \"white\", \"linecolor\": \"white\", \"ticks\": \"\", \"title\": {\"standoff\": 15}, \"zerolinecolor\": \"white\", \"zerolinewidth\": 2}, \"yaxis\": {\"automargin\": true, \"gridcolor\": \"white\", \"linecolor\": \"white\", \"ticks\": \"\", \"title\": {\"standoff\": 15}, \"zerolinecolor\": \"white\", \"zerolinewidth\": 2}}}},\n",
              "                        {\"responsive\": true}\n",
              "                    ).then(function(){\n",
              "                            \n",
              "var gd = document.getElementById('feb01eb7-2d07-4bf7-acb0-18c54a6cbb12');\n",
              "var x = new MutationObserver(function (mutations, observer) {{\n",
              "        var display = window.getComputedStyle(gd).display;\n",
              "        if (!display || display === 'none') {{\n",
              "            console.log([gd, 'removed!']);\n",
              "            Plotly.purge(gd);\n",
              "            observer.disconnect();\n",
              "        }}\n",
              "}});\n",
              "\n",
              "// Listen for the removal of the full notebook cells\n",
              "var notebookContainer = gd.closest('#notebook-container');\n",
              "if (notebookContainer) {{\n",
              "    x.observe(notebookContainer, {childList: true});\n",
              "}}\n",
              "\n",
              "// Listen for the clearing of the current output cell\n",
              "var outputEl = gd.closest('.output');\n",
              "if (outputEl) {{\n",
              "    x.observe(outputEl, {childList: true});\n",
              "}}\n",
              "\n",
              "                        })\n",
              "                };\n",
              "                \n",
              "            </script>\n",
              "        </div>\n",
              "</body>\n",
              "</html>"
            ]
          },
          "metadata": {
            "tags": []
          }
        }
      ]
    },
    {
      "cell_type": "markdown",
      "metadata": {
        "id": "DTK5qQWvXgVV",
        "colab_type": "text"
      },
      "source": [
        "#### Linear Regression model"
      ]
    },
    {
      "cell_type": "code",
      "metadata": {
        "id": "KrP38wIUEhU4",
        "colab_type": "code",
        "colab": {
          "base_uri": "https://localhost:8080/",
          "height": 34
        },
        "outputId": "90f78cee-b1bc-4ce9-8faf-da0e7266f0e3"
      },
      "source": [
        "from sklearn.linear_model import LinearRegression\n",
        "\n",
        "lin_reg = LinearRegression()\n",
        "lin_reg.fit(housing_prepared, housing_labels)"
      ],
      "execution_count": null,
      "outputs": [
        {
          "output_type": "execute_result",
          "data": {
            "text/plain": [
              "LinearRegression(copy_X=True, fit_intercept=True, n_jobs=None, normalize=False)"
            ]
          },
          "metadata": {
            "tags": []
          },
          "execution_count": 25
        }
      ]
    },
    {
      "cell_type": "markdown",
      "metadata": {
        "id": "ChOiomPYl-fb",
        "colab_type": "text"
      },
      "source": [
        "With the two lines of code above, you now have a working `Linear Regression` model!"
      ]
    },
    {
      "cell_type": "code",
      "metadata": {
        "id": "ZwpnYybKEhU5",
        "colab_type": "code",
        "colab": {}
      },
      "source": [
        "# let's try the full preprocessing pipeline on a few training instances\n",
        "some_data = housing.iloc[:5]\n",
        "some_labels = housing_labels.iloc[:5]\n",
        "some_data_prepared = full_pipeline.transform(some_data)"
      ],
      "execution_count": null,
      "outputs": []
    },
    {
      "cell_type": "code",
      "metadata": {
        "id": "lyPtJoBsEhU8",
        "colab_type": "code",
        "colab": {
          "base_uri": "https://localhost:8080/",
          "height": 357
        },
        "outputId": "d0add529-e424-455e-d6ab-464ee9a5f5e0"
      },
      "source": [
        "some_data_prepared"
      ],
      "execution_count": null,
      "outputs": [
        {
          "output_type": "execute_result",
          "data": {
            "text/plain": [
              "array([[-1.15604281,  0.77194962,  0.74333089, -0.49323393, -0.44543821,\n",
              "        -0.63621141, -0.42069842, -0.61493744, -0.31205452, -0.08649871,\n",
              "         0.15531753,  1.        ,  0.        ,  0.        ,  0.        ,\n",
              "         0.        ],\n",
              "       [-1.17602483,  0.6596948 , -1.1653172 , -0.90896655, -1.0369278 ,\n",
              "        -0.99833135, -1.02222705,  1.33645936,  0.21768338, -0.03353391,\n",
              "        -0.83628902,  1.        ,  0.        ,  0.        ,  0.        ,\n",
              "         0.        ],\n",
              "       [ 1.18684903, -1.34218285,  0.18664186, -0.31365989, -0.15334458,\n",
              "        -0.43363936, -0.0933178 , -0.5320456 , -0.46531516, -0.09240499,\n",
              "         0.4222004 ,  0.        ,  0.        ,  0.        ,  0.        ,\n",
              "         1.        ],\n",
              "       [-0.01706767,  0.31357576, -0.29052016, -0.36276217, -0.39675594,\n",
              "         0.03604096, -0.38343559, -1.04556555, -0.07966124,  0.08973561,\n",
              "        -0.19645314,  0.        ,  1.        ,  0.        ,  0.        ,\n",
              "         0.        ],\n",
              "       [ 0.49247384, -0.65929936, -0.92673619,  1.85619316,  2.41221109,\n",
              "         2.72415407,  2.57097492, -0.44143679, -0.35783383, -0.00419445,\n",
              "         0.2699277 ,  1.        ,  0.        ,  0.        ,  0.        ,\n",
              "         0.        ]])"
            ]
          },
          "metadata": {
            "tags": []
          },
          "execution_count": 27
        }
      ]
    },
    {
      "cell_type": "code",
      "metadata": {
        "id": "keYNzCRtqUvm",
        "colab_type": "code",
        "colab": {
          "base_uri": "https://localhost:8080/",
          "height": 51
        },
        "outputId": "b55d8112-03b5-4e8c-f51e-1a2ac5a3f4d9"
      },
      "source": [
        "print(\"Predictions:\", lin_reg.predict(some_data_prepared))"
      ],
      "execution_count": null,
      "outputs": [
        {
          "output_type": "stream",
          "text": [
            "Predictions: [210644.60459286 317768.80697211 210956.43331178  59218.98886849\n",
            " 189747.55849879]\n"
          ],
          "name": "stdout"
        }
      ]
    },
    {
      "cell_type": "markdown",
      "metadata": {
        "id": "_ZtVPztsEhU6",
        "colab_type": "text"
      },
      "source": [
        "Compare against the actual values:"
      ]
    },
    {
      "cell_type": "code",
      "metadata": {
        "id": "vw6v0zZaEhU7",
        "colab_type": "code",
        "colab": {
          "base_uri": "https://localhost:8080/",
          "height": 34
        },
        "outputId": "ad08c670-0c7c-4119-a5b3-335cd5e224f7"
      },
      "source": [
        "print(\"Labels:\", list(some_labels))"
      ],
      "execution_count": null,
      "outputs": [
        {
          "output_type": "stream",
          "text": [
            "Labels: [286600.0, 340600.0, 196900.0, 46300.0, 254500.0]\n"
          ],
          "name": "stdout"
        }
      ]
    },
    {
      "cell_type": "markdown",
      "metadata": {
        "id": "cgRkpOfoJjvu",
        "colab_type": "text"
      },
      "source": [
        "### Performance Measure  "
      ]
    },
    {
      "cell_type": "markdown",
      "metadata": {
        "id": "rYpP5D3JzH-a",
        "colab_type": "text"
      },
      "source": [
        "#### Root Mean Squared Error (RMSE)\n",
        "\n",
        "RMSE (**X**, $h$) = $\\sqrt{ \\frac{1}{m} \\sum\\limits_{i=1}^{m} (h(\\pmb{x}^{(i)}) - y^{(i)})^{2}}$\n",
        "\n",
        "where:  \n",
        "$m$ = number of instances  \n",
        "$\\pmb{x}^{i}$ = vector of feature values  \n",
        "$y$ = label (output value)  \n",
        "$h$ = hypothesis (predicted value) = $\\hat{y}^{(i)}$ \n"
      ]
    },
    {
      "cell_type": "markdown",
      "metadata": {
        "id": "lvBzVcj7v7E2",
        "colab_type": "text"
      },
      "source": [
        "For the first five rows in our housing dataset:"
      ]
    },
    {
      "cell_type": "code",
      "metadata": {
        "id": "fYyV7D2SveXO",
        "colab_type": "code",
        "colab": {
          "base_uri": "https://localhost:8080/",
          "height": 34
        },
        "outputId": "b91bc0ab-ba3b-49bb-b0c1-a54ad6c1e076"
      },
      "source": [
        "from sklearn.metrics import mean_squared_error\n",
        "\n",
        "some_data_predictions = lin_reg.predict(some_data_prepared)\n",
        "lin_mse_some = mean_squared_error(some_labels, some_data_predictions)\n",
        "lin_rmse_some = np.sqrt(lin_mse_some)\n",
        "lin_rmse_some"
      ],
      "execution_count": null,
      "outputs": [
        {
          "output_type": "execute_result",
          "data": {
            "text/plain": [
              "46578.63831786735"
            ]
          },
          "metadata": {
            "tags": []
          },
          "execution_count": 31
        }
      ]
    },
    {
      "cell_type": "markdown",
      "metadata": {
        "id": "AWUyign1wKSm",
        "colab_type": "text"
      },
      "source": [
        "For the whole training dataset:"
      ]
    },
    {
      "cell_type": "code",
      "metadata": {
        "id": "M7R2uB19EhU9",
        "colab_type": "code",
        "colab": {
          "base_uri": "https://localhost:8080/",
          "height": 34
        },
        "outputId": "bf6981cf-795d-4dec-8488-1dae7e4e3ec7"
      },
      "source": [
        "housing_predictions = lin_reg.predict(housing_prepared)\n",
        "lin_mse = mean_squared_error(housing_labels, housing_predictions)\n",
        "lin_rmse = np.sqrt(lin_mse)\n",
        "lin_rmse"
      ],
      "execution_count": null,
      "outputs": [
        {
          "output_type": "execute_result",
          "data": {
            "text/plain": [
              "68628.19819848923"
            ]
          },
          "metadata": {
            "tags": []
          },
          "execution_count": 32
        }
      ]
    },
    {
      "cell_type": "markdown",
      "metadata": {
        "id": "eZOJW8W1qkBn",
        "colab_type": "text"
      },
      "source": [
        "#### Mean Absolute Error (MAE)\n",
        "\n",
        "MAE (**X**, $h$) = $\\frac{1}{m} \\sum\\limits_{i=1}^{m} \\lvert h(\\pmb{x}^{(i)}) - y^{(i)} \\rvert$"
      ]
    },
    {
      "cell_type": "code",
      "metadata": {
        "id": "4_DPguR6EhU_",
        "colab_type": "code",
        "colab": {
          "base_uri": "https://localhost:8080/",
          "height": 34
        },
        "outputId": "3a2b5a18-2a03-4a41-94b9-9eefba6670e0"
      },
      "source": [
        "from sklearn.metrics import mean_absolute_error\n",
        "\n",
        "lin_mae = mean_absolute_error(housing_labels, housing_predictions)\n",
        "lin_mae"
      ],
      "execution_count": null,
      "outputs": [
        {
          "output_type": "execute_result",
          "data": {
            "text/plain": [
              "49439.89599001897"
            ]
          },
          "metadata": {
            "tags": []
          },
          "execution_count": 33
        }
      ]
    },
    {
      "cell_type": "markdown",
      "metadata": {
        "id": "tVft7We6xpjd",
        "colab_type": "text"
      },
      "source": [
        "### Decision Tree Regressor"
      ]
    },
    {
      "cell_type": "markdown",
      "metadata": {
        "id": "xVj86nkZLT8_",
        "colab_type": "text"
      },
      "source": [
        "Daily example of [Decision Tree](https://towardsdatascience.com/https-medium-com-lorrli-classification-and-regression-analysis-with-decision-trees-c43cdbc58054):\n",
        "\n",
        "![example_decision_tree_regressor.jpeg](data:image/jpeg;base64,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)"
      ]
    },
    {
      "cell_type": "markdown",
      "metadata": {
        "id": "FZBe4z0IiNcL",
        "colab_type": "text"
      },
      "source": [
        "In our decision tree model, we use:\n",
        "\n",
        "`sklearn.tree.`**DecisionTreeRegressor**`(*, criterion='mse', splitter='best', max_depth=None, min_samples_split=2, min_samples_leaf=1, min_weight_fraction_leaf=0.0, max_features=None, random_state=None, max_leaf_nodes=None, min_impurity_decrease=0.0, min_impurity_split=None, presort='deprecated', ccp_alpha=0.0)`\n",
        "\n",
        "Criterion:  \n",
        "MSE = $\\frac{1}{m} \\sum\\limits_{i=1}^{m} (h(\\pmb{x}^{(i)}) - y^{(i)})^{2}$"
      ]
    },
    {
      "cell_type": "code",
      "metadata": {
        "id": "INnE_h8EEhVA",
        "colab_type": "code",
        "colab": {
          "base_uri": "https://localhost:8080/",
          "height": 119
        },
        "outputId": "f83aabdb-3263-48da-ffe4-3c407cc1d11d"
      },
      "source": [
        "from sklearn.tree import DecisionTreeRegressor\n",
        "\n",
        "tree_reg = DecisionTreeRegressor(random_state=42)\n",
        "tree_reg.fit(housing_prepared, housing_labels)"
      ],
      "execution_count": null,
      "outputs": [
        {
          "output_type": "execute_result",
          "data": {
            "text/plain": [
              "DecisionTreeRegressor(ccp_alpha=0.0, criterion='mse', max_depth=None,\n",
              "                      max_features=None, max_leaf_nodes=None,\n",
              "                      min_impurity_decrease=0.0, min_impurity_split=None,\n",
              "                      min_samples_leaf=1, min_samples_split=2,\n",
              "                      min_weight_fraction_leaf=0.0, presort='deprecated',\n",
              "                      random_state=42, splitter='best')"
            ]
          },
          "metadata": {
            "tags": []
          },
          "execution_count": 34
        }
      ]
    },
    {
      "cell_type": "code",
      "metadata": {
        "id": "aLU4Xx6qEhVB",
        "colab_type": "code",
        "colab": {
          "base_uri": "https://localhost:8080/",
          "height": 34
        },
        "outputId": "32631a17-070e-492b-fba1-c5513ee797af"
      },
      "source": [
        "housing_predictions = tree_reg.predict(housing_prepared)\n",
        "tree_mse = mean_squared_error(housing_labels, housing_predictions)\n",
        "tree_rmse = np.sqrt(tree_mse)\n",
        "tree_rmse"
      ],
      "execution_count": null,
      "outputs": [
        {
          "output_type": "execute_result",
          "data": {
            "text/plain": [
              "0.0"
            ]
          },
          "metadata": {
            "tags": []
          },
          "execution_count": 35
        }
      ]
    },
    {
      "cell_type": "markdown",
      "metadata": {
        "id": "q6kQqZC6yMzY",
        "colab_type": "text"
      },
      "source": [
        "Too good to be true to have `0%` RMSE? We should plot the ground truth vs the prediction:"
      ]
    },
    {
      "cell_type": "code",
      "metadata": {
        "id": "gDxpW2J-jp1q",
        "colab_type": "code",
        "colab": {
          "base_uri": "https://localhost:8080/",
          "height": 285
        },
        "outputId": "fcca618b-159a-45a6-d8a2-400c17a80dab"
      },
      "source": [
        "plt.scatter(housing_predictions, housing_labels)"
      ],
      "execution_count": null,
      "outputs": [
        {
          "output_type": "execute_result",
          "data": {
            "text/plain": [
              "<matplotlib.collections.PathCollection at 0x7f17b57cca58>"
            ]
          },
          "metadata": {
            "tags": []
          },
          "execution_count": 38
        },
        {
          "output_type": "display_data",
          "data": {
            "image/png": "[encoded data removed]",
            "text/plain": [
              "<Figure size 432x288 with 1 Axes>"
            ]
          },
          "metadata": {
            "tags": [],
            "needs_background": "light"
          }
        }
      ]
    },
    {
      "cell_type": "markdown",
      "metadata": {
        "id": "DuI8aMmoj9rI",
        "colab_type": "text"
      },
      "source": [
        "This is definitely too good to be true. We turn to Cross-Validation to provide a more critical look on our data."
      ]
    },
    {
      "cell_type": "markdown",
      "metadata": {
        "id": "aUKvNX6KzOp5",
        "colab_type": "text"
      },
      "source": [
        "## Cross-validation"
      ]
    },
    {
      "cell_type": "markdown",
      "metadata": {
        "id": "wctiN3Kg3cjj",
        "colab_type": "text"
      },
      "source": [
        "Illustration of 10-fold cross-validation:"
      ]
    },
    {
      "cell_type": "markdown",
      "metadata": {
        "id": "MN52UzCQMv-x",
        "colab_type": "text"
      },
      "source": [
        "![10-fold_CV.png](data:image/png;base64,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)"
      ]
    },
    {
      "cell_type": "markdown",
      "metadata": {
        "id": "OkLVX_Eq34dO",
        "colab_type": "text"
      },
      "source": [
        "Since `cross-validation` function expects a `utility function` (higher = better) rather than a `loss function` (lower = better), we set the score to be negative of mean-squared error."
      ]
    },
    {
      "cell_type": "code",
      "metadata": {
        "id": "jdZU_X_9EhVD",
        "colab_type": "code",
        "colab": {}
      },
      "source": [
        "from sklearn.model_selection import cross_val_score\n",
        "\n",
        "scores = cross_val_score(tree_reg, housing_prepared, housing_labels,\n",
        "                         scoring=\"neg_mean_squared_error\", cv=10)\n",
        "tree_rmse_scores = np.sqrt(-scores)"
      ],
      "execution_count": null,
      "outputs": []
    },
    {
      "cell_type": "code",
      "metadata": {
        "id": "KG-oGmUmEhVE",
        "colab_type": "code",
        "colab": {
          "base_uri": "https://localhost:8080/",
          "height": 102
        },
        "outputId": "0c477fe4-a85c-4c40-ce70-130f4ac40e56"
      },
      "source": [
        "def display_scores(scores):\n",
        "    print(\"Scores:\", scores)\n",
        "    print(\"Mean:\", scores.mean())\n",
        "    print(\"Standard deviation:\", scores.std())\n",
        "\n",
        "display_scores(tree_rmse_scores)"
      ],
      "execution_count": null,
      "outputs": [
        {
          "output_type": "stream",
          "text": [
            "Scores: [70194.33680785 66855.16363941 72432.58244769 70758.73896782\n",
            " 71115.88230639 75585.14172901 70262.86139133 70273.6325285\n",
            " 75366.87952553 71231.65726027]\n",
            "Mean: 71407.68766037929\n",
            "Standard deviation: 2439.4345041191004\n"
          ],
          "name": "stdout"
        }
      ]
    },
    {
      "cell_type": "code",
      "metadata": {
        "id": "QHAvy1-UEhVF",
        "colab_type": "code",
        "colab": {
          "base_uri": "https://localhost:8080/",
          "height": 102
        },
        "outputId": "9384edd4-1d07-4db8-92d3-72db57473a37"
      },
      "source": [
        "lin_scores = cross_val_score(lin_reg, housing_prepared, housing_labels,\n",
        "                             scoring=\"neg_mean_squared_error\", cv=10)\n",
        "lin_rmse_scores = np.sqrt(-lin_scores)\n",
        "display_scores(lin_rmse_scores)"
      ],
      "execution_count": null,
      "outputs": [
        {
          "output_type": "stream",
          "text": [
            "Scores: [66782.73843989 66960.118071   70347.95244419 74739.57052552\n",
            " 68031.13388938 71193.84183426 64969.63056405 68281.61137997\n",
            " 71552.91566558 67665.10082067]\n",
            "Mean: 69052.46136345083\n",
            "Standard deviation: 2731.674001798344\n"
          ],
          "name": "stdout"
        }
      ]
    },
    {
      "cell_type": "markdown",
      "metadata": {
        "id": "n82O-ak8EhVG",
        "colab_type": "text"
      },
      "source": [
        "**Note**: we specify `n_estimators=100` to be future-proof since the default value is going to change to 100 in Scikit-Learn 0.22 (for simplicity, this is not shown in the book)."
      ]
    },
    {
      "cell_type": "markdown",
      "metadata": {
        "id": "YCuc4AOmP5Xb",
        "colab_type": "text"
      },
      "source": [
        "### Random Forest Regressor"
      ]
    },
    {
      "cell_type": "markdown",
      "metadata": {
        "id": "fYs3mi4BlE9o",
        "colab_type": "text"
      },
      "source": [
        "Think of Random Forest as multiple decision tree combined into one. It is under `ensemble learning`."
      ]
    },
    {
      "cell_type": "code",
      "metadata": {
        "id": "1UonkXGEEhVG",
        "colab_type": "code",
        "colab": {
          "base_uri": "https://localhost:8080/",
          "height": 136
        },
        "outputId": "fcca2e46-2637-4dfc-e7d6-604fafe5763e"
      },
      "source": [
        "\n",
        "from sklearn.ensemble import RandomForestRegressor\n",
        "\n",
        "forest_reg = RandomForestRegressor(n_estimators=100, random_state=42)\n",
        "forest_reg.fit(housing_prepared, housing_labels)"
      ],
      "execution_count": null,
      "outputs": [
        {
          "output_type": "execute_result",
          "data": {
            "text/plain": [
              "RandomForestRegressor(bootstrap=True, ccp_alpha=0.0, criterion='mse',\n",
              "                      max_depth=None, max_features='auto', max_leaf_nodes=None,\n",
              "                      max_samples=None, min_impurity_decrease=0.0,\n",
              "                      min_impurity_split=None, min_samples_leaf=1,\n",
              "                      min_samples_split=2, min_weight_fraction_leaf=0.0,\n",
              "                      n_estimators=100, n_jobs=None, oob_score=False,\n",
              "                      random_state=42, verbose=0, warm_start=False)"
            ]
          },
          "metadata": {
            "tags": []
          },
          "execution_count": 33
        }
      ]
    },
    {
      "cell_type": "markdown",
      "metadata": {
        "id": "zQn_71rNmpgs",
        "colab_type": "text"
      },
      "source": [
        "`n_estimators`: the number of trees in the random forest model."
      ]
    },
    {
      "cell_type": "code",
      "metadata": {
        "id": "hBASPoSyEhVI",
        "colab_type": "code",
        "colab": {
          "base_uri": "https://localhost:8080/",
          "height": 34
        },
        "outputId": "660bc253-26c5-4708-ab76-ca9143ee40eb"
      },
      "source": [
        "housing_predictions = forest_reg.predict(housing_prepared)\n",
        "forest_mse = mean_squared_error(housing_labels, housing_predictions)\n",
        "forest_rmse = np.sqrt(forest_mse)\n",
        "forest_rmse"
      ],
      "execution_count": null,
      "outputs": [
        {
          "output_type": "execute_result",
          "data": {
            "text/plain": [
              "18603.515021376355"
            ]
          },
          "metadata": {
            "tags": []
          },
          "execution_count": 34
        }
      ]
    },
    {
      "cell_type": "code",
      "metadata": {
        "id": "u1up3VGhEhVK",
        "colab_type": "code",
        "colab": {
          "base_uri": "https://localhost:8080/",
          "height": 102
        },
        "outputId": "1b1a347c-b611-438d-f835-1fe03f71b494"
      },
      "source": [
        "from sklearn.model_selection import cross_val_score\n",
        "\n",
        "forest_scores = cross_val_score(forest_reg, housing_prepared, housing_labels,\n",
        "                                scoring=\"neg_mean_squared_error\", cv=10)\n",
        "forest_rmse_scores = np.sqrt(-forest_scores)\n",
        "display_scores(forest_rmse_scores)"
      ],
      "execution_count": null,
      "outputs": [
        {
          "output_type": "stream",
          "text": [
            "Scores: [49519.80364233 47461.9115823  50029.02762854 52325.28068953\n",
            " 49308.39426421 53446.37892622 48634.8036574  47585.73832311\n",
            " 53490.10699751 50021.5852922 ]\n",
            "Mean: 50182.303100336096\n",
            "Standard deviation: 2097.0810550985693\n"
          ],
          "name": "stdout"
        }
      ]
    },
    {
      "cell_type": "code",
      "metadata": {
        "id": "7Z8scdU8EhVM",
        "colab_type": "code",
        "colab": {}
      },
      "source": [
        "scores = cross_val_score(lin_reg, housing_prepared, housing_labels, scoring=\"neg_mean_squared_error\", cv=10)\n",
        "pd.Series(np.sqrt(-scores)).describe()"
      ],
      "execution_count": null,
      "outputs": []
    },
    {
      "cell_type": "code",
      "metadata": {
        "id": "QF11CtekEhVN",
        "colab_type": "code",
        "colab": {},
        "outputId": "a48ee194-e5e4-418f-ee74-3d71a5bce316"
      },
      "source": [
        "from sklearn.svm import SVR\n",
        "\n",
        "svm_reg = SVR(kernel=\"linear\")\n",
        "svm_reg.fit(housing_prepared, housing_labels)\n",
        "housing_predictions = svm_reg.predict(housing_prepared)\n",
        "svm_mse = mean_squared_error(housing_labels, housing_predictions)\n",
        "svm_rmse = np.sqrt(svm_mse)\n",
        "svm_rmse"
      ],
      "execution_count": null,
      "outputs": [
        {
          "output_type": "execute_result",
          "data": {
            "text/plain": [
              "111094.6308539982"
            ]
          },
          "metadata": {
            "tags": []
          },
          "execution_count": 97
        }
      ]
    },
    {
      "cell_type": "markdown",
      "metadata": {
        "id": "4tJ9Gzn6EhVC",
        "colab_type": "text"
      },
      "source": [
        "# Fine-tune your model"
      ]
    },
    {
      "cell_type": "markdown",
      "metadata": {
        "id": "H6ukgo9b1FXQ",
        "colab_type": "text"
      },
      "source": [
        "## Grid Search"
      ]
    },
    {
      "cell_type": "code",
      "metadata": {
        "id": "5zeay3ncEhVO",
        "colab_type": "code",
        "colab": {
          "base_uri": "https://localhost:8080/",
          "height": 374
        },
        "outputId": "c4a94f39-bdd0-48a7-e73b-d919b0e267c2"
      },
      "source": [
        "from sklearn.model_selection import GridSearchCV\n",
        "\n",
        "param_grid = [\n",
        "    # try 12 (3×4) combinations of hyperparameters\n",
        "    {'n_estimators': [3, 10, 30], 'max_features': [2, 4, 6, 8]},\n",
        "    # then try 6 (2×3) combinations with bootstrap set as False\n",
        "    {'bootstrap': [False], 'n_estimators': [3, 10], 'max_features': [2, 3, 4]},\n",
        "  ]\n",
        "\n",
        "forest_reg = RandomForestRegressor(random_state=42)\n",
        "# train across 5 folds, that's a total of (12+6)*5=90 rounds of training \n",
        "grid_search = GridSearchCV(forest_reg, param_grid, cv=5,\n",
        "                           scoring='neg_mean_squared_error',\n",
        "                           return_train_score=True)\n",
        "grid_search.fit(housing_prepared, housing_labels)"
      ],
      "execution_count": null,
      "outputs": [
        {
          "output_type": "execute_result",
          "data": {
            "text/plain": [
              "GridSearchCV(cv=5, error_score=nan,\n",
              "             estimator=RandomForestRegressor(bootstrap=True, ccp_alpha=0.0,\n",
              "                                             criterion='mse', max_depth=None,\n",
              "                                             max_features='auto',\n",
              "                                             max_leaf_nodes=None,\n",
              "                                             max_samples=None,\n",
              "                                             min_impurity_decrease=0.0,\n",
              "                                             min_impurity_split=None,\n",
              "                                             min_samples_leaf=1,\n",
              "                                             min_samples_split=2,\n",
              "                                             min_weight_fraction_leaf=0.0,\n",
              "                                             n_estimators=100, n_jobs=None,\n",
              "                                             oob_score=False, random_state=42,\n",
              "                                             verbose=0, warm_start=False),\n",
              "             iid='deprecated', n_jobs=None,\n",
              "             param_grid=[{'max_features': [2, 4, 6, 8],\n",
              "                          'n_estimators': [3, 10, 30]},\n",
              "                         {'bootstrap': [False], 'max_features': [2, 3, 4],\n",
              "                          'n_estimators': [3, 10]}],\n",
              "             pre_dispatch='2*n_jobs', refit=True, return_train_score=True,\n",
              "             scoring='neg_mean_squared_error', verbose=0)"
            ]
          },
          "metadata": {
            "tags": []
          },
          "execution_count": 38
        }
      ]
    },
    {
      "cell_type": "markdown",
      "metadata": {
        "id": "UQml78WqEhVP",
        "colab_type": "text"
      },
      "source": [
        "The best hyperparameter combination found:"
      ]
    },
    {
      "cell_type": "code",
      "metadata": {
        "id": "Z87b06C-EhVP",
        "colab_type": "code",
        "colab": {
          "base_uri": "https://localhost:8080/",
          "height": 34
        },
        "outputId": "9da6bbef-b706-4dfe-f608-6a9725f4f976"
      },
      "source": [
        "grid_search.best_params_"
      ],
      "execution_count": null,
      "outputs": [
        {
          "output_type": "execute_result",
          "data": {
            "text/plain": [
              "{'max_features': 8, 'n_estimators': 30}"
            ]
          },
          "metadata": {
            "tags": []
          },
          "execution_count": 39
        }
      ]
    },
    {
      "cell_type": "code",
      "metadata": {
        "id": "NCW_lnHzEhVQ",
        "colab_type": "code",
        "colab": {
          "base_uri": "https://localhost:8080/",
          "height": 136
        },
        "outputId": "eed5d489-49bc-4679-b4b7-450dd80e0c99"
      },
      "source": [
        "grid_search.best_estimator_"
      ],
      "execution_count": null,
      "outputs": [
        {
          "output_type": "execute_result",
          "data": {
            "text/plain": [
              "RandomForestRegressor(bootstrap=True, ccp_alpha=0.0, criterion='mse',\n",
              "                      max_depth=None, max_features=8, max_leaf_nodes=None,\n",
              "                      max_samples=None, min_impurity_decrease=0.0,\n",
              "                      min_impurity_split=None, min_samples_leaf=1,\n",
              "                      min_samples_split=2, min_weight_fraction_leaf=0.0,\n",
              "                      n_estimators=30, n_jobs=None, oob_score=False,\n",
              "                      random_state=42, verbose=0, warm_start=False)"
            ]
          },
          "metadata": {
            "tags": []
          },
          "execution_count": 40
        }
      ]
    },
    {
      "cell_type": "markdown",
      "metadata": {
        "id": "-STsJiz6EhVR",
        "colab_type": "text"
      },
      "source": [
        "Let's look at the score of each hyperparameter combination tested during the grid search:"
      ]
    },
    {
      "cell_type": "code",
      "metadata": {
        "id": "c-df4VQpEhVR",
        "colab_type": "code",
        "colab": {
          "base_uri": "https://localhost:8080/",
          "height": 323
        },
        "outputId": "377b86a8-79c9-4d23-d41c-c82f7e7d2b6b"
      },
      "source": [
        "cvres = grid_search.cv_results_\n",
        "for mean_score, params in zip(cvres[\"mean_test_score\"], cvres[\"params\"]):\n",
        "    print(np.sqrt(-mean_score), params)"
      ],
      "execution_count": null,
      "outputs": [
        {
          "output_type": "stream",
          "text": [
            "63669.11631261028 {'max_features': 2, 'n_estimators': 3}\n",
            "55627.099719926795 {'max_features': 2, 'n_estimators': 10}\n",
            "53384.57275149205 {'max_features': 2, 'n_estimators': 30}\n",
            "60965.950449450494 {'max_features': 4, 'n_estimators': 3}\n",
            "52741.04704299915 {'max_features': 4, 'n_estimators': 10}\n",
            "50377.40461678399 {'max_features': 4, 'n_estimators': 30}\n",
            "58663.93866579625 {'max_features': 6, 'n_estimators': 3}\n",
            "52006.19873526564 {'max_features': 6, 'n_estimators': 10}\n",
            "50146.51167415009 {'max_features': 6, 'n_estimators': 30}\n",
            "57869.25276169646 {'max_features': 8, 'n_estimators': 3}\n",
            "51711.127883959234 {'max_features': 8, 'n_estimators': 10}\n",
            "49682.273345071546 {'max_features': 8, 'n_estimators': 30}\n",
            "62895.06951262424 {'bootstrap': False, 'max_features': 2, 'n_estimators': 3}\n",
            "54658.176157539405 {'bootstrap': False, 'max_features': 2, 'n_estimators': 10}\n",
            "59470.40652318466 {'bootstrap': False, 'max_features': 3, 'n_estimators': 3}\n",
            "52724.9822587892 {'bootstrap': False, 'max_features': 3, 'n_estimators': 10}\n",
            "57490.5691951261 {'bootstrap': False, 'max_features': 4, 'n_estimators': 3}\n",
            "51009.495668875716 {'bootstrap': False, 'max_features': 4, 'n_estimators': 10}\n"
          ],
          "name": "stdout"
        }
      ]
    },
    {
      "cell_type": "code",
      "metadata": {
        "id": "jnteumW_EhVS",
        "colab_type": "code",
        "colab": {
          "base_uri": "https://localhost:8080/",
          "height": 1000
        },
        "outputId": "65520c14-05ec-4cc6-8f62-1f6723cea1c5"
      },
      "source": [
        "pd.DataFrame(grid_search.cv_results_)"
      ],
      "execution_count": null,
      "outputs": [
        {
          "output_type": "execute_result",
          "data": {
            "text/html": [
              "<div>\n",
              "<style scoped>\n",
              "    .dataframe tbody tr th:only-of-type {\n",
              "        vertical-align: middle;\n",
              "    }\n",
              "\n",
              "    .dataframe tbody tr th {\n",
              "        vertical-align: top;\n",
              "    }\n",
              "\n",
              "    .dataframe thead th {\n",
              "        text-align: right;\n",
              "    }\n",
              "</style>\n",
              "<table border=\"1\" class=\"dataframe\">\n",
              "  <thead>\n",
              "    <tr style=\"text-align: right;\">\n",
              "      <th></th>\n",
              "      <th>mean_fit_time</th>\n",
              "      <th>std_fit_time</th>\n",
              "      <th>mean_score_time</th>\n",
              "      <th>std_score_time</th>\n",
              "      <th>param_max_features</th>\n",
              "      <th>param_n_estimators</th>\n",
              "      <th>param_bootstrap</th>\n",
              "      <th>params</th>\n",
              "      <th>split0_test_score</th>\n",
              "      <th>split1_test_score</th>\n",
              "      <th>split2_test_score</th>\n",
              "      <th>split3_test_score</th>\n",
              "      <th>split4_test_score</th>\n",
              "      <th>mean_test_score</th>\n",
              "      <th>std_test_score</th>\n",
              "      <th>rank_test_score</th>\n",
              "      <th>split0_train_score</th>\n",
              "      <th>split1_train_score</th>\n",
              "      <th>split2_train_score</th>\n",
              "      <th>split3_train_score</th>\n",
              "      <th>split4_train_score</th>\n",
              "      <th>mean_train_score</th>\n",
              "      <th>std_train_score</th>\n",
              "    </tr>\n",
              "  </thead>\n",
              "  <tbody>\n",
              "    <tr>\n",
              "      <th>0</th>\n",
              "      <td>0.068799</td>\n",
              "      <td>0.003315</td>\n",
              "      <td>0.003367</td>\n",
              "      <td>0.000233</td>\n",
              "      <td>2</td>\n",
              "      <td>3</td>\n",
              "      <td>NaN</td>\n",
              "      <td>{'max_features': 2, 'n_estimators': 3}</td>\n",
              "      <td>-3.837622e+09</td>\n",
              "      <td>-4.147108e+09</td>\n",
              "      <td>-4.196408e+09</td>\n",
              "      <td>-3.903319e+09</td>\n",
              "      <td>-4.184325e+09</td>\n",
              "      <td>-4.053756e+09</td>\n",
              "      <td>1.519591e+08</td>\n",
              "      <td>18</td>\n",
              "      <td>-1.064113e+09</td>\n",
              "      <td>-1.105142e+09</td>\n",
              "      <td>-1.116550e+09</td>\n",
              "      <td>-1.112342e+09</td>\n",
              "      <td>-1.129650e+09</td>\n",
              "      <td>-1.105559e+09</td>\n",
              "      <td>2.220402e+07</td>\n",
              "    </tr>\n",
              "    <tr>\n",
              "      <th>1</th>\n",
              "      <td>0.222759</td>\n",
              "      <td>0.003115</td>\n",
              "      <td>0.010705</td>\n",
              "      <td>0.000390</td>\n",
              "      <td>2</td>\n",
              "      <td>10</td>\n",
              "      <td>NaN</td>\n",
              "      <td>{'max_features': 2, 'n_estimators': 10}</td>\n",
              "      <td>-3.047771e+09</td>\n",
              "      <td>-3.254861e+09</td>\n",
              "      <td>-3.130196e+09</td>\n",
              "      <td>-2.865188e+09</td>\n",
              "      <td>-3.173856e+09</td>\n",
              "      <td>-3.094374e+09</td>\n",
              "      <td>1.327062e+08</td>\n",
              "      <td>11</td>\n",
              "      <td>-5.927175e+08</td>\n",
              "      <td>-5.870952e+08</td>\n",
              "      <td>-5.776964e+08</td>\n",
              "      <td>-5.716332e+08</td>\n",
              "      <td>-5.802501e+08</td>\n",
              "      <td>-5.818785e+08</td>\n",
              "      <td>7.345821e+06</td>\n",
              "    </tr>\n",
              "    <tr>\n",
              "      <th>2</th>\n",
              "      <td>0.670389</td>\n",
              "      <td>0.003094</td>\n",
              "      <td>0.030687</td>\n",
              "      <td>0.000390</td>\n",
              "      <td>2</td>\n",
              "      <td>30</td>\n",
              "      <td>NaN</td>\n",
              "      <td>{'max_features': 2, 'n_estimators': 30}</td>\n",
              "      <td>-2.689185e+09</td>\n",
              "      <td>-3.021086e+09</td>\n",
              "      <td>-2.948330e+09</td>\n",
              "      <td>-2.619995e+09</td>\n",
              "      <td>-2.970968e+09</td>\n",
              "      <td>-2.849913e+09</td>\n",
              "      <td>1.626875e+08</td>\n",
              "      <td>9</td>\n",
              "      <td>-4.381089e+08</td>\n",
              "      <td>-4.391272e+08</td>\n",
              "      <td>-4.371702e+08</td>\n",
              "      <td>-4.376955e+08</td>\n",
              "      <td>-4.452654e+08</td>\n",
              "      <td>-4.394734e+08</td>\n",
              "      <td>2.966320e+06</td>\n",
              "    </tr>\n",
              "    <tr>\n",
              "      <th>3</th>\n",
              "      <td>0.112055</td>\n",
              "      <td>0.001088</td>\n",
              "      <td>0.003436</td>\n",
              "      <td>0.000120</td>\n",
              "      <td>4</td>\n",
              "      <td>3</td>\n",
              "      <td>NaN</td>\n",
              "      <td>{'max_features': 4, 'n_estimators': 3}</td>\n",
              "      <td>-3.730181e+09</td>\n",
              "      <td>-3.786886e+09</td>\n",
              "      <td>-3.734515e+09</td>\n",
              "      <td>-3.418747e+09</td>\n",
              "      <td>-3.913907e+09</td>\n",
              "      <td>-3.716847e+09</td>\n",
              "      <td>1.631510e+08</td>\n",
              "      <td>16</td>\n",
              "      <td>-9.865163e+08</td>\n",
              "      <td>-1.012565e+09</td>\n",
              "      <td>-9.169425e+08</td>\n",
              "      <td>-1.037400e+09</td>\n",
              "      <td>-9.707739e+08</td>\n",
              "      <td>-9.848396e+08</td>\n",
              "      <td>4.084607e+07</td>\n",
              "    </tr>\n",
              "    <tr>\n",
              "      <th>4</th>\n",
              "      <td>0.376426</td>\n",
              "      <td>0.006366</td>\n",
              "      <td>0.011428</td>\n",
              "      <td>0.001279</td>\n",
              "      <td>4</td>\n",
              "      <td>10</td>\n",
              "      <td>NaN</td>\n",
              "      <td>{'max_features': 4, 'n_estimators': 10}</td>\n",
              "      <td>-2.666283e+09</td>\n",
              "      <td>-2.784511e+09</td>\n",
              "      <td>-2.892276e+09</td>\n",
              "      <td>-2.616813e+09</td>\n",
              "      <td>-2.948207e+09</td>\n",
              "      <td>-2.781618e+09</td>\n",
              "      <td>1.268607e+08</td>\n",
              "      <td>8</td>\n",
              "      <td>-5.097115e+08</td>\n",
              "      <td>-5.162820e+08</td>\n",
              "      <td>-4.962893e+08</td>\n",
              "      <td>-5.436192e+08</td>\n",
              "      <td>-5.160297e+08</td>\n",
              "      <td>-5.163863e+08</td>\n",
              "      <td>1.542862e+07</td>\n",
              "    </tr>\n",
              "    <tr>\n",
              "      <th>5</th>\n",
              "      <td>1.108904</td>\n",
              "      <td>0.013993</td>\n",
              "      <td>0.031049</td>\n",
              "      <td>0.000866</td>\n",
              "      <td>4</td>\n",
              "      <td>30</td>\n",
              "      <td>NaN</td>\n",
              "      <td>{'max_features': 4, 'n_estimators': 30}</td>\n",
              "      <td>-2.387153e+09</td>\n",
              "      <td>-2.588448e+09</td>\n",
              "      <td>-2.666426e+09</td>\n",
              "      <td>-2.398071e+09</td>\n",
              "      <td>-2.649316e+09</td>\n",
              "      <td>-2.537883e+09</td>\n",
              "      <td>1.214614e+08</td>\n",
              "      <td>3</td>\n",
              "      <td>-3.838835e+08</td>\n",
              "      <td>-3.880268e+08</td>\n",
              "      <td>-3.790867e+08</td>\n",
              "      <td>-4.040957e+08</td>\n",
              "      <td>-3.845520e+08</td>\n",
              "      <td>-3.879289e+08</td>\n",
              "      <td>8.571233e+06</td>\n",
              "    </tr>\n",
              "    <tr>\n",
              "      <th>6</th>\n",
              "      <td>0.152802</td>\n",
              "      <td>0.004412</td>\n",
              "      <td>0.003516</td>\n",
              "      <td>0.000089</td>\n",
              "      <td>6</td>\n",
              "      <td>3</td>\n",
              "      <td>NaN</td>\n",
              "      <td>{'max_features': 6, 'n_estimators': 3}</td>\n",
              "      <td>-3.119657e+09</td>\n",
              "      <td>-3.586319e+09</td>\n",
              "      <td>-3.592772e+09</td>\n",
              "      <td>-3.328934e+09</td>\n",
              "      <td>-3.579607e+09</td>\n",
              "      <td>-3.441458e+09</td>\n",
              "      <td>1.893056e+08</td>\n",
              "      <td>14</td>\n",
              "      <td>-9.245343e+08</td>\n",
              "      <td>-8.886939e+08</td>\n",
              "      <td>-9.353135e+08</td>\n",
              "      <td>-9.009801e+08</td>\n",
              "      <td>-8.624664e+08</td>\n",
              "      <td>-9.023976e+08</td>\n",
              "      <td>2.591445e+07</td>\n",
              "    </tr>\n",
              "    <tr>\n",
              "      <th>7</th>\n",
              "      <td>0.508131</td>\n",
              "      <td>0.004728</td>\n",
              "      <td>0.010877</td>\n",
              "      <td>0.000140</td>\n",
              "      <td>6</td>\n",
              "      <td>10</td>\n",
              "      <td>NaN</td>\n",
              "      <td>{'max_features': 6, 'n_estimators': 10}</td>\n",
              "      <td>-2.549663e+09</td>\n",
              "      <td>-2.782039e+09</td>\n",
              "      <td>-2.762720e+09</td>\n",
              "      <td>-2.521134e+09</td>\n",
              "      <td>-2.907667e+09</td>\n",
              "      <td>-2.704645e+09</td>\n",
              "      <td>1.471569e+08</td>\n",
              "      <td>6</td>\n",
              "      <td>-4.980344e+08</td>\n",
              "      <td>-5.045869e+08</td>\n",
              "      <td>-4.994664e+08</td>\n",
              "      <td>-4.990325e+08</td>\n",
              "      <td>-5.055542e+08</td>\n",
              "      <td>-5.013349e+08</td>\n",
              "      <td>3.100456e+06</td>\n",
              "    </tr>\n",
              "    <tr>\n",
              "      <th>8</th>\n",
              "      <td>1.539634</td>\n",
              "      <td>0.004090</td>\n",
              "      <td>0.031016</td>\n",
              "      <td>0.000502</td>\n",
              "      <td>6</td>\n",
              "      <td>30</td>\n",
              "      <td>NaN</td>\n",
              "      <td>{'max_features': 6, 'n_estimators': 30}</td>\n",
              "      <td>-2.370010e+09</td>\n",
              "      <td>-2.583638e+09</td>\n",
              "      <td>-2.607703e+09</td>\n",
              "      <td>-2.350953e+09</td>\n",
              "      <td>-2.661059e+09</td>\n",
              "      <td>-2.514673e+09</td>\n",
              "      <td>1.285080e+08</td>\n",
              "      <td>2</td>\n",
              "      <td>-3.838538e+08</td>\n",
              "      <td>-3.804711e+08</td>\n",
              "      <td>-3.805218e+08</td>\n",
              "      <td>-3.856095e+08</td>\n",
              "      <td>-3.901917e+08</td>\n",
              "      <td>-3.841296e+08</td>\n",
              "      <td>3.617057e+06</td>\n",
              "    </tr>\n",
              "    <tr>\n",
              "      <th>9</th>\n",
              "      <td>0.195661</td>\n",
              "      <td>0.002836</td>\n",
              "      <td>0.003787</td>\n",
              "      <td>0.000112</td>\n",
              "      <td>8</td>\n",
              "      <td>3</td>\n",
              "      <td>NaN</td>\n",
              "      <td>{'max_features': 8, 'n_estimators': 3}</td>\n",
              "      <td>-3.353504e+09</td>\n",
              "      <td>-3.348552e+09</td>\n",
              "      <td>-3.402843e+09</td>\n",
              "      <td>-3.129307e+09</td>\n",
              "      <td>-3.510047e+09</td>\n",
              "      <td>-3.348850e+09</td>\n",
              "      <td>1.241939e+08</td>\n",
              "      <td>13</td>\n",
              "      <td>-9.228123e+08</td>\n",
              "      <td>-8.553031e+08</td>\n",
              "      <td>-8.603321e+08</td>\n",
              "      <td>-8.881964e+08</td>\n",
              "      <td>-9.151287e+08</td>\n",
              "      <td>-8.883545e+08</td>\n",
              "      <td>2.750227e+07</td>\n",
              "    </tr>\n",
              "    <tr>\n",
              "      <th>10</th>\n",
              "      <td>0.661348</td>\n",
              "      <td>0.008455</td>\n",
              "      <td>0.011035</td>\n",
              "      <td>0.000684</td>\n",
              "      <td>8</td>\n",
              "      <td>10</td>\n",
              "      <td>NaN</td>\n",
              "      <td>{'max_features': 8, 'n_estimators': 10}</td>\n",
              "      <td>-2.571970e+09</td>\n",
              "      <td>-2.718994e+09</td>\n",
              "      <td>-2.842317e+09</td>\n",
              "      <td>-2.460258e+09</td>\n",
              "      <td>-2.776666e+09</td>\n",
              "      <td>-2.674041e+09</td>\n",
              "      <td>1.392777e+08</td>\n",
              "      <td>5</td>\n",
              "      <td>-4.932416e+08</td>\n",
              "      <td>-4.815238e+08</td>\n",
              "      <td>-4.730979e+08</td>\n",
              "      <td>-5.155367e+08</td>\n",
              "      <td>-4.985555e+08</td>\n",
              "      <td>-4.923911e+08</td>\n",
              "      <td>1.459294e+07</td>\n",
              "    </tr>\n",
              "    <tr>\n",
              "      <th>11</th>\n",
              "      <td>1.997486</td>\n",
              "      <td>0.021785</td>\n",
              "      <td>0.031688</td>\n",
              "      <td>0.000524</td>\n",
              "      <td>8</td>\n",
              "      <td>30</td>\n",
              "      <td>NaN</td>\n",
              "      <td>{'max_features': 8, 'n_estimators': 30}</td>\n",
              "      <td>-2.357390e+09</td>\n",
              "      <td>-2.546640e+09</td>\n",
              "      <td>-2.591972e+09</td>\n",
              "      <td>-2.318617e+09</td>\n",
              "      <td>-2.527022e+09</td>\n",
              "      <td>-2.468328e+09</td>\n",
              "      <td>1.091662e+08</td>\n",
              "      <td>1</td>\n",
              "      <td>-3.841658e+08</td>\n",
              "      <td>-3.744500e+08</td>\n",
              "      <td>-3.773239e+08</td>\n",
              "      <td>-3.882250e+08</td>\n",
              "      <td>-3.810005e+08</td>\n",
              "      <td>-3.810330e+08</td>\n",
              "      <td>4.871017e+06</td>\n",
              "    </tr>\n",
              "    <tr>\n",
              "      <th>12</th>\n",
              "      <td>0.109073</td>\n",
              "      <td>0.001564</td>\n",
              "      <td>0.004160</td>\n",
              "      <td>0.000138</td>\n",
              "      <td>2</td>\n",
              "      <td>3</td>\n",
              "      <td>False</td>\n",
              "      <td>{'bootstrap': False, 'max_features': 2, 'n_est...</td>\n",
              "      <td>-3.785816e+09</td>\n",
              "      <td>-4.166012e+09</td>\n",
              "      <td>-4.061751e+09</td>\n",
              "      <td>-3.675704e+09</td>\n",
              "      <td>-4.089667e+09</td>\n",
              "      <td>-3.955790e+09</td>\n",
              "      <td>1.900964e+08</td>\n",
              "      <td>17</td>\n",
              "      <td>-0.000000e+00</td>\n",
              "      <td>-0.000000e+00</td>\n",
              "      <td>-0.000000e+00</td>\n",
              "      <td>-0.000000e+00</td>\n",
              "      <td>-0.000000e+00</td>\n",
              "      <td>0.000000e+00</td>\n",
              "      <td>0.000000e+00</td>\n",
              "    </tr>\n",
              "    <tr>\n",
              "      <th>13</th>\n",
              "      <td>0.360147</td>\n",
              "      <td>0.004530</td>\n",
              "      <td>0.013101</td>\n",
              "      <td>0.000087</td>\n",
              "      <td>2</td>\n",
              "      <td>10</td>\n",
              "      <td>False</td>\n",
              "      <td>{'bootstrap': False, 'max_features': 2, 'n_est...</td>\n",
              "      <td>-2.810721e+09</td>\n",
              "      <td>-3.107789e+09</td>\n",
              "      <td>-3.131187e+09</td>\n",
              "      <td>-2.788537e+09</td>\n",
              "      <td>-3.099347e+09</td>\n",
              "      <td>-2.987516e+09</td>\n",
              "      <td>1.539234e+08</td>\n",
              "      <td>10</td>\n",
              "      <td>-6.056477e-02</td>\n",
              "      <td>-0.000000e+00</td>\n",
              "      <td>-0.000000e+00</td>\n",
              "      <td>-0.000000e+00</td>\n",
              "      <td>-2.967449e+00</td>\n",
              "      <td>-6.056027e-01</td>\n",
              "      <td>1.181156e+00</td>\n",
              "    </tr>\n",
              "    <tr>\n",
              "      <th>14</th>\n",
              "      <td>0.143995</td>\n",
              "      <td>0.004529</td>\n",
              "      <td>0.004066</td>\n",
              "      <td>0.000321</td>\n",
              "      <td>3</td>\n",
              "      <td>3</td>\n",
              "      <td>False</td>\n",
              "      <td>{'bootstrap': False, 'max_features': 3, 'n_est...</td>\n",
              "      <td>-3.618324e+09</td>\n",
              "      <td>-3.441527e+09</td>\n",
              "      <td>-3.554815e+09</td>\n",
              "      <td>-3.619116e+09</td>\n",
              "      <td>-3.449864e+09</td>\n",
              "      <td>-3.536729e+09</td>\n",
              "      <td>7.795057e+07</td>\n",
              "      <td>15</td>\n",
              "      <td>-0.000000e+00</td>\n",
              "      <td>-0.000000e+00</td>\n",
              "      <td>-0.000000e+00</td>\n",
              "      <td>-0.000000e+00</td>\n",
              "      <td>-6.072840e+01</td>\n",
              "      <td>-1.214568e+01</td>\n",
              "      <td>2.429136e+01</td>\n",
              "    </tr>\n",
              "    <tr>\n",
              "      <th>15</th>\n",
              "      <td>0.476842</td>\n",
              "      <td>0.010063</td>\n",
              "      <td>0.013587</td>\n",
              "      <td>0.001033</td>\n",
              "      <td>3</td>\n",
              "      <td>10</td>\n",
              "      <td>False</td>\n",
              "      <td>{'bootstrap': False, 'max_features': 3, 'n_est...</td>\n",
              "      <td>-2.757999e+09</td>\n",
              "      <td>-2.851737e+09</td>\n",
              "      <td>-2.830927e+09</td>\n",
              "      <td>-2.672765e+09</td>\n",
              "      <td>-2.786190e+09</td>\n",
              "      <td>-2.779924e+09</td>\n",
              "      <td>6.286720e+07</td>\n",
              "      <td>7</td>\n",
              "      <td>-2.089484e+01</td>\n",
              "      <td>-0.000000e+00</td>\n",
              "      <td>-0.000000e+00</td>\n",
              "      <td>-0.000000e+00</td>\n",
              "      <td>-5.465556e+00</td>\n",
              "      <td>-5.272080e+00</td>\n",
              "      <td>8.093117e+00</td>\n",
              "    </tr>\n",
              "    <tr>\n",
              "      <th>16</th>\n",
              "      <td>0.180815</td>\n",
              "      <td>0.004204</td>\n",
              "      <td>0.004282</td>\n",
              "      <td>0.000405</td>\n",
              "      <td>4</td>\n",
              "      <td>3</td>\n",
              "      <td>False</td>\n",
              "      <td>{'bootstrap': False, 'max_features': 4, 'n_est...</td>\n",
              "      <td>-3.134040e+09</td>\n",
              "      <td>-3.559375e+09</td>\n",
              "      <td>-3.440422e+09</td>\n",
              "      <td>-3.053647e+09</td>\n",
              "      <td>-3.338344e+09</td>\n",
              "      <td>-3.305166e+09</td>\n",
              "      <td>1.879165e+08</td>\n",
              "      <td>12</td>\n",
              "      <td>-0.000000e+00</td>\n",
              "      <td>-0.000000e+00</td>\n",
              "      <td>-0.000000e+00</td>\n",
              "      <td>-0.000000e+00</td>\n",
              "      <td>-0.000000e+00</td>\n",
              "      <td>0.000000e+00</td>\n",
              "      <td>0.000000e+00</td>\n",
              "    </tr>\n",
              "    <tr>\n",
              "      <th>17</th>\n",
              "      <td>0.587483</td>\n",
              "      <td>0.006966</td>\n",
              "      <td>0.013297</td>\n",
              "      <td>0.000558</td>\n",
              "      <td>4</td>\n",
              "      <td>10</td>\n",
              "      <td>False</td>\n",
              "      <td>{'bootstrap': False, 'max_features': 4, 'n_est...</td>\n",
              "      <td>-2.525578e+09</td>\n",
              "      <td>-2.710011e+09</td>\n",
              "      <td>-2.609100e+09</td>\n",
              "      <td>-2.439607e+09</td>\n",
              "      <td>-2.725548e+09</td>\n",
              "      <td>-2.601969e+09</td>\n",
              "      <td>1.088048e+08</td>\n",
              "      <td>4</td>\n",
              "      <td>-0.000000e+00</td>\n",
              "      <td>-1.514119e-02</td>\n",
              "      <td>-0.000000e+00</td>\n",
              "      <td>-0.000000e+00</td>\n",
              "      <td>-0.000000e+00</td>\n",
              "      <td>-3.028238e-03</td>\n",
              "      <td>6.056477e-03</td>\n",
              "    </tr>\n",
              "  </tbody>\n",
              "</table>\n",
              "</div>"
            ],
            "text/plain": [
              "    mean_fit_time  std_fit_time  ...  mean_train_score  std_train_score\n",
              "0        0.068799      0.003315  ...     -1.105559e+09     2.220402e+07\n",
              "1        0.222759      0.003115  ...     -5.818785e+08     7.345821e+06\n",
              "2        0.670389      0.003094  ...     -4.394734e+08     2.966320e+06\n",
              "3        0.112055      0.001088  ...     -9.848396e+08     4.084607e+07\n",
              "4        0.376426      0.006366  ...     -5.163863e+08     1.542862e+07\n",
              "5        1.108904      0.013993  ...     -3.879289e+08     8.571233e+06\n",
              "6        0.152802      0.004412  ...     -9.023976e+08     2.591445e+07\n",
              "7        0.508131      0.004728  ...     -5.013349e+08     3.100456e+06\n",
              "8        1.539634      0.004090  ...     -3.841296e+08     3.617057e+06\n",
              "9        0.195661      0.002836  ...     -8.883545e+08     2.750227e+07\n",
              "10       0.661348      0.008455  ...     -4.923911e+08     1.459294e+07\n",
              "11       1.997486      0.021785  ...     -3.810330e+08     4.871017e+06\n",
              "12       0.109073      0.001564  ...      0.000000e+00     0.000000e+00\n",
              "13       0.360147      0.004530  ...     -6.056027e-01     1.181156e+00\n",
              "14       0.143995      0.004529  ...     -1.214568e+01     2.429136e+01\n",
              "15       0.476842      0.010063  ...     -5.272080e+00     8.093117e+00\n",
              "16       0.180815      0.004204  ...      0.000000e+00     0.000000e+00\n",
              "17       0.587483      0.006966  ...     -3.028238e-03     6.056477e-03\n",
              "\n",
              "[18 rows x 23 columns]"
            ]
          },
          "metadata": {
            "tags": []
          },
          "execution_count": 42
        }
      ]
    },
    {
      "cell_type": "markdown",
      "metadata": {
        "id": "V7Z1ZjIK1JW9",
        "colab_type": "text"
      },
      "source": [
        "## Randomized Search"
      ]
    },
    {
      "cell_type": "code",
      "metadata": {
        "id": "B2PGvoaWEhVU",
        "colab_type": "code",
        "colab": {
          "base_uri": "https://localhost:8080/",
          "height": 411
        },
        "outputId": "305c4906-6461-4194-ff75-19e398317968"
      },
      "source": [
        "from sklearn.model_selection import RandomizedSearchCV\n",
        "from scipy.stats import randint\n",
        "\n",
        "param_distribs = {\n",
        "        'n_estimators': randint(low=1, high=200),\n",
        "        'max_features': randint(low=1, high=8),\n",
        "    }\n",
        "\n",
        "forest_reg = RandomForestRegressor(random_state=42)\n",
        "rnd_search = RandomizedSearchCV(forest_reg, param_distributions=param_distribs,\n",
        "                                n_iter=10, cv=5, scoring='neg_mean_squared_error', random_state=42)\n",
        "rnd_search.fit(housing_prepared, housing_labels)"
      ],
      "execution_count": null,
      "outputs": [
        {
          "output_type": "execute_result",
          "data": {
            "text/plain": [
              "RandomizedSearchCV(cv=5, error_score=nan,\n",
              "                   estimator=RandomForestRegressor(bootstrap=True,\n",
              "                                                   ccp_alpha=0.0,\n",
              "                                                   criterion='mse',\n",
              "                                                   max_depth=None,\n",
              "                                                   max_features='auto',\n",
              "                                                   max_leaf_nodes=None,\n",
              "                                                   max_samples=None,\n",
              "                                                   min_impurity_decrease=0.0,\n",
              "                                                   min_impurity_split=None,\n",
              "                                                   min_samples_leaf=1,\n",
              "                                                   min_samples_split=2,\n",
              "                                                   min_weight_fraction_leaf=0.0,\n",
              "                                                   n_estimators=100,\n",
              "                                                   n_jobs=None, oob_score=Fals...\n",
              "                                                   warm_start=False),\n",
              "                   iid='deprecated', n_iter=10, n_jobs=None,\n",
              "                   param_distributions={'max_features': <scipy.stats._distn_infrastructure.rv_frozen object at 0x7f7daaa9f908>,\n",
              "                                        'n_estimators': <scipy.stats._distn_infrastructure.rv_frozen object at 0x7f7daaa9fe10>},\n",
              "                   pre_dispatch='2*n_jobs', random_state=42, refit=True,\n",
              "                   return_train_score=False, scoring='neg_mean_squared_error',\n",
              "                   verbose=0)"
            ]
          },
          "metadata": {
            "tags": []
          },
          "execution_count": 43
        }
      ]
    },
    {
      "cell_type": "code",
      "metadata": {
        "id": "flBMs8FBEhVV",
        "colab_type": "code",
        "colab": {},
        "outputId": "247093d7-761e-4b07-add2-78ba766233b4"
      },
      "source": [
        "cvres = rnd_search.cv_results_\n",
        "for mean_score, params in zip(cvres[\"mean_test_score\"], cvres[\"params\"]):\n",
        "    print(np.sqrt(-mean_score), params)"
      ],
      "execution_count": null,
      "outputs": [
        {
          "output_type": "stream",
          "text": [
            "49150.657232934034 {'max_features': 7, 'n_estimators': 180}\n",
            "51389.85295710133 {'max_features': 5, 'n_estimators': 15}\n",
            "50796.12045980556 {'max_features': 3, 'n_estimators': 72}\n",
            "50835.09932039744 {'max_features': 5, 'n_estimators': 21}\n",
            "49280.90117886215 {'max_features': 7, 'n_estimators': 122}\n",
            "50774.86679035961 {'max_features': 3, 'n_estimators': 75}\n",
            "50682.75001237282 {'max_features': 3, 'n_estimators': 88}\n",
            "49608.94061293652 {'max_features': 5, 'n_estimators': 100}\n",
            "50473.57642831875 {'max_features': 3, 'n_estimators': 150}\n",
            "64429.763804893395 {'max_features': 5, 'n_estimators': 2}\n"
          ],
          "name": "stdout"
        }
      ]
    },
    {
      "cell_type": "markdown",
      "metadata": {
        "id": "w9pSMUYg08L7",
        "colab_type": "text"
      },
      "source": [
        "## Analyze the Best Model and Their Errors"
      ]
    },
    {
      "cell_type": "code",
      "metadata": {
        "id": "DImWNGM5EhVW",
        "colab_type": "code",
        "colab": {
          "base_uri": "https://localhost:8080/",
          "height": 85
        },
        "outputId": "013577df-50d8-42d9-ffc1-cc52bcb7d7f1"
      },
      "source": [
        "feature_importances = grid_search.best_estimator_.feature_importances_\n",
        "feature_importances"
      ],
      "execution_count": null,
      "outputs": [
        {
          "output_type": "execute_result",
          "data": {
            "text/plain": [
              "array([7.33442355e-02, 6.29090705e-02, 4.11437985e-02, 1.46726854e-02,\n",
              "       1.41064835e-02, 1.48742809e-02, 1.42575993e-02, 3.66158981e-01,\n",
              "       5.64191792e-02, 1.08792957e-01, 5.33510773e-02, 1.03114883e-02,\n",
              "       1.64780994e-01, 6.02803867e-05, 1.96041560e-03, 2.85647464e-03])"
            ]
          },
          "metadata": {
            "tags": []
          },
          "execution_count": 45
        }
      ]
    },
    {
      "cell_type": "markdown",
      "metadata": {
        "id": "D2LxXovs1RW0",
        "colab_type": "text"
      },
      "source": [
        "To show feature importance value with respect to their attributes:"
      ]
    },
    {
      "cell_type": "code",
      "metadata": {
        "id": "z816GFcBEhVY",
        "colab_type": "code",
        "colab": {
          "base_uri": "https://localhost:8080/",
          "height": 289
        },
        "outputId": "6e6e5e11-e188-4646-bdb5-51fdf35d18b3"
      },
      "source": [
        "extra_attribs = [\"rooms_per_hhold\", \"pop_per_hhold\", \"bedrooms_per_room\"]\n",
        "#cat_encoder = cat_pipeline.named_steps[\"cat_encoder\"] # old solution\n",
        "cat_encoder = full_pipeline.named_transformers_[\"cat\"]\n",
        "cat_one_hot_attribs = list(cat_encoder.categories_[0])\n",
        "attributes = num_attribs + extra_attribs + cat_one_hot_attribs\n",
        "sorted(zip(feature_importances, attributes), reverse=True)"
      ],
      "execution_count": null,
      "outputs": [
        {
          "output_type": "execute_result",
          "data": {
            "text/plain": [
              "[(0.36615898061813423, 'median_income'),\n",
              " (0.16478099356159054, 'INLAND'),\n",
              " (0.10879295677551575, 'pop_per_hhold'),\n",
              " (0.07334423551601243, 'longitude'),\n",
              " (0.06290907048262032, 'latitude'),\n",
              " (0.056419179181954014, 'rooms_per_hhold'),\n",
              " (0.053351077347675815, 'bedrooms_per_room'),\n",
              " (0.04114379847872964, 'housing_median_age'),\n",
              " (0.014874280890402769, 'population'),\n",
              " (0.014672685420543239, 'total_rooms'),\n",
              " (0.014257599323407808, 'households'),\n",
              " (0.014106483453584104, 'total_bedrooms'),\n",
              " (0.010311488326303788, '<1H OCEAN'),\n",
              " (0.0028564746373201584, 'NEAR OCEAN'),\n",
              " (0.0019604155994780706, 'NEAR BAY'),\n",
              " (6.0280386727366e-05, 'ISLAND')]"
            ]
          },
          "metadata": {
            "tags": []
          },
          "execution_count": 46
        }
      ]
    },
    {
      "cell_type": "markdown",
      "metadata": {
        "id": "Cp73lY9E16ur",
        "colab_type": "text"
      },
      "source": [
        "We can try removing / combining the features (e.g. ocean proximity categories)"
      ]
    },
    {
      "cell_type": "markdown",
      "metadata": {
        "id": "AVqZqQF42PwG",
        "colab_type": "text"
      },
      "source": [
        "## Evaluate Your System on the Test Set "
      ]
    },
    {
      "cell_type": "code",
      "metadata": {
        "id": "w7um30JXEhVa",
        "colab_type": "code",
        "colab": {}
      },
      "source": [
        "final_model = grid_search.best_estimator_\n",
        "\n",
        "X_test = strat_test_set.drop(\"median_house_value\", axis=1)\n",
        "y_test = strat_test_set[\"median_house_value\"].copy()\n",
        "\n",
        "X_test_prepared = full_pipeline.transform(X_test)\n",
        "final_predictions = final_model.predict(X_test_prepared)\n",
        "\n",
        "final_mse = mean_squared_error(y_test, final_predictions)\n",
        "final_rmse = np.sqrt(final_mse)"
      ],
      "execution_count": null,
      "outputs": []
    },
    {
      "cell_type": "code",
      "metadata": {
        "id": "daJPn3ntEhVa",
        "colab_type": "code",
        "colab": {
          "base_uri": "https://localhost:8080/",
          "height": 34
        },
        "outputId": "b5985a4b-4ce0-4106-a5b8-acb2a95ee281"
      },
      "source": [
        "final_rmse"
      ],
      "execution_count": null,
      "outputs": [
        {
          "output_type": "execute_result",
          "data": {
            "text/plain": [
              "47730.22690385927"
            ]
          },
          "metadata": {
            "tags": []
          },
          "execution_count": 48
        }
      ]
    },
    {
      "cell_type": "markdown",
      "metadata": {
        "id": "OgkZ4bjMEhVd",
        "colab_type": "text"
      },
      "source": [
        "We can compute a 95% confidence interval for the test RMSE:"
      ]
    },
    {
      "cell_type": "code",
      "metadata": {
        "id": "ufIIlutqEhVd",
        "colab_type": "code",
        "colab": {
          "base_uri": "https://localhost:8080/",
          "height": 34
        },
        "outputId": "44571c9d-4aba-424b-97e8-f7dc0afa6619"
      },
      "source": [
        "from scipy import stats\n",
        "\n",
        "confidence = 0.95\n",
        "squared_errors = (final_predictions - y_test) ** 2\n",
        "np.sqrt(stats.t.interval(confidence, len(squared_errors) - 1,\n",
        "                         loc=squared_errors.mean(),\n",
        "                         scale=stats.sem(squared_errors)))"
      ],
      "execution_count": null,
      "outputs": [
        {
          "output_type": "execute_result",
          "data": {
            "text/plain": [
              "array([45685.10470776, 49691.25001878])"
            ]
          },
          "metadata": {
            "tags": []
          },
          "execution_count": 49
        }
      ]
    },
    {
      "cell_type": "markdown",
      "metadata": {
        "id": "QyesrZs9EhVe",
        "colab_type": "text"
      },
      "source": [
        "We could compute the interval manually like this:"
      ]
    },
    {
      "cell_type": "code",
      "metadata": {
        "id": "ndzFuuwbEhVe",
        "colab_type": "code",
        "colab": {
          "base_uri": "https://localhost:8080/",
          "height": 34
        },
        "outputId": "d90cbb93-0af3-40b4-8fbb-839cb13fc5d5"
      },
      "source": [
        "m = len(squared_errors)\n",
        "mean = squared_errors.mean()\n",
        "tscore = stats.t.ppf((1 + confidence) / 2, df=m - 1)\n",
        "tmargin = tscore * squared_errors.std(ddof=1) / np.sqrt(m)\n",
        "np.sqrt(mean - tmargin), np.sqrt(mean + tmargin)"
      ],
      "execution_count": null,
      "outputs": [
        {
          "output_type": "execute_result",
          "data": {
            "text/plain": [
              "(45685.10470776, 49691.25001877858)"
            ]
          },
          "metadata": {
            "tags": []
          },
          "execution_count": 50
        }
      ]
    },
    {
      "cell_type": "markdown",
      "metadata": {
        "id": "j95SX8NbEhVf",
        "colab_type": "text"
      },
      "source": [
        "Alternatively, we could use a z-scores rather than t-scores:"
      ]
    },
    {
      "cell_type": "code",
      "metadata": {
        "id": "eW3jO8PSEhVf",
        "colab_type": "code",
        "colab": {},
        "outputId": "110633b4-aa62-4004-e00f-f3d209f575a2"
      },
      "source": [
        "zscore = stats.norm.ppf((1 + confidence) / 2)\n",
        "zmargin = zscore * squared_errors.std(ddof=1) / np.sqrt(m)\n",
        "np.sqrt(mean - zmargin), np.sqrt(mean + zmargin)"
      ],
      "execution_count": null,
      "outputs": [
        {
          "output_type": "execute_result",
          "data": {
            "text/plain": [
              "(45685.717918136594, 49690.68623889426)"
            ]
          },
          "metadata": {
            "tags": []
          },
          "execution_count": 111
        }
      ]
    },
    {
      "cell_type": "markdown",
      "metadata": {
        "id": "Io_dxVZPEhVg",
        "colab_type": "text"
      },
      "source": [
        "# Extra material"
      ]
    },
    {
      "cell_type": "markdown",
      "metadata": {
        "id": "VGUn1pqWEhVg",
        "colab_type": "text"
      },
      "source": [
        "## A full pipeline with both preparation and prediction"
      ]
    },
    {
      "cell_type": "code",
      "metadata": {
        "id": "xeA1kRB4EhVg",
        "colab_type": "code",
        "colab": {},
        "outputId": "3210b582-32aa-4163-af5b-4c39cbfe6e84"
      },
      "source": [
        "full_pipeline_with_predictor = Pipeline([\n",
        "        (\"preparation\", full_pipeline),\n",
        "        (\"linear\", LinearRegression())\n",
        "    ])\n",
        "\n",
        "full_pipeline_with_predictor.fit(housing, housing_labels)\n",
        "full_pipeline_with_predictor.predict(some_data)"
      ],
      "execution_count": null,
      "outputs": [
        {
          "output_type": "execute_result",
          "data": {
            "text/plain": [
              "array([210644.60459286, 317768.80697211, 210956.43331178,  59218.98886849,\n",
              "       189747.55849879])"
            ]
          },
          "metadata": {
            "tags": []
          },
          "execution_count": 112
        }
      ]
    },
    {
      "cell_type": "markdown",
      "metadata": {
        "id": "huqoxyLaEhVj",
        "colab_type": "text"
      },
      "source": [
        "## Model persistence using joblib"
      ]
    },
    {
      "cell_type": "code",
      "metadata": {
        "id": "ijqVhEjEEhVj",
        "colab_type": "code",
        "colab": {}
      },
      "source": [
        "my_model = full_pipeline_with_predictor"
      ],
      "execution_count": null,
      "outputs": []
    },
    {
      "cell_type": "code",
      "metadata": {
        "id": "EDcOYOJrEhVk",
        "colab_type": "code",
        "colab": {}
      },
      "source": [
        "import joblib\n",
        "joblib.dump(my_model, \"my_model.pkl\") # DIFF\n",
        "#...\n",
        "my_model_loaded = joblib.load(\"my_model.pkl\") # DIFF"
      ],
      "execution_count": null,
      "outputs": []
    },
    {
      "cell_type": "markdown",
      "metadata": {
        "id": "nuR9ayn2EhVl",
        "colab_type": "text"
      },
      "source": [
        "## Example SciPy distributions for `RandomizedSearchCV`"
      ]
    },
    {
      "cell_type": "code",
      "metadata": {
        "id": "fwbgHeZcEhVl",
        "colab_type": "code",
        "colab": {},
        "outputId": "b71d011b-68f7-48c9-f09d-251d9e26e797"
      },
      "source": [
        "from scipy.stats import geom, expon\n",
        "geom_distrib=geom(0.5).rvs(10000, random_state=42)\n",
        "expon_distrib=expon(scale=1).rvs(10000, random_state=42)\n",
        "plt.hist(geom_distrib, bins=50)\n",
        "plt.show()\n",
        "plt.hist(expon_distrib, bins=50)\n",
        "plt.show()"
      ],
      "execution_count": null,
      "outputs": [
        {
          "output_type": "display_data",
          "data": {
            "image/png": "[encoded data removed]",
            "text/plain": [
              "<Figure size 432x288 with 1 Axes>"
            ]
          },
          "metadata": {
            "tags": [],
            "needs_background": "light"
          }
        },
        {
          "output_type": "display_data",
          "data": {
            "image/png": "[encoded data removed]",
            "text/plain": [
              "<Figure size 432x288 with 1 Axes>"
            ]
          },
          "metadata": {
            "tags": [],
            "needs_background": "light"
          }
        }
      ]
    },
    {
      "cell_type": "markdown",
      "metadata": {
        "id": "8HUJ7ayKEhVl",
        "colab_type": "text"
      },
      "source": [
        "# Exercise solutions"
      ]
    },
    {
      "cell_type": "markdown",
      "metadata": {
        "id": "DNzl0jJoEhVm",
        "colab_type": "text"
      },
      "source": [
        "## 1."
      ]
    },
    {
      "cell_type": "markdown",
      "metadata": {
        "id": "tZdmFQXeEhVm",
        "colab_type": "text"
      },
      "source": [
        "Question: Try a Support Vector Machine regressor (`sklearn.svm.SVR`), with various hyperparameters such as `kernel=\"linear\"` (with various values for the `C` hyperparameter) or `kernel=\"rbf\"` (with various values for the `C` and `gamma` hyperparameters). Don't worry about what these hyperparameters mean for now. How does the best `SVR` predictor perform?"
      ]
    },
    {
      "cell_type": "code",
      "metadata": {
        "id": "aKfIif8NEhVm",
        "colab_type": "code",
        "colab": {},
        "outputId": "bca712c3-29c1-49c8-fd47-3f5f9c36a202"
      },
      "source": [
        "from sklearn.model_selection import GridSearchCV\n",
        "\n",
        "param_grid = [\n",
        "        {'kernel': ['linear'], 'C': [10., 30., 100., 300., 1000., 3000., 10000., 30000.0]},\n",
        "        {'kernel': ['rbf'], 'C': [1.0, 3.0, 10., 30., 100., 300., 1000.0],\n",
        "         'gamma': [0.01, 0.03, 0.1, 0.3, 1.0, 3.0]},\n",
        "    ]\n",
        "\n",
        "svm_reg = SVR()\n",
        "grid_search = GridSearchCV(svm_reg, param_grid, cv=5, scoring='neg_mean_squared_error', verbose=2)\n",
        "grid_search.fit(housing_prepared, housing_labels)"
      ],
      "execution_count": null,
      "outputs": [
        {
          "output_type": "stream",
          "text": [
            "Fitting 5 folds for each of 50 candidates, totalling 250 fits\n",
            "[CV] C=10.0, kernel=linear ...........................................\n"
          ],
          "name": "stdout"
        },
        {
          "output_type": "stream",
          "text": [
            "[Parallel(n_jobs=1)]: Using backend SequentialBackend with 1 concurrent workers.\n"
          ],
          "name": "stderr"
        },
        {
          "output_type": "stream",
          "text": [
            "[CV] ............................ C=10.0, kernel=linear, total=   5.1s\n",
            "[CV] C=10.0, kernel=linear ...........................................\n"
          ],
          "name": "stdout"
        },
        {
          "output_type": "stream",
          "text": [
            "[Parallel(n_jobs=1)]: Done   1 out of   1 | elapsed:    7.3s remaining:    0.0s\n"
          ],
          "name": "stderr"
        },
        {
          "output_type": "stream",
          "text": [
            "[CV] ............................ C=10.0, kernel=linear, total=   5.1s\n",
            "[CV] C=10.0, kernel=linear ...........................................\n",
            "[CV] ............................ C=10.0, kernel=linear, total=   5.2s\n",
            "[CV] C=10.0, kernel=linear ...........................................\n",
            "[CV] ............................ C=10.0, kernel=linear, total=   5.1s\n",
            "[CV] C=10.0, kernel=linear ...........................................\n",
            "[CV] ............................ C=10.0, kernel=linear, total=   5.1s\n",
            "[CV] C=30.0, kernel=linear ...........................................\n",
            "[CV] ............................ C=30.0, kernel=linear, total=   5.0s\n",
            "[CV] C=30.0, kernel=linear ...........................................\n",
            "[CV] ............................ C=30.0, kernel=linear, total=   5.0s\n",
            "[CV] C=30.0, kernel=linear ...........................................\n",
            "[CV] ............................ C=30.0, kernel=linear, total=   5.3s\n",
            "[CV] C=30.0, kernel=linear ...........................................\n",
            "[CV] ............................ C=30.0, kernel=linear, total=   5.1s\n",
            "[CV] C=30.0, kernel=linear ...........................................\n",
            "[CV] ............................ C=30.0, kernel=linear, total=   5.0s\n",
            "[CV] C=100.0, kernel=linear ..........................................\n",
            "[CV] ........................... C=100.0, kernel=linear, total=   5.1s\n",
            "[CV] C=100.0, kernel=linear ..........................................\n",
            "[CV] ........................... C=100.0, kernel=linear, total=   5.0s\n",
            "[CV] C=100.0, kernel=linear ..........................................\n",
            "[CV] ........................... C=100.0, kernel=linear, total=   5.1s\n",
            "[CV] C=100.0, kernel=linear ..........................................\n",
            "[CV] ........................... C=100.0, kernel=linear, total=   5.0s\n",
            "[CV] C=100.0, kernel=linear ..........................................\n",
            "[CV] ........................... C=100.0, kernel=linear, total=   5.0s\n",
            "[CV] C=300.0, kernel=linear ..........................................\n",
            "[CV] ........................... C=300.0, kernel=linear, total=   5.1s\n",
            "<<434 more lines>>\n",
            "[CV] C=1000.0, gamma=0.1, kernel=rbf .................................\n",
            "[CV] .................. C=1000.0, gamma=0.1, kernel=rbf, total=   8.0s\n",
            "[CV] C=1000.0, gamma=0.1, kernel=rbf .................................\n",
            "[CV] .................. C=1000.0, gamma=0.1, kernel=rbf, total=   8.0s\n",
            "[CV] C=1000.0, gamma=0.3, kernel=rbf .................................\n",
            "[CV] .................. C=1000.0, gamma=0.3, kernel=rbf, total=   8.0s\n",
            "[CV] C=1000.0, gamma=0.3, kernel=rbf .................................\n",
            "[CV] .................. C=1000.0, gamma=0.3, kernel=rbf, total=   8.0s\n",
            "[CV] C=1000.0, gamma=0.3, kernel=rbf .................................\n",
            "[CV] .................. C=1000.0, gamma=0.3, kernel=rbf, total=   8.0s\n",
            "[CV] C=1000.0, gamma=0.3, kernel=rbf .................................\n",
            "[CV] .................. C=1000.0, gamma=0.3, kernel=rbf, total=   8.0s\n",
            "[CV] C=1000.0, gamma=0.3, kernel=rbf .................................\n",
            "[CV] .................. C=1000.0, gamma=0.3, kernel=rbf, total=   8.0s\n",
            "[CV] C=1000.0, gamma=1.0, kernel=rbf .................................\n",
            "[CV] .................. C=1000.0, gamma=1.0, kernel=rbf, total=   8.6s\n",
            "[CV] C=1000.0, gamma=1.0, kernel=rbf .................................\n",
            "[CV] .................. C=1000.0, gamma=1.0, kernel=rbf, total=   8.7s\n",
            "[CV] C=1000.0, gamma=1.0, kernel=rbf .................................\n",
            "[CV] .................. C=1000.0, gamma=1.0, kernel=rbf, total=   9.4s\n",
            "[CV] C=1000.0, gamma=1.0, kernel=rbf .................................\n",
            "[CV] .................. C=1000.0, gamma=1.0, kernel=rbf, total=   9.1s\n",
            "[CV] C=1000.0, gamma=1.0, kernel=rbf .................................\n",
            "[CV] .................. C=1000.0, gamma=1.0, kernel=rbf, total=   8.9s\n",
            "[CV] C=1000.0, gamma=3.0, kernel=rbf .................................\n",
            "[CV] .................. C=1000.0, gamma=3.0, kernel=rbf, total=  10.9s\n",
            "[CV] C=1000.0, gamma=3.0, kernel=rbf .................................\n",
            "[CV] .................. C=1000.0, gamma=3.0, kernel=rbf, total=  11.1s\n",
            "[CV] C=1000.0, gamma=3.0, kernel=rbf .................................\n",
            "[CV] .................. C=1000.0, gamma=3.0, kernel=rbf, total=  11.1s\n",
            "[CV] C=1000.0, gamma=3.0, kernel=rbf .................................\n",
            "[CV] .................. C=1000.0, gamma=3.0, kernel=rbf, total=  11.0s\n",
            "[CV] C=1000.0, gamma=3.0, kernel=rbf .................................\n",
            "[CV] .................. C=1000.0, gamma=3.0, kernel=rbf, total=  11.1s\n"
          ],
          "name": "stdout"
        },
        {
          "output_type": "stream",
          "text": [
            "[Parallel(n_jobs=1)]: Done 250 out of 250 | elapsed: 52.8min finished\n"
          ],
          "name": "stderr"
        },
        {
          "output_type": "execute_result",
          "data": {
            "text/plain": [
              "GridSearchCV(cv=5, error_score='raise-deprecating',\n",
              "       estimator=SVR(C=1.0, cache_size=200, coef0=0.0, degree=3, epsilon=0.1,\n",
              "  gamma='auto_deprecated', kernel='rbf', max_iter=-1, shrinking=True,\n",
              "  tol=0.001, verbose=False),\n",
              "       fit_params=None, iid='warn', n_jobs=None,\n",
              "       param_grid=[{'kernel': ['linear'], 'C': [10.0, 30.0, 100.0, 300.0, 1000.0, 3000.0, 10000.0, 30000.0]}, {'kernel': ['rbf'], 'C': [1.0, 3.0, 10.0, 30.0, 100.0, 300.0, 1000.0], 'gamma': [0.01, 0.03, 0.1, 0.3, 1.0, 3.0]}],\n",
              "       pre_dispatch='2*n_jobs', refit=True, return_train_score='warn',\n",
              "       scoring='neg_mean_squared_error', verbose=2)"
            ]
          },
          "metadata": {
            "tags": []
          },
          "execution_count": 116
        }
      ]
    },
    {
      "cell_type": "markdown",
      "metadata": {
        "id": "wXXShddFEhVn",
        "colab_type": "text"
      },
      "source": [
        "The best model achieves the following score (evaluated using 5-fold cross validation):"
      ]
    },
    {
      "cell_type": "code",
      "metadata": {
        "id": "FONIbbkvEhVn",
        "colab_type": "code",
        "colab": {},
        "outputId": "952e0aed-30f2-4b58-fa63-3852021de33c"
      },
      "source": [
        "negative_mse = grid_search.best_score_\n",
        "rmse = np.sqrt(-negative_mse)\n",
        "rmse"
      ],
      "execution_count": null,
      "outputs": [
        {
          "output_type": "execute_result",
          "data": {
            "text/plain": [
              "70363.90313964167"
            ]
          },
          "metadata": {
            "tags": []
          },
          "execution_count": 117
        }
      ]
    },
    {
      "cell_type": "markdown",
      "metadata": {
        "id": "EFGhsirrEhVn",
        "colab_type": "text"
      },
      "source": [
        "That's much worse than the `RandomForestRegressor`. Let's check the best hyperparameters found:"
      ]
    },
    {
      "cell_type": "code",
      "metadata": {
        "id": "CJF6OCAkEhVn",
        "colab_type": "code",
        "colab": {},
        "outputId": "b9e7f9ce-8806-4ac4-ed49-262e1cb6803c"
      },
      "source": [
        "grid_search.best_params_"
      ],
      "execution_count": null,
      "outputs": [
        {
          "output_type": "execute_result",
          "data": {
            "text/plain": [
              "{'C': 30000.0, 'kernel': 'linear'}"
            ]
          },
          "metadata": {
            "tags": []
          },
          "execution_count": 118
        }
      ]
    },
    {
      "cell_type": "markdown",
      "metadata": {
        "id": "46NAW9iiEhVo",
        "colab_type": "text"
      },
      "source": [
        "The linear kernel seems better than the RBF kernel. Notice that the value of `C` is the maximum tested value. When this happens you definitely want to launch the grid search again with higher values for `C` (removing the smallest values), because it is likely that higher values of `C` will be better."
      ]
    },
    {
      "cell_type": "markdown",
      "metadata": {
        "id": "H3HlBeqQEhVo",
        "colab_type": "text"
      },
      "source": [
        "## 2."
      ]
    },
    {
      "cell_type": "markdown",
      "metadata": {
        "id": "3jxho6evEhVp",
        "colab_type": "text"
      },
      "source": [
        "Question: Try replacing `GridSearchCV` with `RandomizedSearchCV`."
      ]
    },
    {
      "cell_type": "code",
      "metadata": {
        "id": "o9TyzQm_EhVp",
        "colab_type": "code",
        "colab": {},
        "outputId": "2c2a9741-9eaf-41fd-c1a1-824add29e1c3"
      },
      "source": [
        "from sklearn.model_selection import RandomizedSearchCV\n",
        "from scipy.stats import expon, reciprocal\n",
        "\n",
        "# see https://docs.scipy.org/doc/scipy/reference/stats.html\n",
        "# for `expon()` and `reciprocal()` documentation and more probability distribution functions.\n",
        "\n",
        "# Note: gamma is ignored when kernel is \"linear\"\n",
        "param_distribs = {\n",
        "        'kernel': ['linear', 'rbf'],\n",
        "        'C': reciprocal(20, 200000),\n",
        "        'gamma': expon(scale=1.0),\n",
        "    }\n",
        "\n",
        "svm_reg = SVR()\n",
        "rnd_search = RandomizedSearchCV(svm_reg, param_distributions=param_distribs,\n",
        "                                n_iter=50, cv=5, scoring='neg_mean_squared_error',\n",
        "                                verbose=2, random_state=42)\n",
        "rnd_search.fit(housing_prepared, housing_labels)"
      ],
      "execution_count": null,
      "outputs": [
        {
          "output_type": "stream",
          "text": [
            "Fitting 5 folds for each of 50 candidates, totalling 250 fits\n",
            "[CV] C=629.782329591372, gamma=3.010121430917521, kernel=linear ......\n"
          ],
          "name": "stdout"
        },
        {
          "output_type": "stream",
          "text": [
            "[Parallel(n_jobs=1)]: Using backend SequentialBackend with 1 concurrent workers.\n"
          ],
          "name": "stderr"
        },
        {
          "output_type": "stream",
          "text": [
            "[CV]  C=629.782329591372, gamma=3.010121430917521, kernel=linear, total=   5.6s\n",
            "[CV] C=629.782329591372, gamma=3.010121430917521, kernel=linear ......\n"
          ],
          "name": "stdout"
        },
        {
          "output_type": "stream",
          "text": [
            "[Parallel(n_jobs=1)]: Done   1 out of   1 | elapsed:    8.0s remaining:    0.0s\n"
          ],
          "name": "stderr"
        },
        {
          "output_type": "stream",
          "text": [
            "[CV]  C=629.782329591372, gamma=3.010121430917521, kernel=linear, total=   5.7s\n",
            "[CV] C=629.782329591372, gamma=3.010121430917521, kernel=linear ......\n",
            "[CV]  C=629.782329591372, gamma=3.010121430917521, kernel=linear, total=   5.8s\n",
            "[CV] C=629.782329591372, gamma=3.010121430917521, kernel=linear ......\n",
            "[CV]  C=629.782329591372, gamma=3.010121430917521, kernel=linear, total=   5.4s\n",
            "[CV] C=629.782329591372, gamma=3.010121430917521, kernel=linear ......\n",
            "[CV]  C=629.782329591372, gamma=3.010121430917521, kernel=linear, total=   5.8s\n",
            "[CV] C=26290.206464300216, gamma=0.9084469696321253, kernel=rbf ......\n",
            "[CV]  C=26290.206464300216, gamma=0.9084469696321253, kernel=rbf, total=  10.8s\n",
            "[CV] C=26290.206464300216, gamma=0.9084469696321253, kernel=rbf ......\n",
            "[CV]  C=26290.206464300216, gamma=0.9084469696321253, kernel=rbf, total=  11.2s\n",
            "[CV] C=26290.206464300216, gamma=0.9084469696321253, kernel=rbf ......\n",
            "[CV]  C=26290.206464300216, gamma=0.9084469696321253, kernel=rbf, total=  10.8s\n",
            "[CV] C=26290.206464300216, gamma=0.9084469696321253, kernel=rbf ......\n",
            "[CV]  C=26290.206464300216, gamma=0.9084469696321253, kernel=rbf, total=  11.4s\n",
            "[CV] C=26290.206464300216, gamma=0.9084469696321253, kernel=rbf ......\n",
            "[CV]  C=26290.206464300216, gamma=0.9084469696321253, kernel=rbf, total=  11.7s\n",
            "[CV] C=84.14107900575871, gamma=0.059838768608680676, kernel=rbf .....\n",
            "[CV]  C=84.14107900575871, gamma=0.059838768608680676, kernel=rbf, total=   9.0s\n",
            "[CV] C=84.14107900575871, gamma=0.059838768608680676, kernel=rbf .....\n",
            "[CV]  C=84.14107900575871, gamma=0.059838768608680676, kernel=rbf, total=   9.3s\n",
            "[CV] C=84.14107900575871, gamma=0.059838768608680676, kernel=rbf .....\n",
            "[CV]  C=84.14107900575871, gamma=0.059838768608680676, kernel=rbf, total=   9.0s\n",
            "[CV] C=84.14107900575871, gamma=0.059838768608680676, kernel=rbf .....\n",
            "[CV]  C=84.14107900575871, gamma=0.059838768608680676, kernel=rbf, total=   9.3s\n",
            "[CV] C=84.14107900575871, gamma=0.059838768608680676, kernel=rbf .....\n",
            "[CV]  C=84.14107900575871, gamma=0.059838768608680676, kernel=rbf, total=   8.9s\n",
            "[CV] C=432.37884813148855, gamma=0.15416196746656105, kernel=linear ..\n",
            "[CV]  C=432.37884813148855, gamma=0.15416196746656105, kernel=linear, total=   5.2s\n",
            "<<434 more lines>>\n",
            "[CV] C=61217.04421344494, gamma=1.6279689407405564, kernel=rbf .......\n",
            "[CV]  C=61217.04421344494, gamma=1.6279689407405564, kernel=rbf, total=  36.9s\n",
            "[CV] C=61217.04421344494, gamma=1.6279689407405564, kernel=rbf .......\n",
            "[CV]  C=61217.04421344494, gamma=1.6279689407405564, kernel=rbf, total=  34.8s\n",
            "[CV] C=926.9787684096649, gamma=2.147979593060577, kernel=rbf ........\n",
            "[CV]  C=926.9787684096649, gamma=2.147979593060577, kernel=rbf, total=   9.3s\n",
            "[CV] C=926.9787684096649, gamma=2.147979593060577, kernel=rbf ........\n",
            "[CV]  C=926.9787684096649, gamma=2.147979593060577, kernel=rbf, total=   9.2s\n",
            "[CV] C=926.9787684096649, gamma=2.147979593060577, kernel=rbf ........\n",
            "[CV]  C=926.9787684096649, gamma=2.147979593060577, kernel=rbf, total=   9.4s\n",
            "[CV] C=926.9787684096649, gamma=2.147979593060577, kernel=rbf ........\n",
            "[CV]  C=926.9787684096649, gamma=2.147979593060577, kernel=rbf, total=   9.5s\n",
            "[CV] C=926.9787684096649, gamma=2.147979593060577, kernel=rbf ........\n",
            "[CV]  C=926.9787684096649, gamma=2.147979593060577, kernel=rbf, total=   9.2s\n",
            "[CV] C=33946.157064934, gamma=2.2642426492862313, kernel=linear ......\n",
            "[CV]  C=33946.157064934, gamma=2.2642426492862313, kernel=linear, total=  13.4s\n",
            "[CV] C=33946.157064934, gamma=2.2642426492862313, kernel=linear ......\n",
            "[CV]  C=33946.157064934, gamma=2.2642426492862313, kernel=linear, total=  13.5s\n",
            "[CV] C=33946.157064934, gamma=2.2642426492862313, kernel=linear ......\n",
            "[CV]  C=33946.157064934, gamma=2.2642426492862313, kernel=linear, total=  12.2s\n",
            "[CV] C=33946.157064934, gamma=2.2642426492862313, kernel=linear ......\n",
            "[CV]  C=33946.157064934, gamma=2.2642426492862313, kernel=linear, total=  13.6s\n",
            "[CV] C=33946.157064934, gamma=2.2642426492862313, kernel=linear ......\n",
            "[CV]  C=33946.157064934, gamma=2.2642426492862313, kernel=linear, total=  12.7s\n",
            "[CV] C=84789.82947739525, gamma=0.3176359085304841, kernel=linear ....\n",
            "[CV]  C=84789.82947739525, gamma=0.3176359085304841, kernel=linear, total=  34.2s\n",
            "[CV] C=84789.82947739525, gamma=0.3176359085304841, kernel=linear ....\n",
            "[CV]  C=84789.82947739525, gamma=0.3176359085304841, kernel=linear, total=  24.6s\n",
            "[CV] C=84789.82947739525, gamma=0.3176359085304841, kernel=linear ....\n",
            "[CV]  C=84789.82947739525, gamma=0.3176359085304841, kernel=linear, total=  38.2s\n",
            "[CV] C=84789.82947739525, gamma=0.3176359085304841, kernel=linear ....\n",
            "[CV]  C=84789.82947739525, gamma=0.3176359085304841, kernel=linear, total=  27.7s\n",
            "[CV] C=84789.82947739525, gamma=0.3176359085304841, kernel=linear ....\n",
            "[CV]  C=84789.82947739525, gamma=0.3176359085304841, kernel=linear, total=  21.0s\n"
          ],
          "name": "stdout"
        },
        {
          "output_type": "stream",
          "text": [
            "[Parallel(n_jobs=1)]: Done 250 out of 250 | elapsed: 70.9min finished\n"
          ],
          "name": "stderr"
        },
        {
          "output_type": "execute_result",
          "data": {
            "text/plain": [
              "RandomizedSearchCV(cv=5, error_score='raise-deprecating',\n",
              "          estimator=SVR(C=1.0, cache_size=200, coef0=0.0, degree=3, epsilon=0.1,\n",
              "  gamma='auto_deprecated', kernel='rbf', max_iter=-1, shrinking=True,\n",
              "  tol=0.001, verbose=False),\n",
              "          fit_params=None, iid='warn', n_iter=50, n_jobs=None,\n",
              "          param_distributions={'kernel': ['linear', 'rbf'], 'C': <scipy.stats._distn_infrastructure.rv_frozen object at 0x1411fbbe0>, 'gamma': <scipy.stats._distn_infrastructure.rv_frozen object at 0x1411fb780>},\n",
              "          pre_dispatch='2*n_jobs', random_state=42, refit=True,\n",
              "          return_train_score='warn', scoring='neg_mean_squared_error',\n",
              "          verbose=2)"
            ]
          },
          "metadata": {
            "tags": []
          },
          "execution_count": 119
        }
      ]
    },
    {
      "cell_type": "markdown",
      "metadata": {
        "id": "zerxhunhEhVq",
        "colab_type": "text"
      },
      "source": [
        "The best model achieves the following score (evaluated using 5-fold cross validation):"
      ]
    },
    {
      "cell_type": "code",
      "metadata": {
        "id": "zvS7q5r9EhVq",
        "colab_type": "code",
        "colab": {},
        "outputId": "c78ec2ae-6f6a-46e6-a2b2-d376dba02597"
      },
      "source": [
        "negative_mse = rnd_search.best_score_\n",
        "rmse = np.sqrt(-negative_mse)\n",
        "rmse"
      ],
      "execution_count": null,
      "outputs": [
        {
          "output_type": "execute_result",
          "data": {
            "text/plain": [
              "54767.99053704408"
            ]
          },
          "metadata": {
            "tags": []
          },
          "execution_count": 120
        }
      ]
    },
    {
      "cell_type": "markdown",
      "metadata": {
        "id": "ip0JWVCpEhVq",
        "colab_type": "text"
      },
      "source": [
        "Now this is much closer to the performance of the `RandomForestRegressor` (but not quite there yet). Let's check the best hyperparameters found:"
      ]
    },
    {
      "cell_type": "code",
      "metadata": {
        "id": "RZtHwU-dEhVr",
        "colab_type": "code",
        "colab": {},
        "outputId": "46caa38f-4cf3-4e50-8a95-c5daf75f6957"
      },
      "source": [
        "rnd_search.best_params_"
      ],
      "execution_count": null,
      "outputs": [
        {
          "output_type": "execute_result",
          "data": {
            "text/plain": [
              "{'C': 157055.10989448498, 'gamma': 0.26497040005002437, 'kernel': 'rbf'}"
            ]
          },
          "metadata": {
            "tags": []
          },
          "execution_count": 121
        }
      ]
    },
    {
      "cell_type": "markdown",
      "metadata": {
        "id": "q-4i3cS8EhVs",
        "colab_type": "text"
      },
      "source": [
        "This time the search found a good set of hyperparameters for the RBF kernel. Randomized search tends to find better hyperparameters than grid search in the same amount of time."
      ]
    },
    {
      "cell_type": "markdown",
      "metadata": {
        "id": "CJo8mafxEhVs",
        "colab_type": "text"
      },
      "source": [
        "Let's look at the exponential distribution we used, with `scale=1.0`. Note that some samples are much larger or smaller than 1.0, but when you look at the log of the distribution, you can see that most values are actually concentrated roughly in the range of exp(-2) to exp(+2), which is about 0.1 to 7.4."
      ]
    },
    {
      "cell_type": "code",
      "metadata": {
        "id": "wOwRKJOxEhVs",
        "colab_type": "code",
        "colab": {},
        "outputId": "e9ec784c-481e-4173-9cdc-af473ac42a43"
      },
      "source": [
        "expon_distrib = expon(scale=1.)\n",
        "samples = expon_distrib.rvs(10000, random_state=42)\n",
        "plt.figure(figsize=(10, 4))\n",
        "plt.subplot(121)\n",
        "plt.title(\"Exponential distribution (scale=1.0)\")\n",
        "plt.hist(samples, bins=50)\n",
        "plt.subplot(122)\n",
        "plt.title(\"Log of this distribution\")\n",
        "plt.hist(np.log(samples), bins=50)\n",
        "plt.show()"
      ],
      "execution_count": null,
      "outputs": [
        {
          "output_type": "display_data",
          "data": {
            "image/png": "[encoded data removed]",
            "text/plain": [
              "<Figure size 720x288 with 2 Axes>"
            ]
          },
          "metadata": {
            "tags": [],
            "needs_background": "light"
          }
        }
      ]
    },
    {
      "cell_type": "markdown",
      "metadata": {
        "id": "sgRjt3-EEhVt",
        "colab_type": "text"
      },
      "source": [
        "The distribution we used for `C` looks quite different: the scale of the samples is picked from a uniform distribution within a given range, which is why the right graph, which represents the log of the samples, looks roughly constant. This distribution is useful when you don't have a clue of what the target scale is:"
      ]
    },
    {
      "cell_type": "code",
      "metadata": {
        "id": "lZJkWgt2EhVt",
        "colab_type": "code",
        "colab": {},
        "outputId": "70ae1ee8-be6b-433c-9812-3a40131742e8"
      },
      "source": [
        "reciprocal_distrib = reciprocal(20, 200000)\n",
        "samples = reciprocal_distrib.rvs(10000, random_state=42)\n",
        "plt.figure(figsize=(10, 4))\n",
        "plt.subplot(121)\n",
        "plt.title(\"Reciprocal distribution (scale=1.0)\")\n",
        "plt.hist(samples, bins=50)\n",
        "plt.subplot(122)\n",
        "plt.title(\"Log of this distribution\")\n",
        "plt.hist(np.log(samples), bins=50)\n",
        "plt.show()"
      ],
      "execution_count": null,
      "outputs": [
        {
          "output_type": "display_data",
          "data": {
            "image/png": "[encoded data removed]",
            "text/plain": [
              "<Figure size 720x288 with 2 Axes>"
            ]
          },
          "metadata": {
            "tags": [],
            "needs_background": "light"
          }
        }
      ]
    },
    {
      "cell_type": "markdown",
      "metadata": {
        "id": "dyBfisz7EhVu",
        "colab_type": "text"
      },
      "source": [
        "The reciprocal distribution is useful when you have no idea what the scale of the hyperparameter should be (indeed, as you can see on the figure on the right, all scales are equally likely, within the given range), whereas the exponential distribution is best when you know (more or less) what the scale of the hyperparameter should be."
      ]
    },
    {
      "cell_type": "markdown",
      "metadata": {
        "id": "ZbO4TLHbEhVu",
        "colab_type": "text"
      },
      "source": [
        "## 3."
      ]
    },
    {
      "cell_type": "markdown",
      "metadata": {
        "id": "I6m2rO-iEhVu",
        "colab_type": "text"
      },
      "source": [
        "Question: Try adding a transformer in the preparation pipeline to select only the most important attributes."
      ]
    },
    {
      "cell_type": "code",
      "metadata": {
        "id": "NLW4T63zEhVv",
        "colab_type": "code",
        "colab": {}
      },
      "source": [
        "from sklearn.base import BaseEstimator, TransformerMixin\n",
        "\n",
        "def indices_of_top_k(arr, k):\n",
        "    return np.sort(np.argpartition(np.array(arr), -k)[-k:])\n",
        "\n",
        "class TopFeatureSelector(BaseEstimator, TransformerMixin):\n",
        "    def __init__(self, feature_importances, k):\n",
        "        self.feature_importances = feature_importances\n",
        "        self.k = k\n",
        "    def fit(self, X, y=None):\n",
        "        self.feature_indices_ = indices_of_top_k(self.feature_importances, self.k)\n",
        "        return self\n",
        "    def transform(self, X):\n",
        "        return X[:, self.feature_indices_]"
      ],
      "execution_count": null,
      "outputs": []
    },
    {
      "cell_type": "markdown",
      "metadata": {
        "id": "jz8GmY06EhVw",
        "colab_type": "text"
      },
      "source": [
        "Note: this feature selector assumes that you have already computed the feature importances somehow (for example using a `RandomForestRegressor`). You may be tempted to compute them directly in the `TopFeatureSelector`'s `fit()` method, however this would likely slow down grid/randomized search since the feature importances would have to be computed for every hyperparameter combination (unless you implement some sort of cache)."
      ]
    },
    {
      "cell_type": "markdown",
      "metadata": {
        "id": "TD8aE753EhVx",
        "colab_type": "text"
      },
      "source": [
        "Let's define the number of top features we want to keep:"
      ]
    },
    {
      "cell_type": "code",
      "metadata": {
        "id": "uuag5_NIEhVx",
        "colab_type": "code",
        "colab": {}
      },
      "source": [
        "k = 5"
      ],
      "execution_count": null,
      "outputs": []
    },
    {
      "cell_type": "markdown",
      "metadata": {
        "id": "i_S4EVOAEhVy",
        "colab_type": "text"
      },
      "source": [
        "Now let's look for the indices of the top k features:"
      ]
    },
    {
      "cell_type": "code",
      "metadata": {
        "id": "Byqa9eJmEhVy",
        "colab_type": "code",
        "colab": {},
        "outputId": "6d06846f-ab58-45ef-da2f-5e363feeb038"
      },
      "source": [
        "top_k_feature_indices = indices_of_top_k(feature_importances, k)\n",
        "top_k_feature_indices"
      ],
      "execution_count": null,
      "outputs": [
        {
          "output_type": "execute_result",
          "data": {
            "text/plain": [
              "array([ 0,  1,  7,  9, 12])"
            ]
          },
          "metadata": {
            "tags": []
          },
          "execution_count": 126
        }
      ]
    },
    {
      "cell_type": "code",
      "metadata": {
        "id": "Jtzje9JcEhV0",
        "colab_type": "code",
        "colab": {},
        "outputId": "89ddd69e-7cf9-4ea4-b648-e6f650ac6d69"
      },
      "source": [
        "np.array(attributes)[top_k_feature_indices]"
      ],
      "execution_count": null,
      "outputs": [
        {
          "output_type": "execute_result",
          "data": {
            "text/plain": [
              "array(['longitude', 'latitude', 'median_income', 'pop_per_hhold',\n",
              "       'INLAND'], dtype='<U18')"
            ]
          },
          "metadata": {
            "tags": []
          },
          "execution_count": 127
        }
      ]
    },
    {
      "cell_type": "markdown",
      "metadata": {
        "id": "ISKHOrZWEhV0",
        "colab_type": "text"
      },
      "source": [
        "Let's double check that these are indeed the top k features:"
      ]
    },
    {
      "cell_type": "code",
      "metadata": {
        "id": "HnOYQ2abEhV0",
        "colab_type": "code",
        "colab": {},
        "outputId": "a1c70095-c9d4-4cba-96ad-cadae4605a1a"
      },
      "source": [
        "sorted(zip(feature_importances, attributes), reverse=True)[:k]"
      ],
      "execution_count": null,
      "outputs": [
        {
          "output_type": "execute_result",
          "data": {
            "text/plain": [
              "[(0.3661589806181342, 'median_income'),\n",
              " (0.1647809935615905, 'INLAND'),\n",
              " (0.10879295677551573, 'pop_per_hhold'),\n",
              " (0.07334423551601242, 'longitude'),\n",
              " (0.0629090704826203, 'latitude')]"
            ]
          },
          "metadata": {
            "tags": []
          },
          "execution_count": 128
        }
      ]
    },
    {
      "cell_type": "markdown",
      "metadata": {
        "id": "FdhodDdQEhV1",
        "colab_type": "text"
      },
      "source": [
        "Looking good... Now let's create a new pipeline that runs the previously defined preparation pipeline, and adds top k feature selection:"
      ]
    },
    {
      "cell_type": "code",
      "metadata": {
        "id": "gK9BuGcZEhV1",
        "colab_type": "code",
        "colab": {}
      },
      "source": [
        "preparation_and_feature_selection_pipeline = Pipeline([\n",
        "    ('preparation', full_pipeline),\n",
        "    ('feature_selection', TopFeatureSelector(feature_importances, k))\n",
        "])"
      ],
      "execution_count": null,
      "outputs": []
    },
    {
      "cell_type": "code",
      "metadata": {
        "id": "abgKgb3yEhV3",
        "colab_type": "code",
        "colab": {}
      },
      "source": [
        "housing_prepared_top_k_features = preparation_and_feature_selection_pipeline.fit_transform(housing)"
      ],
      "execution_count": null,
      "outputs": []
    },
    {
      "cell_type": "markdown",
      "metadata": {
        "id": "OTXnubJKEhV3",
        "colab_type": "text"
      },
      "source": [
        "Let's look at the features of the first 3 instances:"
      ]
    },
    {
      "cell_type": "code",
      "metadata": {
        "id": "b2XYm_8VEhV3",
        "colab_type": "code",
        "colab": {},
        "outputId": "a96d6ea0-4d72-45dc-c24d-c045b5a68a66"
      },
      "source": [
        "housing_prepared_top_k_features[0:3]"
      ],
      "execution_count": null,
      "outputs": [
        {
          "output_type": "execute_result",
          "data": {
            "text/plain": [
              "array([[-1.15604281,  0.77194962, -0.61493744, -0.08649871,  0.        ],\n",
              "       [-1.17602483,  0.6596948 ,  1.33645936, -0.03353391,  0.        ],\n",
              "       [ 1.18684903, -1.34218285, -0.5320456 , -0.09240499,  0.        ]])"
            ]
          },
          "metadata": {
            "tags": []
          },
          "execution_count": 131
        }
      ]
    },
    {
      "cell_type": "markdown",
      "metadata": {
        "id": "OA0C-1SOEhV5",
        "colab_type": "text"
      },
      "source": [
        "Now let's double check that these are indeed the top k features:"
      ]
    },
    {
      "cell_type": "code",
      "metadata": {
        "id": "qNziKgecEhV5",
        "colab_type": "code",
        "colab": {},
        "outputId": "7f87423b-3a04-40aa-dfd5-eb567a359474"
      },
      "source": [
        "housing_prepared[0:3, top_k_feature_indices]"
      ],
      "execution_count": null,
      "outputs": [
        {
          "output_type": "execute_result",
          "data": {
            "text/plain": [
              "array([[-1.15604281,  0.77194962, -0.61493744, -0.08649871,  0.        ],\n",
              "       [-1.17602483,  0.6596948 ,  1.33645936, -0.03353391,  0.        ],\n",
              "       [ 1.18684903, -1.34218285, -0.5320456 , -0.09240499,  0.        ]])"
            ]
          },
          "metadata": {
            "tags": []
          },
          "execution_count": 132
        }
      ]
    },
    {
      "cell_type": "markdown",
      "metadata": {
        "id": "bLCzU-otEhV6",
        "colab_type": "text"
      },
      "source": [
        "Works great!  :)"
      ]
    },
    {
      "cell_type": "markdown",
      "metadata": {
        "id": "KPwgcq5SEhV6",
        "colab_type": "text"
      },
      "source": [
        "## 4."
      ]
    },
    {
      "cell_type": "markdown",
      "metadata": {
        "id": "xaW4QgofEhV6",
        "colab_type": "text"
      },
      "source": [
        "Question: Try creating a single pipeline that does the full data preparation plus the final prediction."
      ]
    },
    {
      "cell_type": "code",
      "metadata": {
        "id": "pF4YRKRqEhV6",
        "colab_type": "code",
        "colab": {}
      },
      "source": [
        "prepare_select_and_predict_pipeline = Pipeline([\n",
        "    ('preparation', full_pipeline),\n",
        "    ('feature_selection', TopFeatureSelector(feature_importances, k)),\n",
        "    ('svm_reg', SVR(**rnd_search.best_params_))\n",
        "])"
      ],
      "execution_count": null,
      "outputs": []
    },
    {
      "cell_type": "code",
      "metadata": {
        "id": "z0p2tNjfEhV8",
        "colab_type": "code",
        "colab": {},
        "outputId": "ddc72164-9655-48f6-bea8-6ab3c5270b23"
      },
      "source": [
        "prepare_select_and_predict_pipeline.fit(housing, housing_labels)"
      ],
      "execution_count": null,
      "outputs": [
        {
          "output_type": "execute_result",
          "data": {
            "text/plain": [
              "Pipeline(memory=None,\n",
              "     steps=[('preparation', ColumnTransformer(n_jobs=None, remainder='drop', sparse_threshold=0.3,\n",
              "         transformer_weights=None,\n",
              "         transformers=[('num', Pipeline(memory=None,\n",
              "     steps=[('imputer', SimpleImputer(copy=True, fill_value=None, missing_values=nan,\n",
              "       strategy='median', verbos... gamma=0.26497040005002437, kernel='rbf', max_iter=-1, shrinking=True,\n",
              "  tol=0.001, verbose=False))])"
            ]
          },
          "metadata": {
            "tags": []
          },
          "execution_count": 134
        }
      ]
    },
    {
      "cell_type": "markdown",
      "metadata": {
        "id": "omp614kqEhV9",
        "colab_type": "text"
      },
      "source": [
        "Let's try the full pipeline on a few instances:"
      ]
    },
    {
      "cell_type": "code",
      "metadata": {
        "id": "FLKJFkj-EhV9",
        "colab_type": "code",
        "colab": {},
        "outputId": "7ee69aae-80d5-4aa1-aa1e-99992460bd01"
      },
      "source": [
        "some_data = housing.iloc[:4]\n",
        "some_labels = housing_labels.iloc[:4]\n",
        "\n",
        "print(\"Predictions:\\t\", prepare_select_and_predict_pipeline.predict(some_data))\n",
        "print(\"Labels:\\t\\t\", list(some_labels))"
      ],
      "execution_count": null,
      "outputs": [
        {
          "output_type": "stream",
          "text": [
            "Predictions:\t [203214.28978849 371846.88152572 173295.65441612  47328.3970888 ]\n",
            "Labels:\t\t [286600.0, 340600.0, 196900.0, 46300.0]\n"
          ],
          "name": "stdout"
        }
      ]
    },
    {
      "cell_type": "markdown",
      "metadata": {
        "id": "Xzr3LRQCEhV-",
        "colab_type": "text"
      },
      "source": [
        "Well, the full pipeline seems to work fine. Of course, the predictions are not fantastic: they would be better if we used the best `RandomForestRegressor` that we found earlier, rather than the best `SVR`."
      ]
    },
    {
      "cell_type": "markdown",
      "metadata": {
        "id": "yZMTGTK0EhV-",
        "colab_type": "text"
      },
      "source": [
        "## 5."
      ]
    },
    {
      "cell_type": "markdown",
      "metadata": {
        "id": "Pc2JUJ5BEhV-",
        "colab_type": "text"
      },
      "source": [
        "Question: Automatically explore some preparation options using `GridSearchCV`."
      ]
    },
    {
      "cell_type": "code",
      "metadata": {
        "id": "zfKk81VPEhV-",
        "colab_type": "code",
        "colab": {},
        "outputId": "9f015798-0ef8-4287-f0f6-d0a6d32668e3"
      },
      "source": [
        "param_grid = [{\n",
        "    'preparation__num__imputer__strategy': ['mean', 'median', 'most_frequent'],\n",
        "    'feature_selection__k': list(range(1, len(feature_importances) + 1))\n",
        "}]\n",
        "\n",
        "grid_search_prep = GridSearchCV(prepare_select_and_predict_pipeline, param_grid, cv=5,\n",
        "                                scoring='neg_mean_squared_error', verbose=2)\n",
        "grid_search_prep.fit(housing, housing_labels)"
      ],
      "execution_count": null,
      "outputs": [
        {
          "output_type": "stream",
          "text": [
            "Fitting 5 folds for each of 48 candidates, totalling 240 fits\n",
            "[CV] feature_selection__k=1, preparation__num__imputer__strategy=mean \n"
          ],
          "name": "stdout"
        },
        {
          "output_type": "stream",
          "text": [
            "[Parallel(n_jobs=1)]: Using backend SequentialBackend with 1 concurrent workers.\n"
          ],
          "name": "stderr"
        },
        {
          "output_type": "stream",
          "text": [
            "[CV]  feature_selection__k=1, preparation__num__imputer__strategy=mean, total=   6.1s\n",
            "[CV] feature_selection__k=1, preparation__num__imputer__strategy=mean \n"
          ],
          "name": "stdout"
        },
        {
          "output_type": "stream",
          "text": [
            "[Parallel(n_jobs=1)]: Done   1 out of   1 | elapsed:    8.9s remaining:    0.0s\n"
          ],
          "name": "stderr"
        },
        {
          "output_type": "stream",
          "text": [
            "[CV]  feature_selection__k=1, preparation__num__imputer__strategy=mean, total=   6.2s\n",
            "[CV] feature_selection__k=1, preparation__num__imputer__strategy=mean \n",
            "[CV]  feature_selection__k=1, preparation__num__imputer__strategy=mean, total=   6.1s\n",
            "[CV] feature_selection__k=1, preparation__num__imputer__strategy=mean \n",
            "[CV]  feature_selection__k=1, preparation__num__imputer__strategy=mean, total=   6.1s\n",
            "[CV] feature_selection__k=1, preparation__num__imputer__strategy=mean \n",
            "[CV]  feature_selection__k=1, preparation__num__imputer__strategy=mean, total=   6.1s\n",
            "[CV] feature_selection__k=1, preparation__num__imputer__strategy=median \n",
            "[CV]  feature_selection__k=1, preparation__num__imputer__strategy=median, total=   6.1s\n",
            "[CV] feature_selection__k=1, preparation__num__imputer__strategy=median \n",
            "[CV]  feature_selection__k=1, preparation__num__imputer__strategy=median, total=   6.1s\n",
            "[CV] feature_selection__k=1, preparation__num__imputer__strategy=median \n",
            "[CV]  feature_selection__k=1, preparation__num__imputer__strategy=median, total=   6.2s\n",
            "[CV] feature_selection__k=1, preparation__num__imputer__strategy=median \n",
            "[CV]  feature_selection__k=1, preparation__num__imputer__strategy=median, total=   6.2s\n",
            "[CV] feature_selection__k=1, preparation__num__imputer__strategy=median \n",
            "[CV]  feature_selection__k=1, preparation__num__imputer__strategy=median, total=   6.2s\n",
            "[CV] feature_selection__k=1, preparation__num__imputer__strategy=most_frequent \n",
            "[CV]  feature_selection__k=1, preparation__num__imputer__strategy=most_frequent, total=   6.1s\n",
            "[CV] feature_selection__k=1, preparation__num__imputer__strategy=most_frequent \n",
            "[CV]  feature_selection__k=1, preparation__num__imputer__strategy=most_frequent, total=   6.3s\n",
            "[CV] feature_selection__k=1, preparation__num__imputer__strategy=most_frequent \n",
            "[CV]  feature_selection__k=1, preparation__num__imputer__strategy=most_frequent, total=   6.2s\n",
            "[CV] feature_selection__k=1, preparation__num__imputer__strategy=most_frequent \n",
            "[CV]  feature_selection__k=1, preparation__num__imputer__strategy=most_frequent, total=   6.2s\n",
            "[CV] feature_selection__k=1, preparation__num__imputer__strategy=most_frequent \n",
            "[CV]  feature_selection__k=1, preparation__num__imputer__strategy=most_frequent, total=   6.2s\n",
            "[CV] feature_selection__k=2, preparation__num__imputer__strategy=mean \n",
            "[CV]  feature_selection__k=2, preparation__num__imputer__strategy=mean, total=   6.5s\n",
            "<<414 more lines>>\n",
            "[CV] feature_selection__k=15, preparation__num__imputer__strategy=most_frequent \n",
            "[CV]  feature_selection__k=15, preparation__num__imputer__strategy=most_frequent, total=  21.7s\n",
            "[CV] feature_selection__k=15, preparation__num__imputer__strategy=most_frequent \n",
            "[CV]  feature_selection__k=15, preparation__num__imputer__strategy=most_frequent, total=  26.9s\n",
            "[CV] feature_selection__k=16, preparation__num__imputer__strategy=mean \n",
            "[CV]  feature_selection__k=16, preparation__num__imputer__strategy=mean, total=  25.4s\n",
            "[CV] feature_selection__k=16, preparation__num__imputer__strategy=mean \n",
            "[CV]  feature_selection__k=16, preparation__num__imputer__strategy=mean, total=  26.4s\n",
            "[CV] feature_selection__k=16, preparation__num__imputer__strategy=mean \n",
            "[CV]  feature_selection__k=16, preparation__num__imputer__strategy=mean, total=  24.8s\n",
            "[CV] feature_selection__k=16, preparation__num__imputer__strategy=mean \n",
            "[CV]  feature_selection__k=16, preparation__num__imputer__strategy=mean, total=  25.9s\n",
            "[CV] feature_selection__k=16, preparation__num__imputer__strategy=mean \n",
            "[CV]  feature_selection__k=16, preparation__num__imputer__strategy=mean, total=  21.8s\n",
            "[CV] feature_selection__k=16, preparation__num__imputer__strategy=median \n",
            "[CV]  feature_selection__k=16, preparation__num__imputer__strategy=median, total=  22.8s\n",
            "[CV] feature_selection__k=16, preparation__num__imputer__strategy=median \n",
            "[CV]  feature_selection__k=16, preparation__num__imputer__strategy=median, total=  26.1s\n",
            "[CV] feature_selection__k=16, preparation__num__imputer__strategy=median \n",
            "[CV]  feature_selection__k=16, preparation__num__imputer__strategy=median, total=  24.5s\n",
            "[CV] feature_selection__k=16, preparation__num__imputer__strategy=median \n",
            "[CV]  feature_selection__k=16, preparation__num__imputer__strategy=median, total=  20.1s\n",
            "[CV] feature_selection__k=16, preparation__num__imputer__strategy=median \n",
            "[CV]  feature_selection__k=16, preparation__num__imputer__strategy=median, total=  25.0s\n",
            "[CV] feature_selection__k=16, preparation__num__imputer__strategy=most_frequent \n",
            "[CV]  feature_selection__k=16, preparation__num__imputer__strategy=most_frequent, total=  22.3s\n",
            "[CV] feature_selection__k=16, preparation__num__imputer__strategy=most_frequent \n",
            "[CV]  feature_selection__k=16, preparation__num__imputer__strategy=most_frequent, total=  26.0s\n",
            "[CV] feature_selection__k=16, preparation__num__imputer__strategy=most_frequent \n",
            "[CV]  feature_selection__k=16, preparation__num__imputer__strategy=most_frequent, total=  23.3s\n",
            "[CV] feature_selection__k=16, preparation__num__imputer__strategy=most_frequent \n",
            "[CV]  feature_selection__k=16, preparation__num__imputer__strategy=most_frequent, total=  23.9s\n",
            "[CV] feature_selection__k=16, preparation__num__imputer__strategy=most_frequent \n",
            "[CV]  feature_selection__k=16, preparation__num__imputer__strategy=most_frequent, total=  26.5s\n"
          ],
          "name": "stdout"
        },
        {
          "output_type": "stream",
          "text": [
            "[Parallel(n_jobs=1)]: Done 240 out of 240 | elapsed: 74.2min finished\n"
          ],
          "name": "stderr"
        },
        {
          "output_type": "execute_result",
          "data": {
            "text/plain": [
              "GridSearchCV(cv=5, error_score='raise-deprecating',\n",
              "       estimator=Pipeline(memory=None,\n",
              "     steps=[('preparation', ColumnTransformer(n_jobs=None, remainder='drop', sparse_threshold=0.3,\n",
              "         transformer_weights=None,\n",
              "         transformers=[('num', Pipeline(memory=None,\n",
              "     steps=[('imputer', SimpleImputer(copy=True, fill_value=None, missing_values=nan,\n",
              "       strategy='median', verbos... gamma=0.26497040005002437, kernel='rbf', max_iter=-1, shrinking=True,\n",
              "  tol=0.001, verbose=False))]),\n",
              "       fit_params=None, iid='warn', n_jobs=None,\n",
              "       param_grid=[{'preparation__num__imputer__strategy': ['mean', 'median', 'most_frequent'], 'feature_selection__k': [1, 2, 3, 4, 5, 6, 7, 8, 9, 10, 11, 12, 13, 14, 15, 16]}],\n",
              "       pre_dispatch='2*n_jobs', refit=True, return_train_score='warn',\n",
              "       scoring='neg_mean_squared_error', verbose=2)"
            ]
          },
          "metadata": {
            "tags": []
          },
          "execution_count": 136
        }
      ]
    },
    {
      "cell_type": "code",
      "metadata": {
        "id": "oe-DXyfWEhV_",
        "colab_type": "code",
        "colab": {},
        "outputId": "a4cdd25f-2405-44aa-8be4-2fdb0b98c8b1"
      },
      "source": [
        "grid_search_prep.best_params_"
      ],
      "execution_count": null,
      "outputs": [
        {
          "output_type": "execute_result",
          "data": {
            "text/plain": [
              "{'feature_selection__k': 15,\n",
              " 'preparation__num__imputer__strategy': 'most_frequent'}"
            ]
          },
          "metadata": {
            "tags": []
          },
          "execution_count": 137
        }
      ]
    },
    {
      "cell_type": "markdown",
      "metadata": {
        "id": "ImB2l5YkEhWB",
        "colab_type": "text"
      },
      "source": [
        "The best imputer strategy is `most_frequent` and apparently almost all features are useful (15 out of 16). The last one (`ISLAND`) seems to just add some noise."
      ]
    },
    {
      "cell_type": "markdown",
      "metadata": {
        "id": "pEISVQv1EhWB",
        "colab_type": "text"
      },
      "source": [
        "Congratulations! You already know quite a lot about Machine Learning. :)"
      ]
    }
  ]
}