{
  "nbformat": 4,
  "nbformat_minor": 0,
  "metadata": {
    "colab": {
      "name": "MNIST Classification for OSN 2021.ipynb",
      "provenance": [],
      "collapsed_sections": [],
      "toc_visible": true,
      "include_colab_link": true
    },
    "kernelspec": {
      "display_name": "Python 3",
      "name": "python3"
    },
    "accelerator": "GPU"
  },
  "cells": [
    {
      "cell_type": "markdown",
      "metadata": {
        "id": "view-in-github",
        "colab_type": "text"
      },
      "source": [
        "<a href=\"https://colab.research.google.com/github/justingrammens/machine_learning/blob/master/MNIST_Classification_for_OSN_2021.ipynb\" target=\"_parent\"><img src=\"https://colab.research.google.com/assets/colab-badge.svg\" alt=\"Open In Colab\"/></a>"
      ]
    },
    {
      "cell_type": "markdown",
      "metadata": {
        "id": "MhoQ0WE77laV"
      },
      "source": [
        "#### Fashion MNIST Classification Example for Open Source North 2021 by Justin Grammens ( justin@grammens.com )"
      ]
    },
    {
      "cell_type": "code",
      "metadata": {
        "cellView": "form",
        "id": "_ckMIh7O7s6D"
      },
      "source": [
        "#@title Licensed under the Apache License, Version 2.0 (the \"License\");\n",
        "# you may not use this file except in compliance with the License.\n",
        "# You may obtain a copy of the License at\n",
        "#\n",
        "# https://www.apache.org/licenses/LICENSE-2.0\n",
        "#\n",
        "# Unless required by applicable law or agreed to in writing, software\n",
        "# distributed under the License is distributed on an \"AS IS\" BASIS,\n",
        "# WITHOUT WARRANTIES OR CONDITIONS OF ANY KIND, either express or implied.\n",
        "# See the License for the specific language governing permissions and\n",
        "# limitations under the License."
      ],
      "execution_count": null,
      "outputs": []
    },
    {
      "cell_type": "code",
      "metadata": {
        "cellView": "form",
        "id": "vasWnqRgy1H4"
      },
      "source": [
        "#@title MIT License\n",
        "#\n",
        "# Copyright (c) 2017 François Chollet\n",
        "#\n",
        "# Permission is hereby granted, free of charge, to any person obtaining a\n",
        "# copy of this software and associated documentation files (the \"Software\"),\n",
        "# to deal in the Software without restriction, including without limitation\n",
        "# the rights to use, copy, modify, merge, publish, distribute, sublicense,\n",
        "# and/or sell copies of the Software, and to permit persons to whom the\n",
        "# Software is furnished to do so, subject to the following conditions:\n",
        "#\n",
        "# The above copyright notice and this permission notice shall be included in\n",
        "# all copies or substantial portions of the Software.\n",
        "#\n",
        "# THE SOFTWARE IS PROVIDED \"AS IS\", WITHOUT WARRANTY OF ANY KIND, EXPRESS OR\n",
        "# IMPLIED, INCLUDING BUT NOT LIMITED TO THE WARRANTIES OF MERCHANTABILITY,\n",
        "# FITNESS FOR A PARTICULAR PURPOSE AND NONINFRINGEMENT. IN NO EVENT SHALL\n",
        "# THE AUTHORS OR COPYRIGHT HOLDERS BE LIABLE FOR ANY CLAIM, DAMAGES OR OTHER\n",
        "# LIABILITY, WHETHER IN AN ACTION OF CONTRACT, TORT OR OTHERWISE, ARISING\n",
        "# FROM, OUT OF OR IN CONNECTION WITH THE SOFTWARE OR THE USE OR OTHER\n",
        "# DEALINGS IN THE SOFTWARE."
      ],
      "execution_count": null,
      "outputs": []
    },
    {
      "cell_type": "markdown",
      "metadata": {
        "id": "jYysdyb-CaWM"
      },
      "source": [
        "# Basic classification: Classify images of clothing"
      ]
    },
    {
      "cell_type": "markdown",
      "metadata": {
        "id": "S5Uhzt6vVIB2"
      },
      "source": [
        "<table class=\"tfo-notebook-buttons\" align=\"left\">\n",
        "  <td>\n",
        "    <a target=\"_blank\" href=\"https://www.tensorflow.org/tutorials/keras/classification\"><img src=\"https://www.tensorflow.org/images/tf_logo_32px.png\" />View on TensorFlow.org</a>\n",
        "  </td>\n",
        "  <td>\n",
        "    <a target=\"_blank\" href=\"https://colab.research.google.com/github/tensorflow/docs/blob/master/site/en/tutorials/keras/classification.ipynb\"><img src=\"https://www.tensorflow.org/images/colab_logo_32px.png\" />Run in Google Colab</a>\n",
        "  </td>\n",
        "  <td>\n",
        "    <a target=\"_blank\" href=\"https://github.com/tensorflow/docs/blob/master/site/en/tutorials/keras/classification.ipynb\"><img src=\"https://www.tensorflow.org/images/GitHub-Mark-32px.png\" />View source on GitHub</a>\n",
        "  </td>\n",
        "  <td>\n",
        "    <a href=\"https://storage.googleapis.com/tensorflow_docs/docs/site/en/tutorials/keras/classification.ipynb\"><img src=\"https://www.tensorflow.org/images/download_logo_32px.png\" />Download notebook</a>\n",
        "  </td>\n",
        "</table>"
      ]
    },
    {
      "cell_type": "markdown",
      "metadata": {
        "id": "FbVhjPpzn6BM"
      },
      "source": [
        "This guide trains a neural network model to classify images of clothing, like sneakers and shirts. It's okay if you don't understand all the details; this is a fast-paced overview of a complete TensorFlow program with the details explained as you go.\n",
        "\n",
        "This guide uses [tf.keras](https://www.tensorflow.org/guide/keras), a high-level API to build and train models in TensorFlow."
      ]
    },
    {
      "cell_type": "code",
      "metadata": {
        "id": "dzLKpmZICaWN",
        "colab": {
          "base_uri": "https://localhost:8080/"
        },
        "outputId": "e9a8bb2d-8f5f-4b20-ded9-19a299434bf6"
      },
      "source": [
        "# TensorFlow and tf.keras\n",
        "import tensorflow as tf\n",
        "\n",
        "# Helper libraries\n",
        "import numpy as np\n",
        "import matplotlib.pyplot as plt\n",
        "\n",
        "print(tf.__version__)"
      ],
      "execution_count": 24,
      "outputs": [
        {
          "output_type": "stream",
          "text": [
            "2.4.1\n"
          ],
          "name": "stdout"
        }
      ]
    },
    {
      "cell_type": "markdown",
      "metadata": {
        "id": "yR0EdgrLCaWR"
      },
      "source": [
        "## Import the Fashion MNIST dataset"
      ]
    },
    {
      "cell_type": "markdown",
      "metadata": {
        "id": "DLdCchMdCaWQ"
      },
      "source": [
        "This guide uses the [Fashion MNIST](https://github.com/zalandoresearch/fashion-mnist) dataset which contains 70,000 grayscale images in 10 categories. The images show individual articles of clothing at low resolution (28 by 28 pixels), as seen here:\n",
        "\n",
        "<table>\n",
        "  <tr><td>\n",
        "    <img src=\"https://tensorflow.org/images/fashion-mnist-sprite.png\"\n",
        "         alt=\"Fashion MNIST sprite\"  width=\"600\">\n",
        "  </td></tr>\n",
        "  <tr><td align=\"center\">\n",
        "    <b>Figure 1.</b> <a href=\"https://github.com/zalandoresearch/fashion-mnist\">Fashion-MNIST samples</a> (by Zalando, MIT License).<br/>&nbsp;\n",
        "  </td></tr>\n",
        "</table>\n",
        "\n",
        "Fashion MNIST is intended as a drop-in replacement for the classic [MNIST](http://yann.lecun.com/exdb/mnist/) dataset—often used as the \"Hello, World\" of machine learning programs for computer vision. The MNIST dataset contains images of handwritten digits (0, 1, 2, etc.) in a format identical to that of the articles of clothing you'll use here.\n",
        "\n",
        "This guide uses Fashion MNIST for variety, and because it's a slightly more challenging problem than regular MNIST. Both datasets are relatively small and are used to verify that an algorithm works as expected. They're good starting points to test and debug code.\n",
        "\n",
        "Here, 60,000 images are used to train the network and 10,000 images to evaluate how accurately the network learned to classify images. You can access the Fashion MNIST directly from TensorFlow. Import and load the Fashion MNIST data directly from TensorFlow:"
      ]
    },
    {
      "cell_type": "code",
      "metadata": {
        "id": "7MqDQO0KCaWS"
      },
      "source": [
        "fashion_mnist = tf.keras.datasets.fashion_mnist\n",
        "\n",
        "(train_images, train_labels), (test_images, test_labels) = fashion_mnist.load_data()"
      ],
      "execution_count": 25,
      "outputs": []
    },
    {
      "cell_type": "markdown",
      "metadata": {
        "id": "t9FDsUlxCaWW"
      },
      "source": [
        "Loading the dataset returns four NumPy arrays:\n",
        "\n",
        "* The `train_images` and `train_labels` arrays are the *training set*—the data the model uses to learn.\n",
        "* The model is tested against the *test set*, the `test_images`, and `test_labels` arrays.\n",
        "\n",
        "The images are 28x28 NumPy arrays, with pixel values ranging from 0 to 255. The *labels* are an array of integers, ranging from 0 to 9. These correspond to the *class* of clothing the image represents:\n",
        "\n",
        "<table>\n",
        "  <tr>\n",
        "    <th>Label</th>\n",
        "    <th>Class</th>\n",
        "  </tr>\n",
        "  <tr>\n",
        "    <td>0</td>\n",
        "    <td>T-shirt/top</td>\n",
        "  </tr>\n",
        "  <tr>\n",
        "    <td>1</td>\n",
        "    <td>Trouser</td>\n",
        "  </tr>\n",
        "    <tr>\n",
        "    <td>2</td>\n",
        "    <td>Pullover</td>\n",
        "  </tr>\n",
        "    <tr>\n",
        "    <td>3</td>\n",
        "    <td>Dress</td>\n",
        "  </tr>\n",
        "    <tr>\n",
        "    <td>4</td>\n",
        "    <td>Coat</td>\n",
        "  </tr>\n",
        "    <tr>\n",
        "    <td>5</td>\n",
        "    <td>Sandal</td>\n",
        "  </tr>\n",
        "    <tr>\n",
        "    <td>6</td>\n",
        "    <td>Shirt</td>\n",
        "  </tr>\n",
        "    <tr>\n",
        "    <td>7</td>\n",
        "    <td>Sneaker</td>\n",
        "  </tr>\n",
        "    <tr>\n",
        "    <td>8</td>\n",
        "    <td>Bag</td>\n",
        "  </tr>\n",
        "    <tr>\n",
        "    <td>9</td>\n",
        "    <td>Ankle boot</td>\n",
        "  </tr>\n",
        "</table>\n",
        "\n",
        "Each image is mapped to a single label. The labels are stored numeric ( from 0 - 9 ). Doing it this way then doesn't force the user of the data to be English. Therefore, since the *class names* are not included with the dataset, store them here to use later when plotting the images:"
      ]
    },
    {
      "cell_type": "code",
      "metadata": {
        "id": "IjnLH5S2CaWx"
      },
      "source": [
        "class_names = ['T-shirt/top', 'Trouser', 'Pullover', 'Dress', 'Coat',\n",
        "               'Sandal', 'Shirt', 'Sneaker', 'Bag', 'Ankle boot']"
      ],
      "execution_count": 26,
      "outputs": []
    },
    {
      "cell_type": "markdown",
      "metadata": {
        "id": "Brm0b_KACaWX"
      },
      "source": [
        "## Explore the data\n",
        "\n",
        "Let's explore the format of the dataset before training the model. The following shows there are 60,000 images in the training set, with each image represented as 28 x 28 pixels:"
      ]
    },
    {
      "cell_type": "code",
      "metadata": {
        "id": "zW5k_xz1CaWX",
        "colab": {
          "base_uri": "https://localhost:8080/"
        },
        "outputId": "1c8ab961-edbc-47e6-dbd9-ebc0effd6596"
      },
      "source": [
        "train_images.shape"
      ],
      "execution_count": 27,
      "outputs": [
        {
          "output_type": "execute_result",
          "data": {
            "text/plain": [
              "(60000, 28, 28)"
            ]
          },
          "metadata": {
            "tags": []
          },
          "execution_count": 27
        }
      ]
    },
    {
      "cell_type": "markdown",
      "metadata": {
        "id": "cIAcvQqMCaWf"
      },
      "source": [
        "Likewise, there are 60,000 labels in the training set:"
      ]
    },
    {
      "cell_type": "code",
      "metadata": {
        "id": "TRFYHB2mCaWb",
        "colab": {
          "base_uri": "https://localhost:8080/"
        },
        "outputId": "22d7b419-75d1-4dd7-bf3e-f9c0611106bf"
      },
      "source": [
        "len(train_labels)"
      ],
      "execution_count": 5,
      "outputs": [
        {
          "output_type": "execute_result",
          "data": {
            "text/plain": [
              "60000"
            ]
          },
          "metadata": {
            "tags": []
          },
          "execution_count": 5
        }
      ]
    },
    {
      "cell_type": "markdown",
      "metadata": {
        "id": "YSlYxFuRCaWk"
      },
      "source": [
        "Each label is an integer between 0 and 9:"
      ]
    },
    {
      "cell_type": "code",
      "metadata": {
        "id": "XKnCTHz4CaWg",
        "colab": {
          "base_uri": "https://localhost:8080/"
        },
        "outputId": "d5d8aeed-8bc5-4e27-897b-8e5bb96af702"
      },
      "source": [
        "train_labels"
      ],
      "execution_count": 6,
      "outputs": [
        {
          "output_type": "execute_result",
          "data": {
            "text/plain": [
              "array([9, 0, 0, ..., 3, 0, 5], dtype=uint8)"
            ]
          },
          "metadata": {
            "tags": []
          },
          "execution_count": 6
        }
      ]
    },
    {
      "cell_type": "markdown",
      "metadata": {
        "id": "TMPI88iZpO2T"
      },
      "source": [
        "There are 10,000 images in the test set. Again, each image is represented as 28 x 28 pixels:"
      ]
    },
    {
      "cell_type": "code",
      "metadata": {
        "id": "2KFnYlcwCaWl",
        "colab": {
          "base_uri": "https://localhost:8080/"
        },
        "outputId": "e42e5a5e-2076-4347-afa3-3eb70c7f3659"
      },
      "source": [
        "test_images.shape"
      ],
      "execution_count": 7,
      "outputs": [
        {
          "output_type": "execute_result",
          "data": {
            "text/plain": [
              "(10000, 28, 28)"
            ]
          },
          "metadata": {
            "tags": []
          },
          "execution_count": 7
        }
      ]
    },
    {
      "cell_type": "markdown",
      "metadata": {
        "id": "rd0A0Iu0CaWq"
      },
      "source": [
        "And the test set contains 10,000 images labels:"
      ]
    },
    {
      "cell_type": "code",
      "metadata": {
        "id": "iJmPr5-ACaWn",
        "colab": {
          "base_uri": "https://localhost:8080/"
        },
        "outputId": "5b7b9d04-ef54-46ff-ba69-f83d17cb065a"
      },
      "source": [
        "len(test_labels)"
      ],
      "execution_count": 8,
      "outputs": [
        {
          "output_type": "execute_result",
          "data": {
            "text/plain": [
              "10000"
            ]
          },
          "metadata": {
            "tags": []
          },
          "execution_count": 8
        }
      ]
    },
    {
      "cell_type": "markdown",
      "metadata": {
        "id": "ES6uQoLKCaWr"
      },
      "source": [
        "## Preprocess the data\n",
        "\n",
        "The data must be preprocessed before training the network. If you inspect the first image in the training set, you will see that the pixel values fall in the range of 0 to 255:"
      ]
    },
    {
      "cell_type": "code",
      "metadata": {
        "id": "m4VEw8Ud9Quh",
        "colab": {
          "base_uri": "https://localhost:8080/",
          "height": 299
        },
        "outputId": "68bbca3a-e389-49f2-f19f-8d8803caf4e1"
      },
      "source": [
        "plt.figure()\n",
        "plt.imshow(train_images[0])\n",
        "plt.colorbar()\n",
        "plt.grid(False)\n",
        "plt.show()\n",
        "trained_label = train_labels[0]\n",
        "print(\"Labeled as: \" + str(trained_label))\n",
        "print(\"Classified in English as: \" + str(class_names[trained_label]))"
      ],
      "execution_count": 28,
      "outputs": [
        {
          "output_type": "display_data",
          "data": {
            "image/png": "[encoded data removed]",
            "text/plain": [
              "<Figure size 432x288 with 2 Axes>"
            ]
          },
          "metadata": {
            "tags": [],
            "needs_background": "light"
          }
        },
        {
          "output_type": "stream",
          "text": [
            "Labeled as: 9\n",
            "Classified in English as: Ankle boot\n"
          ],
          "name": "stdout"
        }
      ]
    },
    {
      "cell_type": "markdown",
      "metadata": {
        "id": "2GHWCVBrfEt9"
      },
      "source": [
        "Let's take a look at the actual pixel values for an image. This shows the value of the label (0-9) based on the type of fashion item it's been classified as and below that, we see the value for each pixel. It goes from 0 (black) to 255 (white) and is a 28 x 28 image."
      ]
    },
    {
      "cell_type": "code",
      "metadata": {
        "id": "G0dvAekTc1Jn",
        "colab": {
          "base_uri": "https://localhost:8080/",
          "height": 1000
        },
        "outputId": "bf53cf18-066a-416d-dd45-00b86c95840f"
      },
      "source": [
        "import matplotlib.pyplot as plt\n",
        "plt.imshow(train_images[0])\n",
        "print(train_labels[0])\n",
        "print(train_images[0])"
      ],
      "execution_count": 29,
      "outputs": [
        {
          "output_type": "stream",
          "text": [
            "9\n",
            "[[  0   0   0   0   0   0   0   0   0   0   0   0   0   0   0   0   0   0\n",
            "    0   0   0   0   0   0   0   0   0   0]\n",
            " [  0   0   0   0   0   0   0   0   0   0   0   0   0   0   0   0   0   0\n",
            "    0   0   0   0   0   0   0   0   0   0]\n",
            " [  0   0   0   0   0   0   0   0   0   0   0   0   0   0   0   0   0   0\n",
            "    0   0   0   0   0   0   0   0   0   0]\n",
            " [  0   0   0   0   0   0   0   0   0   0   0   0   1   0   0  13  73   0\n",
            "    0   1   4   0   0   0   0   1   1   0]\n",
            " [  0   0   0   0   0   0   0   0   0   0   0   0   3   0  36 136 127  62\n",
            "   54   0   0   0   1   3   4   0   0   3]\n",
            " [  0   0   0   0   0   0   0   0   0   0   0   0   6   0 102 204 176 134\n",
            "  144 123  23   0   0   0   0  12  10   0]\n",
            " [  0   0   0   0   0   0   0   0   0   0   0   0   0   0 155 236 207 178\n",
            "  107 156 161 109  64  23  77 130  72  15]\n",
            " [  0   0   0   0   0   0   0   0   0   0   0   1   0  69 207 223 218 216\n",
            "  216 163 127 121 122 146 141  88 172  66]\n",
            " [  0   0   0   0   0   0   0   0   0   1   1   1   0 200 232 232 233 229\n",
            "  223 223 215 213 164 127 123 196 229   0]\n",
            " [  0   0   0   0   0   0   0   0   0   0   0   0   0 183 225 216 223 228\n",
            "  235 227 224 222 224 221 223 245 173   0]\n",
            " [  0   0   0   0   0   0   0   0   0   0   0   0   0 193 228 218 213 198\n",
            "  180 212 210 211 213 223 220 243 202   0]\n",
            " [  0   0   0   0   0   0   0   0   0   1   3   0  12 219 220 212 218 192\n",
            "  169 227 208 218 224 212 226 197 209  52]\n",
            " [  0   0   0   0   0   0   0   0   0   0   6   0  99 244 222 220 218 203\n",
            "  198 221 215 213 222 220 245 119 167  56]\n",
            " [  0   0   0   0   0   0   0   0   0   4   0   0  55 236 228 230 228 240\n",
            "  232 213 218 223 234 217 217 209  92   0]\n",
            " [  0   0   1   4   6   7   2   0   0   0   0   0 237 226 217 223 222 219\n",
            "  222 221 216 223 229 215 218 255  77   0]\n",
            " [  0   3   0   0   0   0   0   0   0  62 145 204 228 207 213 221 218 208\n",
            "  211 218 224 223 219 215 224 244 159   0]\n",
            " [  0   0   0   0  18  44  82 107 189 228 220 222 217 226 200 205 211 230\n",
            "  224 234 176 188 250 248 233 238 215   0]\n",
            " [  0  57 187 208 224 221 224 208 204 214 208 209 200 159 245 193 206 223\n",
            "  255 255 221 234 221 211 220 232 246   0]\n",
            " [  3 202 228 224 221 211 211 214 205 205 205 220 240  80 150 255 229 221\n",
            "  188 154 191 210 204 209 222 228 225   0]\n",
            " [ 98 233 198 210 222 229 229 234 249 220 194 215 217 241  65  73 106 117\n",
            "  168 219 221 215 217 223 223 224 229  29]\n",
            " [ 75 204 212 204 193 205 211 225 216 185 197 206 198 213 240 195 227 245\n",
            "  239 223 218 212 209 222 220 221 230  67]\n",
            " [ 48 203 183 194 213 197 185 190 194 192 202 214 219 221 220 236 225 216\n",
            "  199 206 186 181 177 172 181 205 206 115]\n",
            " [  0 122 219 193 179 171 183 196 204 210 213 207 211 210 200 196 194 191\n",
            "  195 191 198 192 176 156 167 177 210  92]\n",
            " [  0   0  74 189 212 191 175 172 175 181 185 188 189 188 193 198 204 209\n",
            "  210 210 211 188 188 194 192 216 170   0]\n",
            " [  2   0   0   0  66 200 222 237 239 242 246 243 244 221 220 193 191 179\n",
            "  182 182 181 176 166 168  99  58   0   0]\n",
            " [  0   0   0   0   0   0   0  40  61  44  72  41  35   0   0   0   0   0\n",
            "    0   0   0   0   0   0   0   0   0   0]\n",
            " [  0   0   0   0   0   0   0   0   0   0   0   0   0   0   0   0   0   0\n",
            "    0   0   0   0   0   0   0   0   0   0]\n",
            " [  0   0   0   0   0   0   0   0   0   0   0   0   0   0   0   0   0   0\n",
            "    0   0   0   0   0   0   0   0   0   0]]\n"
          ],
          "name": "stdout"
        },
        {
          "output_type": "display_data",
          "data": {
            "image/png": "[encoded data removed]",
            "text/plain": [
              "<Figure size 432x288 with 1 Axes>"
            ]
          },
          "metadata": {
            "tags": [],
            "needs_background": "light"
          }
        }
      ]
    },
    {
      "cell_type": "markdown",
      "metadata": {
        "id": "Wz7l27Lz9S1P"
      },
      "source": [
        "Scale each of these pixel values to a range of 0 to 1 before feeding them to the neural network model. To do so, divide the values by 255. It's important that the *training set* and the *testing set* be preprocessed in the same way:"
      ]
    },
    {
      "cell_type": "code",
      "metadata": {
        "id": "bW5WzIPlCaWv"
      },
      "source": [
        "train_images = train_images / 255.0\n",
        "\n",
        "test_images = test_images / 255.0"
      ],
      "execution_count": 30,
      "outputs": []
    },
    {
      "cell_type": "markdown",
      "metadata": {
        "id": "Ee638AlnCaWz"
      },
      "source": [
        "To verify that the data is in the correct format and that you're ready to build and train the network, let's display the first 25 images from the *training set* and display the class name below each image."
      ]
    },
    {
      "cell_type": "code",
      "metadata": {
        "id": "oZTImqg_CaW1",
        "colab": {
          "base_uri": "https://localhost:8080/",
          "height": 589
        },
        "outputId": "c6612c40-21cb-4f46-b849-01bca5a04d44"
      },
      "source": [
        "plt.figure(figsize=(10,10))\n",
        "for i in range(25):\n",
        "    plt.subplot(5,5,i+1)\n",
        "    plt.xticks([])\n",
        "    plt.yticks([])\n",
        "    plt.grid(False)\n",
        "    plt.imshow(train_images[i], cmap=plt.cm.binary)\n",
        "    plt.xlabel(class_names[train_labels[i]])\n",
        "plt.show()"
      ],
      "execution_count": 31,
      "outputs": [
        {
          "output_type": "display_data",
          "data": {
            "image/png": "[encoded data removed]",
            "text/plain": [
              "<Figure size 720x720 with 25 Axes>"
            ]
          },
          "metadata": {
            "tags": []
          }
        }
      ]
    },
    {
      "cell_type": "markdown",
      "metadata": {
        "id": "59veuiEZCaW4"
      },
      "source": [
        "## Build the model\n",
        "\n",
        "Building the neural network requires configuring the layers of the model, then compiling the model."
      ]
    },
    {
      "cell_type": "markdown",
      "metadata": {
        "id": "Gxg1XGm0eOBy"
      },
      "source": [
        "### Set up the layers\n",
        "\n",
        "The basic building block of a neural network is the *layer*. Layers extract representations from the data fed into them. Hopefully, these representations are meaningful for the problem at hand.\n",
        "\n",
        "Most of deep learning consists of chaining together simple layers. Most layers, such as `tf.keras.layers.Dense`, have parameters that are learned during training."
      ]
    },
    {
      "cell_type": "code",
      "metadata": {
        "id": "9ODch-OFCaW4"
      },
      "source": [
        "model = tf.keras.Sequential([\n",
        "    tf.keras.layers.Flatten(input_shape=(28, 28)),\n",
        "    tf.keras.layers.Dense(128, activation='relu'),\n",
        "    tf.keras.layers.Dense(10)\n",
        "])"
      ],
      "execution_count": 32,
      "outputs": []
    },
    {
      "cell_type": "markdown",
      "metadata": {
        "id": "gut8A_7rCaW6"
      },
      "source": [
        "The first layer in this network, `tf.keras.layers.Flatten`, transforms the format of the images from a two-dimensional array (of 28 by 28 pixels) to a one-dimensional array (of 28 * 28 = 784 pixels). Think of this layer as unstacking rows of pixels in the image and lining them up. This layer has no parameters to learn; it only reformats the data.\n",
        "\n"
      ]
    },
    {
      "cell_type": "markdown",
      "metadata": {
        "id": "LyTZe_HLj7RT"
      },
      "source": [
        "![untitled2.png](data:image/png;base64,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)"
      ]
    },
    {
      "cell_type": "markdown",
      "metadata": {
        "id": "dvPrREiyjwrg"
      },
      "source": [
        "After the pixels are flattened, the network consists of a sequence of two `tf.keras.layers.Dense` layers. These are densely connected, or fully connected, neural layers. The first `Dense` layer has 128 nodes (or neurons). The second (and last) layer returns a logits array with length of 10. Each node contains a score that indicates the current image belongs to one of the 10 classes.\n",
        "\n",
        "### Compile the model\n",
        "\n",
        "Before the model is ready for training, it needs a few more settings. These are added during the model's *compile* step:\n",
        "\n",
        "* *Loss function* —This measures how accurate the model is during training. You want to minimize this function to \"steer\" the model in the right direction.\n",
        "* *Optimizer* —This is how the model is updated based on the data it sees and its loss function.\n",
        "* *Metrics* —Used to monitor the training and testing steps. The following example uses [*accuracy*](https://keras.io/api/metrics/accuracy_metrics/#accuracy-class), the fraction of the images that are correctly classified."
      ]
    },
    {
      "cell_type": "code",
      "metadata": {
        "id": "Lhan11blCaW7"
      },
      "source": [
        "model.compile(optimizer='adam',\n",
        "              loss=tf.keras.losses.SparseCategoricalCrossentropy(from_logits=True),\n",
        "              metrics=['accuracy'])"
      ],
      "execution_count": 33,
      "outputs": []
    },
    {
      "cell_type": "markdown",
      "metadata": {
        "id": "qKF6uW-BCaW-"
      },
      "source": [
        "## Train the model\n",
        "\n",
        "Training the neural network model requires the following steps:\n",
        "\n",
        "1. Feed the training data to the model. In this example, the training data is in the `train_images` and `train_labels` arrays.\n",
        "2. The model learns to associate images and labels.\n",
        "3. You ask the model to make predictions about a test set—in this example, the `test_images` array.\n",
        "4. Verify that the predictions match the labels from the `test_labels` array.\n"
      ]
    },
    {
      "cell_type": "markdown",
      "metadata": {
        "id": "Z4P4zIV7E28Z"
      },
      "source": [
        "### Feed the model\n",
        "\n",
        "To start training,  call the `model.fit` method—so called because it \"fits\" the model to the training data:"
      ]
    },
    {
      "cell_type": "code",
      "metadata": {
        "id": "xvwvpA64CaW_",
        "colab": {
          "base_uri": "https://localhost:8080/"
        },
        "outputId": "6f61fe66-00b6-4733-b53a-c2731e695269"
      },
      "source": [
        "history = model.fit(train_images, train_labels, epochs=10)"
      ],
      "execution_count": 34,
      "outputs": [
        {
          "output_type": "stream",
          "text": [
            "Epoch 1/10\n",
            "1875/1875 [==============================] - 3s 2ms/step - loss: 0.6232 - accuracy: 0.7846\n",
            "Epoch 2/10\n",
            "1875/1875 [==============================] - 3s 2ms/step - loss: 0.3924 - accuracy: 0.8574\n",
            "Epoch 3/10\n",
            "1875/1875 [==============================] - 3s 2ms/step - loss: 0.3397 - accuracy: 0.8760\n",
            "Epoch 4/10\n",
            "1875/1875 [==============================] - 3s 2ms/step - loss: 0.3161 - accuracy: 0.8850\n",
            "Epoch 5/10\n",
            "1875/1875 [==============================] - 3s 2ms/step - loss: 0.2938 - accuracy: 0.8932\n",
            "Epoch 6/10\n",
            "1875/1875 [==============================] - 3s 2ms/step - loss: 0.2833 - accuracy: 0.8949\n",
            "Epoch 7/10\n",
            "1875/1875 [==============================] - 3s 2ms/step - loss: 0.2695 - accuracy: 0.9002\n",
            "Epoch 8/10\n",
            "1875/1875 [==============================] - 3s 2ms/step - loss: 0.2575 - accuracy: 0.9028\n",
            "Epoch 9/10\n",
            "1875/1875 [==============================] - 3s 2ms/step - loss: 0.2532 - accuracy: 0.9056\n",
            "Epoch 10/10\n",
            "1875/1875 [==============================] - 3s 2ms/step - loss: 0.2396 - accuracy: 0.9098\n"
          ],
          "name": "stdout"
        }
      ]
    },
    {
      "cell_type": "markdown",
      "metadata": {
        "id": "W3ZVOhugCaXA"
      },
      "source": [
        "As the model trains, the loss and accuracy metrics are displayed. This model reaches an accuracy of about 0.91 (or 91%) on the training data."
      ]
    },
    {
      "cell_type": "code",
      "metadata": {
        "colab": {
          "base_uri": "https://localhost:8080/",
          "height": 324
        },
        "id": "VUFFHH9Qlh0O",
        "outputId": "19aeacb0-193e-4e48-9182-0e8be9233f89"
      },
      "source": [
        "import pandas as pd\n",
        "pd.DataFrame(history.history).plot(figsize=(8,5))\n",
        "plt.grid(True)\n",
        "plt.gca().set_ylim(0,1) #set the vertical range from 0-1\n",
        "plt.show()\n"
      ],
      "execution_count": 35,
      "outputs": [
        {
          "output_type": "display_data",
          "data": {
            "image/png": "[encoded data removed]",
            "text/plain": [
              "<Figure size 576x360 with 1 Axes>"
            ]
          },
          "metadata": {
            "tags": [],
            "needs_background": "light"
          }
        }
      ]
    },
    {
      "cell_type": "markdown",
      "metadata": {
        "id": "wCpr6DGyE28h"
      },
      "source": [
        "### Evaluate accuracy\n",
        "\n",
        "Next, compare how the model performs on the test dataset:"
      ]
    },
    {
      "cell_type": "code",
      "metadata": {
        "id": "VflXLEeECaXC",
        "colab": {
          "base_uri": "https://localhost:8080/"
        },
        "outputId": "7571a1dc-9da9-4818-eb0b-cb4c4472d760"
      },
      "source": [
        "test_loss, test_acc = model.evaluate(test_images,  test_labels, verbose=2)\n",
        "\n",
        "print('\\nTest accuracy:', test_acc)"
      ],
      "execution_count": 36,
      "outputs": [
        {
          "output_type": "stream",
          "text": [
            "313/313 - 0s - loss: 0.3269 - accuracy: 0.8853\n",
            "\n",
            "Test accuracy: 0.8852999806404114\n"
          ],
          "name": "stdout"
        }
      ]
    },
    {
      "cell_type": "markdown",
      "metadata": {
        "id": "yWfgsmVXCaXG"
      },
      "source": [
        "It turns out that the accuracy on the test dataset is a little less than the accuracy on the training dataset. This gap between training accuracy and test accuracy represents *overfitting*. Overfitting happens when a machine learning model performs worse on new, previously unseen inputs than it does on the training data. **An overfitted model \"memorizes\" the noise and details in the training dataset to a point where it negatively impacts the performance of the model on the new data.** For more information, see the following:\n",
        "*   [Demonstrate overfitting](https://www.tensorflow.org/tutorials/keras/overfit_and_underfit#demonstrate_overfitting)\n",
        "*   [Strategies to prevent overfitting](https://www.tensorflow.org/tutorials/keras/overfit_and_underfit#strategies_to_prevent_overfitting)"
      ]
    },
    {
      "cell_type": "markdown",
      "metadata": {
        "id": "v-PyD1SYE28q"
      },
      "source": [
        "### Make predictions\n",
        "\n",
        "With the model trained, you can use it to make predictions about some images.\n",
        "The model's linear outputs, [logits](https://developers.google.com/machine-learning/glossary#logits). Attach a softmax layer to convert the logits to probabilities, which are easier to interpret. "
      ]
    },
    {
      "cell_type": "code",
      "metadata": {
        "id": "DnfNA0CrQLSD"
      },
      "source": [
        "probability_model = tf.keras.Sequential([model, \n",
        "                                         tf.keras.layers.Softmax()])"
      ],
      "execution_count": 37,
      "outputs": []
    },
    {
      "cell_type": "code",
      "metadata": {
        "id": "Gl91RPhdCaXI"
      },
      "source": [
        "predictions = probability_model.predict(test_images)"
      ],
      "execution_count": 40,
      "outputs": []
    },
    {
      "cell_type": "markdown",
      "metadata": {
        "id": "x9Kk1voUCaXJ"
      },
      "source": [
        "Here, the model has predicted the label for each image in the testing set. Let's take a look at the first prediction:"
      ]
    },
    {
      "cell_type": "code",
      "metadata": {
        "id": "3DmJEUinCaXK",
        "colab": {
          "base_uri": "https://localhost:8080/"
        },
        "outputId": "3db7c79e-1b14-4f6d-d37f-7dde30c5a299"
      },
      "source": [
        "predictions[0]"
      ],
      "execution_count": 41,
      "outputs": [
        {
          "output_type": "execute_result",
          "data": {
            "text/plain": [
              "array([1.3592418e-05, 2.7824635e-07, 1.2033701e-08, 1.9411510e-12,\n",
              "       2.2412257e-06, 2.0932960e-03, 1.0660069e-06, 8.9033283e-03,\n",
              "       1.2960827e-07, 9.8898613e-01], dtype=float32)"
            ]
          },
          "metadata": {
            "tags": []
          },
          "execution_count": 41
        }
      ]
    },
    {
      "cell_type": "markdown",
      "metadata": {
        "id": "-hw1hgeSCaXN"
      },
      "source": [
        "A prediction is an array of 10 numbers. They represent the model's \"confidence\" that the image corresponds to each of the 10 different articles of clothing. You can see which label has the highest confidence value:"
      ]
    },
    {
      "cell_type": "code",
      "metadata": {
        "id": "qsqenuPnCaXO",
        "colab": {
          "base_uri": "https://localhost:8080/"
        },
        "outputId": "d13af6b7-e102-422e-ab62-9dfbad36493e"
      },
      "source": [
        "output = np.argmax(predictions[0])\n",
        "print (output)\n",
        "print(\"Classified in English as: \" + str(class_names[output]))"
      ],
      "execution_count": 42,
      "outputs": [
        {
          "output_type": "stream",
          "text": [
            "9\n",
            "Classified in English as: Ankle boot\n"
          ],
          "name": "stdout"
        }
      ]
    },
    {
      "cell_type": "markdown",
      "metadata": {
        "id": "E51yS7iCCaXO"
      },
      "source": [
        "So, the model is most confident that this image is an ankle boot, or `class_names[9]`. Examining the test label shows that this classification is correct:"
      ]
    },
    {
      "cell_type": "code",
      "metadata": {
        "id": "Sd7Pgsu6CaXP",
        "colab": {
          "base_uri": "https://localhost:8080/"
        },
        "outputId": "733eca33-58bf-437d-cdbe-745aa6600d54"
      },
      "source": [
        "test_labels[0]"
      ],
      "execution_count": 43,
      "outputs": [
        {
          "output_type": "execute_result",
          "data": {
            "text/plain": [
              "9"
            ]
          },
          "metadata": {
            "tags": []
          },
          "execution_count": 43
        }
      ]
    },
    {
      "cell_type": "markdown",
      "metadata": {
        "id": "ygh2yYC972ne"
      },
      "source": [
        "Graph this to look at the full set of 10 class predictions."
      ]
    },
    {
      "cell_type": "code",
      "metadata": {
        "id": "DvYmmrpIy6Y1"
      },
      "source": [
        "def plot_image(i, predictions_array, true_label, img):\n",
        "  true_label, img = true_label[i], img[i]\n",
        "  plt.grid(False)\n",
        "  plt.xticks([])\n",
        "  plt.yticks([])\n",
        "\n",
        "  plt.imshow(img, cmap=plt.cm.binary)\n",
        "\n",
        "  predicted_label = np.argmax(predictions_array)\n",
        "  if predicted_label == true_label:\n",
        "    color = 'blue'\n",
        "  else:\n",
        "    color = 'red'\n",
        "\n",
        "  plt.xlabel(\"{} {:2.0f}% ({})\".format(class_names[predicted_label],\n",
        "                                100*np.max(predictions_array),\n",
        "                                class_names[true_label]),\n",
        "                                color=color)\n",
        "\n",
        "def plot_value_array(i, predictions_array, true_label):\n",
        "  true_label = true_label[i]\n",
        "  plt.grid(False)\n",
        "  plt.xticks(range(10))\n",
        "  plt.yticks([])\n",
        "  thisplot = plt.bar(range(10), predictions_array, color=\"#777777\")\n",
        "  plt.ylim([0, 1])\n",
        "  predicted_label = np.argmax(predictions_array)\n",
        "\n",
        "  thisplot[predicted_label].set_color('red')\n",
        "  thisplot[true_label].set_color('blue')"
      ],
      "execution_count": 59,
      "outputs": []
    },
    {
      "cell_type": "markdown",
      "metadata": {
        "id": "Zh9yABaME29S"
      },
      "source": [
        "### Verify predictions\n",
        "\n",
        "With the model trained, you can use it to make predictions about some images."
      ]
    },
    {
      "cell_type": "markdown",
      "metadata": {
        "id": "d4Ov9OFDMmOD"
      },
      "source": [
        "Let's look at the 0th image, predictions, and prediction array. Correct prediction labels are blue and incorrect prediction labels are red. The number gives the percentage (out of 100) for the predicted label."
      ]
    },
    {
      "cell_type": "code",
      "metadata": {
        "id": "HV5jw-5HwSmO",
        "colab": {
          "base_uri": "https://localhost:8080/",
          "height": 211
        },
        "outputId": "66dd0913-7512-482e-82ea-42911340a7d5"
      },
      "source": [
        "i = 0\n",
        "plt.figure(figsize=(6,3))\n",
        "plt.subplot(1,2,1)\n",
        "plot_image(i, predictions[i], test_labels, test_images)\n",
        "plt.subplot(1,2,2)\n",
        "plot_value_array(i, predictions[i],  test_labels)\n",
        "plt.show()"
      ],
      "execution_count": 53,
      "outputs": [
        {
          "output_type": "display_data",
          "data": {
            "image/png": "[encoded data removed]",
            "text/plain": [
              "<Figure size 432x216 with 2 Axes>"
            ]
          },
          "metadata": {
            "tags": [],
            "needs_background": "light"
          }
        }
      ]
    },
    {
      "cell_type": "markdown",
      "metadata": {
        "id": "kgdvGD52CaXR"
      },
      "source": [
        "Let's plot the first 15 images with their predictions. Note that the model can be wrong even when very confident - ***Sandal vs Sneaker***"
      ]
    },
    {
      "cell_type": "code",
      "metadata": {
        "id": "hQlnbqaw2Qu_",
        "colab": {
          "base_uri": "https://localhost:8080/",
          "height": 746
        },
        "outputId": "bc2a8c6d-6fae-421f-f2d5-9fcddceefce9"
      },
      "source": [
        "# Plot the first X test images, their predicted labels, and the true labels.\n",
        "# Color correct predictions in blue and incorrect predictions in red.\n",
        "num_rows = 5\n",
        "num_cols = 3\n",
        "num_images = num_rows*num_cols\n",
        "plt.figure(figsize=(2*2*num_cols, 2*num_rows))\n",
        "for i in range(num_images):\n",
        "  plt.subplot(num_rows, 2*num_cols, 2*i+1)\n",
        "  plot_image(i, predictions[i], test_labels, test_images)\n",
        "  plt.subplot(num_rows, 2*num_cols, 2*i+2)\n",
        "  plot_value_array(i, predictions[i], test_labels)\n",
        "plt.tight_layout()\n",
        "plt.show()\n",
        "\n",
        "print (class_names)"
      ],
      "execution_count": 60,
      "outputs": [
        {
          "output_type": "display_data",
          "data": {
            "image/png": "[encoded data removed]",
            "text/plain": [
              "<Figure size 864x720 with 30 Axes>"
            ]
          },
          "metadata": {
            "tags": [],
            "needs_background": "light"
          }
        },
        {
          "output_type": "stream",
          "text": [
            "['T-shirt/top', 'Trouser', 'Pullover', 'Dress', 'Coat', 'Sandal', 'Shirt', 'Sneaker', 'Bag', 'Ankle boot']\n"
          ],
          "name": "stdout"
        }
      ]
    },
    {
      "cell_type": "markdown",
      "metadata": {
        "id": "R32zteKHCaXT"
      },
      "source": [
        "## Use the trained model\n",
        "\n",
        "Finally, use the trained model to make a prediction about a single image."
      ]
    },
    {
      "cell_type": "code",
      "metadata": {
        "id": "yRJ7JU7JCaXT",
        "colab": {
          "base_uri": "https://localhost:8080/",
          "height": 299
        },
        "outputId": "d1c6bbcd-c508-4aeb-8f0a-8b5c180aa320"
      },
      "source": [
        "# Grab an image from the test dataset.\n",
        "img = test_images[1]\n",
        "\n",
        "print(img.shape)\n",
        "plt.imshow(img)"
      ],
      "execution_count": 61,
      "outputs": [
        {
          "output_type": "stream",
          "text": [
            "(28, 28)\n"
          ],
          "name": "stdout"
        },
        {
          "output_type": "execute_result",
          "data": {
            "text/plain": [
              "<matplotlib.image.AxesImage at 0x7f2537c4a210>"
            ]
          },
          "metadata": {
            "tags": []
          },
          "execution_count": 61
        },
        {
          "output_type": "display_data",
          "data": {
            "image/png": "[encoded data removed]",
            "text/plain": [
              "<Figure size 432x288 with 1 Axes>"
            ]
          },
          "metadata": {
            "tags": [],
            "needs_background": "light"
          }
        }
      ]
    },
    {
      "cell_type": "markdown",
      "metadata": {
        "id": "vz3bVp21CaXV"
      },
      "source": [
        "`tf.keras` models are optimized to make predictions on a *batch*, or collection, of examples at once. Accordingly, even though you're using a single image, you need to add it to a list:"
      ]
    },
    {
      "cell_type": "code",
      "metadata": {
        "id": "lDFh5yF_CaXW",
        "colab": {
          "base_uri": "https://localhost:8080/"
        },
        "outputId": "a270bf87-5f97-463b-898d-3cbe1e5b2f35"
      },
      "source": [
        "# Add the image to a batch where it's the only member.\n",
        "img = (np.expand_dims(img,0))\n",
        "\n",
        "print(img.shape)"
      ],
      "execution_count": 62,
      "outputs": [
        {
          "output_type": "stream",
          "text": [
            "(1, 28, 28)\n"
          ],
          "name": "stdout"
        }
      ]
    },
    {
      "cell_type": "markdown",
      "metadata": {
        "id": "EQ5wLTkcCaXY"
      },
      "source": [
        "Now predict the correct label for this image:"
      ]
    },
    {
      "cell_type": "code",
      "metadata": {
        "id": "o_rzNSdrCaXY",
        "colab": {
          "base_uri": "https://localhost:8080/"
        },
        "outputId": "00a8375c-1411-44b9-c58f-76724bf317bd"
      },
      "source": [
        "predictions_single = probability_model.predict(img)\n",
        "\n",
        "print(predictions_single)"
      ],
      "execution_count": 63,
      "outputs": [
        {
          "output_type": "stream",
          "text": [
            "[[9.06884270e-06 2.40695549e-12 9.95740891e-01 1.04376854e-11\n",
            "  2.70830863e-03 6.65842164e-14 1.54183502e-03 7.03875432e-16\n",
            "  1.72515544e-11 4.45879390e-13]]\n"
          ],
          "name": "stdout"
        }
      ]
    },
    {
      "cell_type": "code",
      "metadata": {
        "id": "6Ai-cpLjO-3A",
        "colab": {
          "base_uri": "https://localhost:8080/",
          "height": 300
        },
        "outputId": "c1dff324-2ad9-4d33-b3e1-c6c0483c91e8"
      },
      "source": [
        "plot_value_array(1, predictions_single[0], test_labels)\n",
        "_ = plt.xticks(range(10), class_names, rotation=45)"
      ],
      "execution_count": 64,
      "outputs": [
        {
          "output_type": "display_data",
          "data": {
            "image/png": "[encoded data removed]",
            "text/plain": [
              "<Figure size 432x288 with 1 Axes>"
            ]
          },
          "metadata": {
            "tags": [],
            "needs_background": "light"
          }
        }
      ]
    },
    {
      "cell_type": "markdown",
      "metadata": {
        "id": "cU1Y2OAMCaXb"
      },
      "source": [
        "`tf.keras.Model.predict` returns a list of lists—one list for each image in the batch of data. Grab the predictions for our (only) image in the batch:"
      ]
    },
    {
      "cell_type": "code",
      "metadata": {
        "id": "2tRmdq_8CaXb",
        "colab": {
          "base_uri": "https://localhost:8080/"
        },
        "outputId": "3b02fca6-4deb-4bfb-f5ab-d2a852c7101b"
      },
      "source": [
        "np.argmax(predictions_single[0])"
      ],
      "execution_count": 65,
      "outputs": [
        {
          "output_type": "execute_result",
          "data": {
            "text/plain": [
              "2"
            ]
          },
          "metadata": {
            "tags": []
          },
          "execution_count": 65
        }
      ]
    },
    {
      "cell_type": "markdown",
      "metadata": {
        "id": "YFc2HbEVCaXd"
      },
      "source": [
        "And the model predicts a label as expected, a label of \"2\" which is a pullover\n",
        "\n",
        "<table>\n",
        "  <tr>\n",
        "    <th>Label</th>\n",
        "    <th>Class</th>\n",
        "  </tr>\n",
        "  <tr>\n",
        "    <td>0</td>\n",
        "    <td>T-shirt/top</td>\n",
        "  </tr>\n",
        "  <tr>\n",
        "    <td>1</td>\n",
        "    <td>Trouser</td>\n",
        "  </tr>\n",
        "    <tr>\n",
        "    <td>2</td>\n",
        "    <td>Pullover</td>\n",
        "  </tr>\n",
        "    <tr>\n",
        "    <td>3</td>\n",
        "    <td>Dress</td>\n",
        "  </tr>\n",
        "    <tr>\n",
        "    <td>4</td>\n",
        "    <td>Coat</td>\n",
        "  </tr>\n",
        "    <tr>\n",
        "    <td>5</td>\n",
        "    <td>Sandal</td>\n",
        "  </tr>\n",
        "    <tr>\n",
        "    <td>6</td>\n",
        "    <td>Shirt</td>\n",
        "  </tr>\n",
        "    <tr>\n",
        "    <td>7</td>\n",
        "    <td>Sneaker</td>\n",
        "  </tr>\n",
        "    <tr>\n",
        "    <td>8</td>\n",
        "    <td>Bag</td>\n",
        "  </tr>\n",
        "    <tr>\n",
        "    <td>9</td>\n",
        "    <td>Ankle boot</td>\n",
        "  </tr>\n",
        "</table>\n"
      ]
    },
    {
      "cell_type": "markdown",
      "metadata": {
        "id": "-kLgNmBdrii5"
      },
      "source": [
        "### Callbacks\n",
        "\n",
        "Sometimes when training a neural network, we'll want to stop training once the training accuracy reaches a certain desired threshold. By doing this we can achieve what we want (optimal model weights) and avoid wastage of resources (time and computation power). We can do this with a Callback function in Tensorflow and Keras\n",
        "\n",
        "Using a callback, you define a function to be applied at given stages of the training procedure. You can use callbacks to get a view on internal states and statistics of the model during training."
      ]
    },
    {
      "cell_type": "markdown",
      "metadata": {
        "id": "Ivpf99VEkQtw"
      },
      "source": [
        "1. We will start by defining a Callback below"
      ]
    },
    {
      "cell_type": "code",
      "metadata": {
        "id": "wMWPArTRrhHI"
      },
      "source": [
        "accuracy_stopping = 0.80\n",
        "\n",
        "class myCallback(tf.keras.callbacks.Callback): \n",
        "    def on_epoch_end(self, epoch, logs={}): \n",
        "        if(logs.get('accuracy') > accuracy_stopping):   \n",
        "          print(\"\\nWe have reached %2.2f%% accuracy, so we will stopping training.\" %(accuracy_stopping*100))   \n",
        "          self.model.stop_training = True"
      ],
      "execution_count": 66,
      "outputs": []
    },
    {
      "cell_type": "markdown",
      "metadata": {
        "id": "ccl_gFWPiheY"
      },
      "source": [
        "We are creating new class by extending tf.keras.callbacks.Callback and implementing the on_epoch_end() method which will invoke at the end of epoch.\n",
        "\n",
        "Inside this class, we evaluate the value of accuracy at the end of that epoch, and if it is greater than our threshold, stop_training the training by setting in the variabile of stop_training to be equal to *True*."
      ]
    },
    {
      "cell_type": "markdown",
      "metadata": {
        "id": "-ijDlE69jEdt"
      },
      "source": [
        "2. Let's create the instance of an object of myCallback class."
      ]
    },
    {
      "cell_type": "code",
      "metadata": {
        "id": "kM4YzNnii2ud"
      },
      "source": [
        "callbacks = myCallback()"
      ],
      "execution_count": 67,
      "outputs": []
    },
    {
      "cell_type": "markdown",
      "metadata": {
        "id": "PV3c6cRvjR8l"
      },
      "source": [
        "3. When we fit our model, but calling tf.keras.Model.fit() we can use the *callbacks* variable ot have our class called each time an epoch is run."
      ]
    },
    {
      "cell_type": "code",
      "metadata": {
        "colab": {
          "base_uri": "https://localhost:8080/"
        },
        "id": "dmNxsGAdkIIj",
        "outputId": "2eecee6f-561b-4d1b-c9ef-0a2b1cc40594"
      },
      "source": [
        "history = model.fit(train_images, train_labels, epochs=10, callbacks=[callbacks])"
      ],
      "execution_count": 68,
      "outputs": [
        {
          "output_type": "stream",
          "text": [
            "Epoch 1/10\n",
            "1875/1875 [==============================] - 3s 2ms/step - loss: 0.2331 - accuracy: 0.9141\n",
            "\n",
            "We have reached 80.00% accuracy, so we will stopping training.\n"
          ],
          "name": "stdout"
        }
      ]
    },
    {
      "cell_type": "code",
      "metadata": {
        "colab": {
          "base_uri": "https://localhost:8080/"
        },
        "id": "qkp3SQCnE9MA",
        "outputId": "5702849b-9fe6-44d4-a483-a88b8df9fbfd"
      },
      "source": [
        "test_loss, test_acc = model.evaluate(test_images,  test_labels, verbose=2)\n",
        "\n",
        "print('\\nTest accuracy:', test_acc)"
      ],
      "execution_count": 69,
      "outputs": [
        {
          "output_type": "stream",
          "text": [
            "313/313 - 0s - loss: 0.3485 - accuracy: 0.8784\n",
            "\n",
            "Test accuracy: 0.8784000277519226\n"
          ],
          "name": "stdout"
        }
      ]
    }
  ]
}